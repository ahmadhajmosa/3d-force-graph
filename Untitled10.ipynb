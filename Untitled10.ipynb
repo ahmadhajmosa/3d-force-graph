{
  "nbformat": 4,
  "nbformat_minor": 0,
  "metadata": {
    "colab": {
      "name": "Untitled10.ipynb",
      "provenance": [],
      "authorship_tag": "ABX9TyNgLDGFeyYkUxVdoZ7zRRIE",
      "include_colab_link": true
    },
    "kernelspec": {
      "name": "python3",
      "display_name": "Python 3"
    }
  },
  "cells": [
    {
      "cell_type": "markdown",
      "metadata": {
        "id": "view-in-github",
        "colab_type": "text"
      },
      "source": [
        "<a href=\"https://colab.research.google.com/github/ahmadhajmosa/3d-force-graph/blob/master/Untitled10.ipynb\" target=\"_parent\"><img src=\"https://colab.research.google.com/assets/colab-badge.svg\" alt=\"Open In Colab\"/></a>"
      ]
    },
    {
      "cell_type": "code",
      "metadata": {
        "id": "lqF51cuMoVz5",
        "colab_type": "code",
        "colab": {
          "base_uri": "https://localhost:8080/",
          "height": 102
        },
        "outputId": "2280ad26-6412-49ae-f861-91caf1f98179"
      },
      "source": [
        "!pip install python-docx\n",
        "!pip install beautifulsoup4\n",
        "!pip install mammoth"
      ],
      "execution_count": 19,
      "outputs": [
        {
          "output_type": "stream",
          "text": [
            "Requirement already satisfied: python-docx in /usr/local/lib/python3.6/dist-packages (0.8.10)\n",
            "Requirement already satisfied: lxml>=2.3.2 in /usr/local/lib/python3.6/dist-packages (from python-docx) (4.2.6)\n",
            "Requirement already satisfied: beautifulsoup4 in /usr/local/lib/python3.6/dist-packages (4.6.3)\n",
            "Requirement already satisfied: mammoth in /usr/local/lib/python3.6/dist-packages (1.4.10)\n",
            "Requirement already satisfied: cobble<0.2,>=0.1.3 in /usr/local/lib/python3.6/dist-packages (from mammoth) (0.1.3)\n"
          ],
          "name": "stdout"
        }
      ]
    },
    {
      "cell_type": "code",
      "metadata": {
        "id": "TopX3VjQoXiO",
        "colab_type": "code",
        "colab": {}
      },
      "source": [
        "import mammoth\n",
        "from bs4 import BeautifulSoup\n",
        "\n",
        "with open(\"PwC Brief.docx\", \"rb\") as docx_file:\n",
        "    result = mammoth.convert_to_html(docx_file,ignore_empty_paragraphs=False)\n",
        "    html = result.value\n",
        "\n",
        "soup = BeautifulSoup(html, 'lxml')\n",
        "strong  "
      ],
      "execution_count": 16,
      "outputs": []
    },
    {
      "cell_type": "code",
      "metadata": {
        "id": "1ULgeZglcyc2",
        "colab_type": "code",
        "colab": {
          "base_uri": "https://localhost:8080/",
          "height": 54
        },
        "outputId": "894128f7-ea4b-44ff-c91c-55fa1545683b"
      },
      "source": [
        "html"
      ],
      "execution_count": 32,
      "outputs": [
        {
          "output_type": "execute_result",
          "data": {
            "text/plain": [
              "'<p><a id=\"Betreff\"></a>\\t</p><p><strong>EINSCHREIBEN</strong></p><p>Finanzamt Bruck Eisenstadt Oberwart</p><p><a id=\"OLE_LINK2\"></a><a id=\"OLE_LINK3\"></a>Team 23<br /></p><p>Neusiedlerstraße 46</p><p><strong>7001 Eisenstadt</strong></p><p></p><p>19. September 2019</p><p>KOJL</p><p></p><p></p><p></p><p></p><p></p><p></p><p><strong>Steuerpflichtiger: </strong>Michael Kors (Austria) GmbH</p><p>\\t Steuernummer 357/4506, Team 23</p><p></p><p></p><p></p><p>vertreten durch:\\tPwC PricewaterhouseCoopers</p><p>\\tWirtschaftsprüfung und Steuerberatung GmbH</p><p>\\t(Vollmacht erteilt)</p><p></p><p></p><p></p><p></p><p>\\tMMag. Gerald Dipplinger\\ti.V. Mag. Nicole Kruckenfellner</p><p>\\t\\uf02a  gerald.dipplinger@pwc.com\\t\\uf02a nicole.kruckenfellner@pwc.com</p><p>\\t\\uf028\\uf02001-501 88-3648\\t\\uf028\\uf02001-501 88-3647</p><p></p><p></p><p></p><p><strong>wegen:</strong>\\t<strong>Beilagen zur Körperschaftsteuererklärung 2018</strong></p><p></p><p></p><p></p><p></p><p></p><p></p><p></p><p><strong>EINSCHREIBEN</strong></p><p>Finanzamt Bruck Eisenstadt Oberwart</p><p>Team 23<br /></p><p>Neusiedlerstraße 46</p><p><strong>7001 Eisenstadt</strong></p><p>\\t</p><p></p><p>\\t\\t\\t\\t</p><p>19. September 2019</p><p></p><p></p><p></p><p><strong>Michael Kors (Austria) GmbH</strong></p><p>Steuernummer 357/4506, Team 23</p><p></p><p></p><p>Hiermit übermitteln wir dem Finanzamt die Beilagen I und II zur Körperschaftsteuerklärung für das Jahr 2018 sowie den Jahresabschluss zum 31.3.2018.</p><p></p><p>Die Körperschaftsteuererklärung für das Jahr 2018 wurde am 31. Juli 2019 per FinanzOnline</p><p>eingereicht.</p><p></p><p>Wir ersuchen das Finanzamt, die beiliegenden Kopien mit dem Eingangstempel zu versehen und an unseren steuerlichen Vertreter zu senden.</p><p></p><p></p><p>Michael Kors (Austria) GmbH</p><p></p><p></p><p><strong>Anlagen</strong></p><p></p>'"
            ]
          },
          "metadata": {
            "tags": []
          },
          "execution_count": 32
        }
      ]
    },
    {
      "cell_type": "code",
      "metadata": {
        "id": "PftAoSimbnqc",
        "colab_type": "code",
        "colab": {
          "base_uri": "https://localhost:8080/",
          "height": 54
        },
        "outputId": "b7b2e5df-62dd-4b0b-9f4e-075420797d3e"
      },
      "source": [
        "from bs4 import BeautifulSoup\n",
        "soup = BeautifulSoup(html, 'lxml')\n",
        "strong"
      ],
      "execution_count": 24,
      "outputs": [
        {
          "output_type": "execute_result",
          "data": {
            "text/plain": [
              "<html><body><p><a id=\"Betreff\"></a> </p><p><strong>EINSCHREIBEN</strong></p><p>Finanzamt Bruck Eisenstadt Oberwart</p><p><a id=\"OLE_LINK2\"></a><a id=\"OLE_LINK3\"></a>Team 23<br/></p><p>Neusiedlerstraße 46</p><p><strong>7001 Eisenstadt</strong></p><p></p><p>19. September 2019</p><p>KOJL</p><p></p><p></p><p></p><p></p><p></p><p></p><p><strong>Steuerpflichtiger: </strong>Michael Kors (Austria) GmbH</p><p>\t Steuernummer 357/4506, Team 23</p><p></p><p></p><p></p><p>vertreten durch:\tPwC PricewaterhouseCoopers</p><p>\tWirtschaftsprüfung und Steuerberatung GmbH</p><p>\t(Vollmacht erteilt)</p><p></p><p></p><p></p><p></p><p>\tMMag. Gerald Dipplinger\ti.V. Mag. Nicole Kruckenfellner</p><p>\t  gerald.dipplinger@pwc.com\t nicole.kruckenfellner@pwc.com</p><p>\t01-501 88-3648\t01-501 88-3647</p><p></p><p></p><p></p><p><strong>wegen:</strong> <strong>Beilagen zur Körperschaftsteuererklärung 2018</strong></p><p></p><p></p><p></p><p></p><p></p><p></p><p></p><p><strong>EINSCHREIBEN</strong></p><p>Finanzamt Bruck Eisenstadt Oberwart</p><p>Team 23<br/></p><p>Neusiedlerstraße 46</p><p><strong>7001 Eisenstadt</strong></p><p> </p><p></p><p> </p><p>19. September 2019</p><p></p><p></p><p></p><p><strong>Michael Kors (Austria) GmbH</strong></p><p>Steuernummer 357/4506, Team 23</p><p></p><p></p><p>Hiermit übermitteln wir dem Finanzamt die Beilagen I und II zur Körperschaftsteuerklärung für das Jahr 2018 sowie den Jahresabschluss zum 31.3.2018.</p><p></p><p>Die Körperschaftsteuererklärung für das Jahr 2018 wurde am 31. Juli 2019 per FinanzOnline</p><p>eingereicht.</p><p></p><p>Wir ersuchen das Finanzamt, die beiliegenden Kopien mit dem Eingangstempel zu versehen und an unseren steuerlichen Vertreter zu senden.</p><p></p><p></p><p>Michael Kors (Austria) GmbH</p><p></p><p></p><p><strong>Anlagen</strong></p><p></p></body></html>"
            ]
          },
          "metadata": {
            "tags": []
          },
          "execution_count": 24
        }
      ]
    },
    {
      "cell_type": "code",
      "metadata": {
        "id": "z3rak5yKzrif",
        "colab_type": "code",
        "colab": {}
      },
      "source": [
        "import spacy, re\n",
        "from spacy.matcher import Matcher\n",
        "from spacy.tokenizer import Tokenizer\n",
        "from spacy import displacy\n",
        "\n",
        "\n",
        "def custom_tokenizer(nlp, infix_reg):\n",
        "\t\"\"\"\n",
        "\tFunction to return a customized tokenizer based on the infix regex\n",
        "\tPARAMETERS\n",
        "\t----------\n",
        "\tnlp : Language\n",
        "\tA Spacy language object with loaded model\n",
        "\tinfix_reg : relgular expression object\n",
        "\tThe infix regular expression object based on which the tokenization is to be \n",
        "\tcarried out.\n",
        "\tRETURNS\n",
        "\t-------\n",
        "\tTokenizer : Tokenizer object\n",
        "\tThe Spacy tokenizer obtained based on the infix regex.\n",
        "\t\"\"\"\n",
        "\treturn Tokenizer(nlp.vocab, infix_finditer = infix_reg.finditer)\n"
      ],
      "execution_count": 1,
      "outputs": []
    },
    {
      "cell_type": "code",
      "metadata": {
        "id": "j-v-0snvyx1n",
        "colab_type": "code",
        "colab": {}
      },
      "source": [
        "#!python -m spacy download de_core_news_md\n",
        "#import de_core_news_md\n",
        "import spacy\n",
        "from spacy import displacy\n",
        "from spacy.scorer import Scorer\n",
        "from spacy.pipeline import EntityRuler\n",
        "import re\n",
        "spacy.prefer_gpu() # or spacy.require_gpu()\n",
        "nlp = spacy.blank('de')\n",
        "infix_re = re.compile(r'''[-/,.]''')\n",
        "nlp.tokenizer = custom_tokenizer(nlp, infix_re)\n",
        "#nlp = de_core_news_md.load()\n",
        "#test doc\n",
        "ruler = EntityRuler(nlp)\n",
        "patternd = [{'IS_ALPHA': True},{\"IS_SPACE\": False, \"OP\": \"?\"},{\"LOWER\": 'platz'.lower()}]\n",
        "patterns = [{\"label\": \"DATE\", \"pattern\": [{'LIKE_NUM': True},{'ORTH': '/' ,'OP': '?'}, {'ORTH': '.', 'OP': '?'},{'ORTH': '-', 'OP': '?'}, {'LIKE_NUM': True}, {'ORTH': '/' ,'OP': '?'}, {'ORTH': '.' ,'OP': '?'},{'ORTH': '-' ,'OP': '?'},{'LIKE_NUM': True}]},\n",
        "            {\"label\":\"LOC\", \"pattern\":[{\"LOWER\":{\"REGEX\": \"straße([a-zA-Z]*)\"}}]},\n",
        "            {\"label\":\"LOC\", \"pattern\":[{\"LOWER\":{\"REGEX\": \"platz([a-zA-Z]*)\"}}]},\n",
        "            {\"label\":\"LOC\", \"pattern\":[{\"LOWER\":{\"REGEX\": \"gasse([a-zA-Z]*)\"}}]},\n",
        "            {\"label\":\"LOC\", \"pattern\":[{\"LOWER\":{\"REGEX\": \"stadt([a-zA-Z]*)\"}}]},\n",
        "            {\"label\":\"LOC\", \"pattern\":[{\"LOWER\":{\"REGEX\": \"bundesland([a-zA-Z]*)\"}}]},\n",
        "            {\"label\":\"PER\", \"pattern\":[{\"LOWER\":{\"REGEX\": \"mag([a-zA-Z/.]*)\"}},{'ORTH': '.', 'OP': '?'},{\"TEXT\":{\"REGEX\": \"[A-Z]\"}, 'OP': '?'},{\"TEXT\":{\"REGEX\": \"[A-Z]\"}, 'OP': '?'},{\"TEXT\":{\"REGEX\": \"[A-Z]\"}, 'OP': '?'}]},\n",
        "            {\"label\":\"PER\", \"pattern\":[{\"LOWER\":{\"REGEX\": \"dipl([a-zA-Z/.]*)\"}},{'ORTH': '.', 'OP': '?'},{\"TEXT\":{\"REGEX\": \"[A-Z]\"}, 'OP': '?'},{\"TEXT\":{\"REGEX\": \"[A-Z]\"}, 'OP': '?'},{\"TEXT\":{\"REGEX\": \"[A-Z]\"}, 'OP': '?'}]},\n",
        "            {\"label\":\"PER\", \"pattern\":[{\"LOWER\":{\"REGEX\": \"dr([a-zA-Z/.]*)\"}},{'ORTH': '.', 'OP': '?'},{\"TEXT\":{\"REGEX\": \"[A-Z]\"}, 'OP': '?'},{\"TEXT\":{\"REGEX\": \"[A-Z]\"}, 'OP': '?'},{\"TEXT\":{\"REGEX\": \"[A-Z]\"}, 'OP': '?'}]},\n",
        "            {\"label\":\"PER\", \"pattern\":[{\"LOWER\":{\"REGEX\": \"ing([a-zA-Z/.]*)\"}},{'ORTH': '.', 'OP': '?'},{\"TEXT\":{\"REGEX\": \"[A-Z]\"}, 'OP': '?'},{\"TEXT\":{\"REGEX\": \"[A-Z]\"}, 'OP': '?'},{\"TEXT\":{\"REGEX\": \"[A-Z]\"}, 'OP': '?'}]},\n",
        "            {\"label\":\"PER\", \"pattern\":[{\"LOWER\":{\"REGEX\": \"habil([a-zA-Z/.]*)\"}},{'ORTH': '.', 'OP': '?'},{\"TEXT\":{\"REGEX\": \"[A-Z]\"}, 'OP': '?'},{\"TEXT\":{\"REGEX\": \"[A-Z]\"}, 'OP': '?'},{\"TEXT\":{\"REGEX\": \"[A-Z]\"}, 'OP': '?'}]},\n",
        "            {\"label\":\"PER\", \"pattern\":[{\"LOWER\":{\"REGEX\": \"frau([a-zA-Z/.]*)\"}},{'ORTH': '.', 'OP': '?'},{\"TEXT\":{\"REGEX\": \"[A-Z]\"}, 'OP': '?'},{\"TEXT\":{\"REGEX\": \"[A-Z]\"}, 'OP': '?'},{\"TEXT\":{\"REGEX\": \"[A-Z]\"}, 'OP': '?'}]},\n",
        "            {\"label\":\"PER\", \"pattern\":[{\"LOWER\":{\"REGEX\": \"herr([a-zA-Z/.]*)\"}},{'ORTH': '.', 'OP': '?'},{\"TEXT\":{\"REGEX\": \"[A-Z]\"}, 'OP': '?'},{\"TEXT\":{\"REGEX\": \"[A-Z]\"}, 'OP': '?'},{\"TEXT\":{\"REGEX\": \"[A-Z]\"}, 'OP': '?'}]},\n",
        "\n",
        "            ]\n",
        "ruler.add_patterns(patterns)\n",
        "nlp.add_pipe(ruler)"
      ],
      "execution_count": 2,
      "outputs": []
    },
    {
      "cell_type": "code",
      "metadata": {
        "id": "3Zyi8bvb-84o",
        "colab_type": "code",
        "colab": {
          "base_uri": "https://localhost:8080/",
          "height": 34
        },
        "outputId": "714ee21e-5cfa-4556-9d6a-adad004d395f"
      },
      "source": [
        "!pip install docx2txt"
      ],
      "execution_count": 3,
      "outputs": [
        {
          "output_type": "stream",
          "text": [
            "Requirement already satisfied: docx2txt in /usr/local/lib/python3.6/dist-packages (0.8)\n"
          ],
          "name": "stdout"
        }
      ]
    },
    {
      "cell_type": "code",
      "metadata": {
        "id": "FjMDl8zsFE6V",
        "colab_type": "code",
        "colab": {
          "base_uri": "https://localhost:8080/",
          "height": 130
        },
        "outputId": "8aae72a7-eff6-458d-95c6-5c649670c728"
      },
      "source": [
        "html_in.replace(\"</br></br></br>\",\"\").replace(\"</br></br>\",\"</br>\")"
      ],
      "execution_count": 20,
      "outputs": [
        {
          "output_type": "error",
          "ename": "SyntaxError",
          "evalue": "ignored",
          "traceback": [
            "\u001b[0;36m  File \u001b[0;32m\"<ipython-input-20-2aee2684a23e>\"\u001b[0;36m, line \u001b[0;32m1\u001b[0m\n\u001b[0;31m    html_in.replace(\"</br></br></br>\",\"\").(\"</br></br>\",\"</br>\")\u001b[0m\n\u001b[0m                                          ^\u001b[0m\n\u001b[0;31mSyntaxError\u001b[0m\u001b[0;31m:\u001b[0m invalid syntax\n"
          ]
        }
      ]
    },
    {
      "cell_type": "code",
      "metadata": {
        "id": "DXsFB83TDxl7",
        "colab_type": "code",
        "colab": {
          "base_uri": "https://localhost:8080/",
          "height": 1000
        },
        "outputId": "133bf60c-fbee-452d-8e9c-c1c775007002"
      },
      "source": [
        "import docx2txt\n",
        "\n",
        "\n",
        "# extract text\n",
        "text = docx2txt.process(\"PwC Brief.docx\")\n",
        "doc = nlp(text)\n",
        "html_in = displacy.render(doc,style='ent')\n",
        "import IPython\n",
        "IPython.display.HTML(html_in.replace(\"</br></br>\",\"</br>\").replace(\"</br></br>\",\"</br>\"))\n",
        "\n",
        "# Write HTML String to file.html\n",
        "#with open(\"PwC Brief.html\", \"w\") as file:\n",
        "    #file.write(html_in)"
      ],
      "execution_count": 5,
      "outputs": [
        {
          "output_type": "execute_result",
          "data": {
            "text/html": [
              "<div class=\"entities\" style=\"line-height: 2.5; direction: ltr\">PwC PricewaterhouseCoopers</br>Wirtschaftsprüfung und</br>Steuerberatung GmbH</br>Donau-City-\n",
              "<mark class=\"entity\" style=\"background: #ff9561; padding: 0.45em 0.6em; margin: 0 0.25em; line-height: 1; border-radius: 0.35em;\">\n",
              "    Straße\n",
              "    <span style=\"font-size: 0.8em; font-weight: bold; line-height: 1; border-radius: 0.35em; text-transform: uppercase; vertical-align: middle; margin-left: 0.5rem\">LOC</span>\n",
              "</mark>\n",
              " 7</br>1220 Wien</br>Tel.:\t+43 1 \n",
              "<mark class=\"entity\" style=\"background: #bfe1d9; padding: 0.45em 0.6em; margin: 0 0.25em; line-height: 1; border-radius: 0.35em;\">\n",
              "    501 88 - 0\n",
              "    <span style=\"font-size: 0.8em; font-weight: bold; line-height: 1; border-radius: 0.35em; text-transform: uppercase; vertical-align: middle; margin-left: 0.5rem\">DATE</span>\n",
              "</mark>\n",
              "</br>Fax:\t+43 1 \n",
              "<mark class=\"entity\" style=\"background: #bfe1d9; padding: 0.45em 0.6em; margin: 0 0.25em; line-height: 1; border-radius: 0.35em;\">\n",
              "    501 88 - 601\n",
              "    <span style=\"font-size: 0.8em; font-weight: bold; line-height: 1; border-radius: 0.35em; text-transform: uppercase; vertical-align: middle; margin-left: 0.5rem\">DATE</span>\n",
              "</mark>\n",
              "</br>E-Mail: office.wien@at.pwc.com</br>www.pwc.at</br>\t</br></br></br></br>EINSCHREIBEN</br>Finanzamt Bruck \n",
              "<mark class=\"entity\" style=\"background: #ff9561; padding: 0.45em 0.6em; margin: 0 0.25em; line-height: 1; border-radius: 0.35em;\">\n",
              "    Eisenstadt\n",
              "    <span style=\"font-size: 0.8em; font-weight: bold; line-height: 1; border-radius: 0.35em; text-transform: uppercase; vertical-align: middle; margin-left: 0.5rem\">LOC</span>\n",
              "</mark>\n",
              " Oberwart</br>Team 23</br>\n",
              "<mark class=\"entity\" style=\"background: #ff9561; padding: 0.45em 0.6em; margin: 0 0.25em; line-height: 1; border-radius: 0.35em;\">\n",
              "    Neusiedlerstraße\n",
              "    <span style=\"font-size: 0.8em; font-weight: bold; line-height: 1; border-radius: 0.35em; text-transform: uppercase; vertical-align: middle; margin-left: 0.5rem\">LOC</span>\n",
              "</mark>\n",
              " 46</br>7001 \n",
              "<mark class=\"entity\" style=\"background: #ff9561; padding: 0.45em 0.6em; margin: 0 0.25em; line-height: 1; border-radius: 0.35em;\">\n",
              "    Eisenstadt\n",
              "    <span style=\"font-size: 0.8em; font-weight: bold; line-height: 1; border-radius: 0.35em; text-transform: uppercase; vertical-align: middle; margin-left: 0.5rem\">LOC</span>\n",
              "</mark>\n",
              "</br>EINSCHREIBEN</br>Finanzamt Bruck \n",
              "<mark class=\"entity\" style=\"background: #ff9561; padding: 0.45em 0.6em; margin: 0 0.25em; line-height: 1; border-radius: 0.35em;\">\n",
              "    Eisenstadt\n",
              "    <span style=\"font-size: 0.8em; font-weight: bold; line-height: 1; border-radius: 0.35em; text-transform: uppercase; vertical-align: middle; margin-left: 0.5rem\">LOC</span>\n",
              "</mark>\n",
              " Oberwart</br>Team 23</br>\n",
              "<mark class=\"entity\" style=\"background: #ff9561; padding: 0.45em 0.6em; margin: 0 0.25em; line-height: 1; border-radius: 0.35em;\">\n",
              "    Neusiedlerstraße\n",
              "    <span style=\"font-size: 0.8em; font-weight: bold; line-height: 1; border-radius: 0.35em; text-transform: uppercase; vertical-align: middle; margin-left: 0.5rem\">LOC</span>\n",
              "</mark>\n",
              " 46</br>7001 \n",
              "<mark class=\"entity\" style=\"background: #ff9561; padding: 0.45em 0.6em; margin: 0 0.25em; line-height: 1; border-radius: 0.35em;\">\n",
              "    Eisenstadt\n",
              "    <span style=\"font-size: 0.8em; font-weight: bold; line-height: 1; border-radius: 0.35em; text-transform: uppercase; vertical-align: middle; margin-left: 0.5rem\">LOC</span>\n",
              "</mark>\n",
              "</br>19. September 2019</br>KOJL</br>19. September 2019</br>KOJL</br>\t</br></br></br>Steuerpflichtiger: Michael Kors (Austria) GmbH</br>\t Steuernummer 357/4506, Team 23</br></br>vertreten durch:\tPwC PricewaterhouseCoopers</br>\tWirtschaftsprüfung und Steuerberatung GmbH</br>\t(Vollmacht erteilt)</br></br></br>\t\t\t\n",
              "<mark class=\"entity\" style=\"background: #ddd; padding: 0.45em 0.6em; margin: 0 0.25em; line-height: 1; border-radius: 0.35em;\">\n",
              "    MMag. Gerald Dipplinger\n",
              "    <span style=\"font-size: 0.8em; font-weight: bold; line-height: 1; border-radius: 0.35em; text-transform: uppercase; vertical-align: middle; margin-left: 0.5rem\">PER</span>\n",
              "</mark>\n",
              "\ti.V. \n",
              "<mark class=\"entity\" style=\"background: #ddd; padding: 0.45em 0.6em; margin: 0 0.25em; line-height: 1; border-radius: 0.35em;\">\n",
              "    Mag. Nicole Kruckenfellner\n",
              "    <span style=\"font-size: 0.8em; font-weight: bold; line-height: 1; border-radius: 0.35em; text-transform: uppercase; vertical-align: middle; margin-left: 0.5rem\">PER</span>\n",
              "</mark>\n",
              "</br>\t\t  gerald.\n",
              "<mark class=\"entity\" style=\"background: #ddd; padding: 0.45em 0.6em; margin: 0 0.25em; line-height: 1; border-radius: 0.35em;\">\n",
              "    dipplinger@pwc.\n",
              "    <span style=\"font-size: 0.8em; font-weight: bold; line-height: 1; border-radius: 0.35em; text-transform: uppercase; vertical-align: middle; margin-left: 0.5rem\">PER</span>\n",
              "</mark>\n",
              "com\t nicole.kruckenfellner@pwc.com</br>\t\t\t01-\n",
              "<mark class=\"entity\" style=\"background: #bfe1d9; padding: 0.45em 0.6em; margin: 0 0.25em; line-height: 1; border-radius: 0.35em;\">\n",
              "    501 88-3648\n",
              "    <span style=\"font-size: 0.8em; font-weight: bold; line-height: 1; border-radius: 0.35em; text-transform: uppercase; vertical-align: middle; margin-left: 0.5rem\">DATE</span>\n",
              "</mark>\n",
              "\t01-\n",
              "<mark class=\"entity\" style=\"background: #bfe1d9; padding: 0.45em 0.6em; margin: 0 0.25em; line-height: 1; border-radius: 0.35em;\">\n",
              "    501 88-3647\n",
              "    <span style=\"font-size: 0.8em; font-weight: bold; line-height: 1; border-radius: 0.35em; text-transform: uppercase; vertical-align: middle; margin-left: 0.5rem\">DATE</span>\n",
              "</mark>\n",
              "</br>\t\t</br></br>wegen:\tBeilagen zur Körperschaftsteuererklärung 2018</br></br></br></br>EINSCHREIBEN</br>Finanzamt Bruck \n",
              "<mark class=\"entity\" style=\"background: #ff9561; padding: 0.45em 0.6em; margin: 0 0.25em; line-height: 1; border-radius: 0.35em;\">\n",
              "    Eisenstadt\n",
              "    <span style=\"font-size: 0.8em; font-weight: bold; line-height: 1; border-radius: 0.35em; text-transform: uppercase; vertical-align: middle; margin-left: 0.5rem\">LOC</span>\n",
              "</mark>\n",
              " Oberwart</br>Team 23</br>\n",
              "<mark class=\"entity\" style=\"background: #ff9561; padding: 0.45em 0.6em; margin: 0 0.25em; line-height: 1; border-radius: 0.35em;\">\n",
              "    Neusiedlerstraße\n",
              "    <span style=\"font-size: 0.8em; font-weight: bold; line-height: 1; border-radius: 0.35em; text-transform: uppercase; vertical-align: middle; margin-left: 0.5rem\">LOC</span>\n",
              "</mark>\n",
              " 46</br>7001 \n",
              "<mark class=\"entity\" style=\"background: #ff9561; padding: 0.45em 0.6em; margin: 0 0.25em; line-height: 1; border-radius: 0.35em;\">\n",
              "    Eisenstadt\n",
              "    <span style=\"font-size: 0.8em; font-weight: bold; line-height: 1; border-radius: 0.35em; text-transform: uppercase; vertical-align: middle; margin-left: 0.5rem\">LOC</span>\n",
              "</mark>\n",
              "</br>\t\t</br>\t</br>\t\t\t\t</br>19. September 2019</br></br>Michael Kors (Austria) GmbH</br>Steuernummer 357/4506, Team 23</br></br>Hiermit übermitteln wir dem Finanzamt die Beilagen I und II zur Körperschaftsteuerklärung für das Jahr 2018 sowie den Jahresabschluss zum \n",
              "<mark class=\"entity\" style=\"background: #bfe1d9; padding: 0.45em 0.6em; margin: 0 0.25em; line-height: 1; border-radius: 0.35em;\">\n",
              "    31.3.2018\n",
              "    <span style=\"font-size: 0.8em; font-weight: bold; line-height: 1; border-radius: 0.35em; text-transform: uppercase; vertical-align: middle; margin-left: 0.5rem\">DATE</span>\n",
              "</mark>\n",
              ".</br>Die Körperschaftsteuererklärung für das Jahr 2018 wurde am 31. Juli 2019 per FinanzOnline</br>\n",
              "<mark class=\"entity\" style=\"background: #ddd; padding: 0.45em 0.6em; margin: 0 0.25em; line-height: 1; border-radius: 0.35em;\">\n",
              "    eingereicht.\n",
              "    <span style=\"font-size: 0.8em; font-weight: bold; line-height: 1; border-radius: 0.35em; text-transform: uppercase; vertical-align: middle; margin-left: 0.5rem\">PER</span>\n",
              "</mark>\n",
              "</br>Wir ersuchen das Finanzamt, die beiliegenden Kopien mit dem \n",
              "<mark class=\"entity\" style=\"background: #ddd; padding: 0.45em 0.6em; margin: 0 0.25em; line-height: 1; border-radius: 0.35em;\">\n",
              "    Eingangstempel\n",
              "    <span style=\"font-size: 0.8em; font-weight: bold; line-height: 1; border-radius: 0.35em; text-transform: uppercase; vertical-align: middle; margin-left: 0.5rem\">PER</span>\n",
              "</mark>\n",
              " zu versehen und an unseren steuerlichen Vertreter zu senden.</br></br>Michael Kors (Austria) GmbH</br></br>Anlagen</br></br></br>Geschäftsführer: StB \n",
              "<mark class=\"entity\" style=\"background: #ddd; padding: 0.45em 0.6em; margin: 0 0.25em; line-height: 1; border-radius: 0.35em;\">\n",
              "    Mag. Monika Berndl\n",
              "    <span style=\"font-size: 0.8em; font-weight: bold; line-height: 1; border-radius: 0.35em; text-transform: uppercase; vertical-align: middle; margin-left: 0.5rem\">PER</span>\n",
              "</mark>\n",
              ", WP/StB \n",
              "<mark class=\"entity\" style=\"background: #ddd; padding: 0.45em 0.6em; margin: 0 0.25em; line-height: 1; border-radius: 0.35em;\">\n",
              "    Mag.\n",
              "    <span style=\"font-size: 0.8em; font-weight: bold; line-height: 1; border-radius: 0.35em; text-transform: uppercase; vertical-align: middle; margin-left: 0.5rem\">PER</span>\n",
              "</mark>\n",
              " \n",
              "<mark class=\"entity\" style=\"background: #ddd; padding: 0.45em 0.6em; margin: 0 0.25em; line-height: 1; border-radius: 0.35em;\">\n",
              "    Dr. Christine Catasta\n",
              "    <span style=\"font-size: 0.8em; font-weight: bold; line-height: 1; border-radius: 0.35em; text-transform: uppercase; vertical-align: middle; margin-left: 0.5rem\">PER</span>\n",
              "</mark>\n",
              ", StB \n",
              "<mark class=\"entity\" style=\"background: #ddd; padding: 0.45em 0.6em; margin: 0 0.25em; line-height: 1; border-radius: 0.35em;\">\n",
              "    MMag. Gerald Dipplinger\n",
              "    <span style=\"font-size: 0.8em; font-weight: bold; line-height: 1; border-radius: 0.35em; text-transform: uppercase; vertical-align: middle; margin-left: 0.5rem\">PER</span>\n",
              "</mark>\n",
              ", StB \n",
              "<mark class=\"entity\" style=\"background: #ddd; padding: 0.45em 0.6em; margin: 0 0.25em; line-height: 1; border-radius: 0.35em;\">\n",
              "    Mag. Johannes Edlbacher\n",
              "    <span style=\"font-size: 0.8em; font-weight: bold; line-height: 1; border-radius: 0.35em; text-transform: uppercase; vertical-align: middle; margin-left: 0.5rem\">PER</span>\n",
              "</mark>\n",
              ", WP/StB \n",
              "<mark class=\"entity\" style=\"background: #ddd; padding: 0.45em 0.6em; margin: 0 0.25em; line-height: 1; border-radius: 0.35em;\">\n",
              "    Mag.\n",
              "    <span style=\"font-size: 0.8em; font-weight: bold; line-height: 1; border-radius: 0.35em; text-transform: uppercase; vertical-align: middle; margin-left: 0.5rem\">PER</span>\n",
              "</mark>\n",
              " \n",
              "<mark class=\"entity\" style=\"background: #ddd; padding: 0.45em 0.6em; margin: 0 0.25em; line-height: 1; border-radius: 0.35em;\">\n",
              "    Dr. Herbert Greinecker\n",
              "    <span style=\"font-size: 0.8em; font-weight: bold; line-height: 1; border-radius: 0.35em; text-transform: uppercase; vertical-align: middle; margin-left: 0.5rem\">PER</span>\n",
              "</mark>\n",
              ",</br>WP/StB \n",
              "<mark class=\"entity\" style=\"background: #ddd; padding: 0.45em 0.6em; margin: 0 0.25em; line-height: 1; border-radius: 0.35em;\">\n",
              "    Mag. Bernd Hofmann\n",
              "    <span style=\"font-size: 0.8em; font-weight: bold; line-height: 1; border-radius: 0.35em; text-transform: uppercase; vertical-align: middle; margin-left: 0.5rem\">PER</span>\n",
              "</mark>\n",
              ", StB \n",
              "<mark class=\"entity\" style=\"background: #ddd; padding: 0.45em 0.6em; margin: 0 0.25em; line-height: 1; border-radius: 0.35em;\">\n",
              "    Dr. Martin Jann\n",
              "    <span style=\"font-size: 0.8em; font-weight: bold; line-height: 1; border-radius: 0.35em; text-transform: uppercase; vertical-align: middle; margin-left: 0.5rem\">PER</span>\n",
              "</mark>\n",
              ", StB \n",
              "<mark class=\"entity\" style=\"background: #ddd; padding: 0.45em 0.6em; margin: 0 0.25em; line-height: 1; border-radius: 0.35em;\">\n",
              "    Mag.\n",
              "    <span style=\"font-size: 0.8em; font-weight: bold; line-height: 1; border-radius: 0.35em; text-transform: uppercase; vertical-align: middle; margin-left: 0.5rem\">PER</span>\n",
              "</mark>\n",
              " \n",
              "<mark class=\"entity\" style=\"background: #ddd; padding: 0.45em 0.6em; margin: 0 0.25em; line-height: 1; border-radius: 0.35em;\">\n",
              "    Dr. Richard Jerabek\n",
              "    <span style=\"font-size: 0.8em; font-weight: bold; line-height: 1; border-radius: 0.35em; text-transform: uppercase; vertical-align: middle; margin-left: 0.5rem\">PER</span>\n",
              "</mark>\n",
              ", StB \n",
              "<mark class=\"entity\" style=\"background: #ddd; padding: 0.45em 0.6em; margin: 0 0.25em; line-height: 1; border-radius: 0.35em;\">\n",
              "    Mag.\n",
              "    <span style=\"font-size: 0.8em; font-weight: bold; line-height: 1; border-radius: 0.35em; text-transform: uppercase; vertical-align: middle; margin-left: 0.5rem\">PER</span>\n",
              "</mark>\n",
              " \n",
              "<mark class=\"entity\" style=\"background: #ddd; padding: 0.45em 0.6em; margin: 0 0.25em; line-height: 1; border-radius: 0.35em;\">\n",
              "    Dr. Rudolf Krickl\n",
              "    <span style=\"font-size: 0.8em; font-weight: bold; line-height: 1; border-radius: 0.35em; text-transform: uppercase; vertical-align: middle; margin-left: 0.5rem\">PER</span>\n",
              "</mark>\n",
              ", StB \n",
              "<mark class=\"entity\" style=\"background: #ddd; padding: 0.45em 0.6em; margin: 0 0.25em; line-height: 1; border-radius: 0.35em;\">\n",
              "    Mag. Peter Perktold\n",
              "    <span style=\"font-size: 0.8em; font-weight: bold; line-height: 1; border-radius: 0.35em; text-transform: uppercase; vertical-align: middle; margin-left: 0.5rem\">PER</span>\n",
              "</mark>\n",
              ", WP/StB, \n",
              "<mark class=\"entity\" style=\"background: #ddd; padding: 0.45em 0.6em; margin: 0 0.25em; line-height: 1; border-radius: 0.35em;\">\n",
              "    Mag. Peter Pessenlehner\n",
              "    <span style=\"font-size: 0.8em; font-weight: bold; line-height: 1; border-radius: 0.35em; text-transform: uppercase; vertical-align: middle; margin-left: 0.5rem\">PER</span>\n",
              "</mark>\n",
              ",</br>WP/StB \n",
              "<mark class=\"entity\" style=\"background: #ddd; padding: 0.45em 0.6em; margin: 0 0.25em; line-height: 1; border-radius: 0.35em;\">\n",
              "    Mag. Hannes Rasner\n",
              "    <span style=\"font-size: 0.8em; font-weight: bold; line-height: 1; border-radius: 0.35em; text-transform: uppercase; vertical-align: middle; margin-left: 0.5rem\">PER</span>\n",
              "</mark>\n",
              ", WP/StB \n",
              "<mark class=\"entity\" style=\"background: #ddd; padding: 0.45em 0.6em; margin: 0 0.25em; line-height: 1; border-radius: 0.35em;\">\n",
              "    Mag. Jürgen Schauer\n",
              "    <span style=\"font-size: 0.8em; font-weight: bold; line-height: 1; border-radius: 0.35em; text-transform: uppercase; vertical-align: middle; margin-left: 0.5rem\">PER</span>\n",
              "</mark>\n",
              ", StB \n",
              "<mark class=\"entity\" style=\"background: #ddd; padding: 0.45em 0.6em; margin: 0 0.25em; line-height: 1; border-radius: 0.35em;\">\n",
              "    Mag. Thomas Steinbauer\n",
              "    <span style=\"font-size: 0.8em; font-weight: bold; line-height: 1; border-radius: 0.35em; text-transform: uppercase; vertical-align: middle; margin-left: 0.5rem\">PER</span>\n",
              "</mark>\n",
              ", StB \n",
              "<mark class=\"entity\" style=\"background: #ddd; padding: 0.45em 0.6em; margin: 0 0.25em; line-height: 1; border-radius: 0.35em;\">\n",
              "    Mag. Olivia Stiedl\n",
              "    <span style=\"font-size: 0.8em; font-weight: bold; line-height: 1; border-radius: 0.35em; text-transform: uppercase; vertical-align: middle; margin-left: 0.5rem\">PER</span>\n",
              "</mark>\n",
              ", StB \n",
              "<mark class=\"entity\" style=\"background: #ddd; padding: 0.45em 0.6em; margin: 0 0.25em; line-height: 1; border-radius: 0.35em;\">\n",
              "    Mag. Thomas Strobach\n",
              "    <span style=\"font-size: 0.8em; font-weight: bold; line-height: 1; border-radius: 0.35em; text-transform: uppercase; vertical-align: middle; margin-left: 0.5rem\">PER</span>\n",
              "</mark>\n",
              ", WP/StB \n",
              "<mark class=\"entity\" style=\"background: #ddd; padding: 0.45em 0.6em; margin: 0 0.25em; line-height: 1; border-radius: 0.35em;\">\n",
              "    Mag. Christine Weinzierl\n",
              "    <span style=\"font-size: 0.8em; font-weight: bold; line-height: 1; border-radius: 0.35em; text-transform: uppercase; vertical-align: middle; margin-left: 0.5rem\">PER</span>\n",
              "</mark>\n",
              ",</br>WP/StB \n",
              "<mark class=\"entity\" style=\"background: #ddd; padding: 0.45em 0.6em; margin: 0 0.25em; line-height: 1; border-radius: 0.35em;\">\n",
              "    Mag. Felix Wirth\n",
              "    <span style=\"font-size: 0.8em; font-weight: bold; line-height: 1; border-radius: 0.35em; text-transform: uppercase; vertical-align: middle; margin-left: 0.5rem\">PER</span>\n",
              "</mark>\n",
              ", WP/StB \n",
              "<mark class=\"entity\" style=\"background: #ddd; padding: 0.45em 0.6em; margin: 0 0.25em; line-height: 1; border-radius: 0.35em;\">\n",
              "    Mag. Christof Wörndl\n",
              "    <span style=\"font-size: 0.8em; font-weight: bold; line-height: 1; border-radius: 0.35em; text-transform: uppercase; vertical-align: middle; margin-left: 0.5rem\">PER</span>\n",
              "</mark>\n",
              "\n",
              "Sitz der Gesellschaft: Wien; Firmenbuch: FN 226710 y, Handelsgericht Wien; DVR: 2109259; UID: ATU56889022; WT: 803271\n",
              "&quot;PwC&quot; bezeichnet das PwC-Netzwerk und/oder eine oder mehrere seiner Mitgliedsfirmen. Jedes Mitglied dieses Netzwerks ist ein selbständiges Rechtssubjekt. Weitere Informationen\n",
              "finden Sie unter www.pwc.com/structure.</div>"
            ],
            "text/plain": [
              "<IPython.core.display.HTML object>"
            ]
          },
          "metadata": {
            "tags": []
          },
          "execution_count": 5
        }
      ]
    },
    {
      "cell_type": "code",
      "metadata": {
        "id": "zuVnD_Uiggqu",
        "colab_type": "code",
        "colab": {
          "base_uri": "https://localhost:8080/",
          "height": 54
        },
        "outputId": "9f4f6a5f-d073-43ec-e0e0-a8fab14f4e20"
      },
      "source": [
        "text"
      ],
      "execution_count": 7,
      "outputs": [
        {
          "output_type": "execute_result",
          "data": {
            "text/plain": [
              "'PwC PricewaterhouseCoopers\\nWirtschaftsprüfung und\\nSteuerberatung GmbH\\nDonau-City-Straße 7\\n1220 Wien\\nTel.:\\t+43 1 501 88 - 0\\nFax:\\t+43 1 501 88 - 601\\nE-Mail: office.wien@at.pwc.com\\nwww.pwc.at\\n\\n\\n\\n\\t\\n\\n\\n\\n\\n\\n\\n\\n\\n\\n\\n\\n\\n\\nEINSCHREIBEN\\n\\nFinanzamt Bruck Eisenstadt Oberwart\\n\\nTeam 23\\n\\n\\nNeusiedlerstraße 46\\n\\n7001 Eisenstadt\\n\\n\\n\\nEINSCHREIBEN\\n\\nFinanzamt Bruck Eisenstadt Oberwart\\n\\nTeam 23\\n\\n\\nNeusiedlerstraße 46\\n\\n7001 Eisenstadt\\n\\n\\n\\n19. September 2019\\n\\nKOJL\\n\\n\\n\\n19. September 2019\\n\\nKOJL\\n\\n\\t\\n\\n\\n\\n\\n\\n\\n\\n\\n\\n\\n\\nSteuerpflichtiger: Michael Kors (Austria) GmbH\\n\\n\\t Steuernummer 357/4506, Team 23\\n\\n\\n\\n\\n\\n\\n\\nvertreten durch:\\tPwC PricewaterhouseCoopers\\n\\n\\tWirtschaftsprüfung und Steuerberatung GmbH\\n\\n\\t(Vollmacht erteilt)\\n\\n\\n\\n\\n\\n\\n\\n\\n\\n\\t\\t\\tMMag. Gerald Dipplinger\\ti.V. Mag. Nicole Kruckenfellner\\n\\n\\t\\t\\uf02a  gerald.dipplinger@pwc.com\\t\\uf02a nicole.kruckenfellner@pwc.com\\n\\n\\t\\t\\t\\uf028\\uf02001-501 88-3648\\t\\uf028\\uf02001-501 88-3647\\n\\n\\t\\t\\n\\n\\n\\n\\n\\nwegen:\\tBeilagen zur Körperschaftsteuererklärung 2018\\n\\n\\n\\n\\n\\n\\n\\n\\n\\n\\n\\n\\n\\n\\n\\nEINSCHREIBEN\\n\\nFinanzamt Bruck Eisenstadt Oberwart\\n\\nTeam 23\\n\\n\\nNeusiedlerstraße 46\\n\\n7001 Eisenstadt\\n\\n\\t\\t\\n\\n\\t\\n\\n\\t\\t\\t\\t\\n\\n19. September 2019\\n\\n\\n\\n\\n\\n\\n\\nMichael Kors (Austria) GmbH\\n\\nSteuernummer 357/4506, Team 23\\n\\n\\n\\n\\n\\nHiermit übermitteln wir dem Finanzamt die Beilagen I und II zur Körperschaftsteuerklärung für das Jahr 2018 sowie den Jahresabschluss zum 31.3.2018.\\n\\n\\n\\nDie Körperschaftsteuererklärung für das Jahr 2018 wurde am 31. Juli 2019 per FinanzOnline\\n\\neingereicht.\\n\\n\\n\\nWir ersuchen das Finanzamt, die beiliegenden Kopien mit dem Eingangstempel zu versehen und an unseren steuerlichen Vertreter zu senden.\\n\\n\\n\\n\\n\\nMichael Kors (Austria) GmbH\\n\\n\\n\\n\\n\\nAnlagen\\n\\n\\n\\n\\n\\n\\n\\n\\n\\n\\n\\nGeschäftsführer: StB Mag. Monika Berndl, WP/StB Mag. Dr. Christine Catasta, StB MMag. Gerald Dipplinger, StB Mag. Johannes Edlbacher, WP/StB Mag. Dr. Herbert Greinecker,\\nWP/StB Mag. Bernd Hofmann, StB Dr. Martin Jann, StB Mag. Dr. Richard Jerabek, StB Mag. Dr. Rudolf Krickl, StB Mag. Peter Perktold, WP/StB, Mag. Peter Pessenlehner,\\nWP/StB Mag. Hannes Rasner, WP/StB Mag. Jürgen Schauer, StB Mag. Thomas Steinbauer, StB Mag. Olivia Stiedl, StB Mag. Thomas Strobach, WP/StB Mag. Christine Weinzierl,\\nWP/StB Mag. Felix Wirth, WP/StB Mag. Christof Wörndl\\nSitz der Gesellschaft: Wien; Firmenbuch: FN 226710 y, Handelsgericht Wien; DVR: 2109259; UID: ATU56889022; WT: 803271\\n\"PwC\" bezeichnet das PwC-Netzwerk und/oder eine oder mehrere seiner Mitgliedsfirmen. Jedes Mitglied dieses Netzwerks ist ein selbständiges Rechtssubjekt. Weitere Informationen\\nfinden Sie unter www.pwc.com/structure.'"
            ]
          },
          "metadata": {
            "tags": []
          },
          "execution_count": 7
        }
      ]
    },
    {
      "cell_type": "code",
      "metadata": {
        "id": "nItr4VPLgMB5",
        "colab_type": "code",
        "colab": {
          "base_uri": "https://localhost:8080/",
          "height": 54
        },
        "outputId": "3b639090-e13a-4fe3-c595-ba355c28db16"
      },
      "source": [
        "html_in"
      ],
      "execution_count": 6,
      "outputs": [
        {
          "output_type": "execute_result",
          "data": {
            "text/plain": [
              "'<div class=\"entities\" style=\"line-height: 2.5; direction: ltr\">PwC PricewaterhouseCoopers</br>Wirtschaftsprüfung und</br>Steuerberatung GmbH</br>Donau-City-\\n<mark class=\"entity\" style=\"background: #ff9561; padding: 0.45em 0.6em; margin: 0 0.25em; line-height: 1; border-radius: 0.35em;\">\\n    Straße\\n    <span style=\"font-size: 0.8em; font-weight: bold; line-height: 1; border-radius: 0.35em; text-transform: uppercase; vertical-align: middle; margin-left: 0.5rem\">LOC</span>\\n</mark>\\n 7</br>1220 Wien</br>Tel.:\\t+43 1 \\n<mark class=\"entity\" style=\"background: #bfe1d9; padding: 0.45em 0.6em; margin: 0 0.25em; line-height: 1; border-radius: 0.35em;\">\\n    501 88 - 0\\n    <span style=\"font-size: 0.8em; font-weight: bold; line-height: 1; border-radius: 0.35em; text-transform: uppercase; vertical-align: middle; margin-left: 0.5rem\">DATE</span>\\n</mark>\\n</br>Fax:\\t+43 1 \\n<mark class=\"entity\" style=\"background: #bfe1d9; padding: 0.45em 0.6em; margin: 0 0.25em; line-height: 1; border-radius: 0.35em;\">\\n    501 88 - 601\\n    <span style=\"font-size: 0.8em; font-weight: bold; line-height: 1; border-radius: 0.35em; text-transform: uppercase; vertical-align: middle; margin-left: 0.5rem\">DATE</span>\\n</mark>\\n</br>E-Mail: office.wien@at.pwc.com</br>www.pwc.at</br></br></br></br>\\t</br></br></br></br></br></br></br></br></br></br></br></br></br></br>EINSCHREIBEN</br></br>Finanzamt Bruck \\n<mark class=\"entity\" style=\"background: #ff9561; padding: 0.45em 0.6em; margin: 0 0.25em; line-height: 1; border-radius: 0.35em;\">\\n    Eisenstadt\\n    <span style=\"font-size: 0.8em; font-weight: bold; line-height: 1; border-radius: 0.35em; text-transform: uppercase; vertical-align: middle; margin-left: 0.5rem\">LOC</span>\\n</mark>\\n Oberwart</br></br>Team 23</br></br></br>\\n<mark class=\"entity\" style=\"background: #ff9561; padding: 0.45em 0.6em; margin: 0 0.25em; line-height: 1; border-radius: 0.35em;\">\\n    Neusiedlerstraße\\n    <span style=\"font-size: 0.8em; font-weight: bold; line-height: 1; border-radius: 0.35em; text-transform: uppercase; vertical-align: middle; margin-left: 0.5rem\">LOC</span>\\n</mark>\\n 46</br></br>7001 \\n<mark class=\"entity\" style=\"background: #ff9561; padding: 0.45em 0.6em; margin: 0 0.25em; line-height: 1; border-radius: 0.35em;\">\\n    Eisenstadt\\n    <span style=\"font-size: 0.8em; font-weight: bold; line-height: 1; border-radius: 0.35em; text-transform: uppercase; vertical-align: middle; margin-left: 0.5rem\">LOC</span>\\n</mark>\\n</br></br></br></br>EINSCHREIBEN</br></br>Finanzamt Bruck \\n<mark class=\"entity\" style=\"background: #ff9561; padding: 0.45em 0.6em; margin: 0 0.25em; line-height: 1; border-radius: 0.35em;\">\\n    Eisenstadt\\n    <span style=\"font-size: 0.8em; font-weight: bold; line-height: 1; border-radius: 0.35em; text-transform: uppercase; vertical-align: middle; margin-left: 0.5rem\">LOC</span>\\n</mark>\\n Oberwart</br></br>Team 23</br></br></br>\\n<mark class=\"entity\" style=\"background: #ff9561; padding: 0.45em 0.6em; margin: 0 0.25em; line-height: 1; border-radius: 0.35em;\">\\n    Neusiedlerstraße\\n    <span style=\"font-size: 0.8em; font-weight: bold; line-height: 1; border-radius: 0.35em; text-transform: uppercase; vertical-align: middle; margin-left: 0.5rem\">LOC</span>\\n</mark>\\n 46</br></br>7001 \\n<mark class=\"entity\" style=\"background: #ff9561; padding: 0.45em 0.6em; margin: 0 0.25em; line-height: 1; border-radius: 0.35em;\">\\n    Eisenstadt\\n    <span style=\"font-size: 0.8em; font-weight: bold; line-height: 1; border-radius: 0.35em; text-transform: uppercase; vertical-align: middle; margin-left: 0.5rem\">LOC</span>\\n</mark>\\n</br></br></br></br>19. September 2019</br></br>KOJL</br></br></br></br>19. September 2019</br></br>KOJL</br></br>\\t</br></br></br></br></br></br></br></br></br></br></br></br>Steuerpflichtiger: Michael Kors (Austria) GmbH</br></br>\\t Steuernummer 357/4506, Team 23</br></br></br></br></br></br></br></br>vertreten durch:\\tPwC PricewaterhouseCoopers</br></br>\\tWirtschaftsprüfung und Steuerberatung GmbH</br></br>\\t(Vollmacht erteilt)</br></br></br></br></br></br></br></br></br></br>\\t\\t\\t\\n<mark class=\"entity\" style=\"background: #ddd; padding: 0.45em 0.6em; margin: 0 0.25em; line-height: 1; border-radius: 0.35em;\">\\n    MMag. Gerald Dipplinger\\n    <span style=\"font-size: 0.8em; font-weight: bold; line-height: 1; border-radius: 0.35em; text-transform: uppercase; vertical-align: middle; margin-left: 0.5rem\">PER</span>\\n</mark>\\n\\ti.V. \\n<mark class=\"entity\" style=\"background: #ddd; padding: 0.45em 0.6em; margin: 0 0.25em; line-height: 1; border-radius: 0.35em;\">\\n    Mag. Nicole Kruckenfellner\\n    <span style=\"font-size: 0.8em; font-weight: bold; line-height: 1; border-radius: 0.35em; text-transform: uppercase; vertical-align: middle; margin-left: 0.5rem\">PER</span>\\n</mark>\\n</br></br>\\t\\t\\uf02a  gerald.\\n<mark class=\"entity\" style=\"background: #ddd; padding: 0.45em 0.6em; margin: 0 0.25em; line-height: 1; border-radius: 0.35em;\">\\n    dipplinger@pwc.\\n    <span style=\"font-size: 0.8em; font-weight: bold; line-height: 1; border-radius: 0.35em; text-transform: uppercase; vertical-align: middle; margin-left: 0.5rem\">PER</span>\\n</mark>\\ncom\\t\\uf02a nicole.kruckenfellner@pwc.com</br></br>\\t\\t\\t\\uf028\\uf02001-\\n<mark class=\"entity\" style=\"background: #bfe1d9; padding: 0.45em 0.6em; margin: 0 0.25em; line-height: 1; border-radius: 0.35em;\">\\n    501 88-3648\\n    <span style=\"font-size: 0.8em; font-weight: bold; line-height: 1; border-radius: 0.35em; text-transform: uppercase; vertical-align: middle; margin-left: 0.5rem\">DATE</span>\\n</mark>\\n\\t\\uf028\\uf02001-\\n<mark class=\"entity\" style=\"background: #bfe1d9; padding: 0.45em 0.6em; margin: 0 0.25em; line-height: 1; border-radius: 0.35em;\">\\n    501 88-3647\\n    <span style=\"font-size: 0.8em; font-weight: bold; line-height: 1; border-radius: 0.35em; text-transform: uppercase; vertical-align: middle; margin-left: 0.5rem\">DATE</span>\\n</mark>\\n</br></br>\\t\\t</br></br></br></br></br></br>wegen:\\tBeilagen zur Körperschaftsteuererklärung 2018</br></br></br></br></br></br></br></br></br></br></br></br></br></br></br></br>EINSCHREIBEN</br></br>Finanzamt Bruck \\n<mark class=\"entity\" style=\"background: #ff9561; padding: 0.45em 0.6em; margin: 0 0.25em; line-height: 1; border-radius: 0.35em;\">\\n    Eisenstadt\\n    <span style=\"font-size: 0.8em; font-weight: bold; line-height: 1; border-radius: 0.35em; text-transform: uppercase; vertical-align: middle; margin-left: 0.5rem\">LOC</span>\\n</mark>\\n Oberwart</br></br>Team 23</br></br></br>\\n<mark class=\"entity\" style=\"background: #ff9561; padding: 0.45em 0.6em; margin: 0 0.25em; line-height: 1; border-radius: 0.35em;\">\\n    Neusiedlerstraße\\n    <span style=\"font-size: 0.8em; font-weight: bold; line-height: 1; border-radius: 0.35em; text-transform: uppercase; vertical-align: middle; margin-left: 0.5rem\">LOC</span>\\n</mark>\\n 46</br></br>7001 \\n<mark class=\"entity\" style=\"background: #ff9561; padding: 0.45em 0.6em; margin: 0 0.25em; line-height: 1; border-radius: 0.35em;\">\\n    Eisenstadt\\n    <span style=\"font-size: 0.8em; font-weight: bold; line-height: 1; border-radius: 0.35em; text-transform: uppercase; vertical-align: middle; margin-left: 0.5rem\">LOC</span>\\n</mark>\\n</br></br>\\t\\t</br></br>\\t</br></br>\\t\\t\\t\\t</br></br>19. September 2019</br></br></br></br></br></br></br></br>Michael Kors (Austria) GmbH</br></br>Steuernummer 357/4506, Team 23</br></br></br></br></br></br>Hiermit übermitteln wir dem Finanzamt die Beilagen I und II zur Körperschaftsteuerklärung für das Jahr 2018 sowie den Jahresabschluss zum \\n<mark class=\"entity\" style=\"background: #bfe1d9; padding: 0.45em 0.6em; margin: 0 0.25em; line-height: 1; border-radius: 0.35em;\">\\n    31.3.2018\\n    <span style=\"font-size: 0.8em; font-weight: bold; line-height: 1; border-radius: 0.35em; text-transform: uppercase; vertical-align: middle; margin-left: 0.5rem\">DATE</span>\\n</mark>\\n.</br></br></br></br>Die Körperschaftsteuererklärung für das Jahr 2018 wurde am 31. Juli 2019 per FinanzOnline</br></br>\\n<mark class=\"entity\" style=\"background: #ddd; padding: 0.45em 0.6em; margin: 0 0.25em; line-height: 1; border-radius: 0.35em;\">\\n    eingereicht.\\n    <span style=\"font-size: 0.8em; font-weight: bold; line-height: 1; border-radius: 0.35em; text-transform: uppercase; vertical-align: middle; margin-left: 0.5rem\">PER</span>\\n</mark>\\n</br></br></br></br>Wir ersuchen das Finanzamt, die beiliegenden Kopien mit dem \\n<mark class=\"entity\" style=\"background: #ddd; padding: 0.45em 0.6em; margin: 0 0.25em; line-height: 1; border-radius: 0.35em;\">\\n    Eingangstempel\\n    <span style=\"font-size: 0.8em; font-weight: bold; line-height: 1; border-radius: 0.35em; text-transform: uppercase; vertical-align: middle; margin-left: 0.5rem\">PER</span>\\n</mark>\\n zu versehen und an unseren steuerlichen Vertreter zu senden.</br></br></br></br></br></br>Michael Kors (Austria) GmbH</br></br></br></br></br></br>Anlagen</br></br></br></br></br></br></br></br></br></br></br></br>Geschäftsführer: StB \\n<mark class=\"entity\" style=\"background: #ddd; padding: 0.45em 0.6em; margin: 0 0.25em; line-height: 1; border-radius: 0.35em;\">\\n    Mag. Monika Berndl\\n    <span style=\"font-size: 0.8em; font-weight: bold; line-height: 1; border-radius: 0.35em; text-transform: uppercase; vertical-align: middle; margin-left: 0.5rem\">PER</span>\\n</mark>\\n, WP/StB \\n<mark class=\"entity\" style=\"background: #ddd; padding: 0.45em 0.6em; margin: 0 0.25em; line-height: 1; border-radius: 0.35em;\">\\n    Mag.\\n    <span style=\"font-size: 0.8em; font-weight: bold; line-height: 1; border-radius: 0.35em; text-transform: uppercase; vertical-align: middle; margin-left: 0.5rem\">PER</span>\\n</mark>\\n \\n<mark class=\"entity\" style=\"background: #ddd; padding: 0.45em 0.6em; margin: 0 0.25em; line-height: 1; border-radius: 0.35em;\">\\n    Dr. Christine Catasta\\n    <span style=\"font-size: 0.8em; font-weight: bold; line-height: 1; border-radius: 0.35em; text-transform: uppercase; vertical-align: middle; margin-left: 0.5rem\">PER</span>\\n</mark>\\n, StB \\n<mark class=\"entity\" style=\"background: #ddd; padding: 0.45em 0.6em; margin: 0 0.25em; line-height: 1; border-radius: 0.35em;\">\\n    MMag. Gerald Dipplinger\\n    <span style=\"font-size: 0.8em; font-weight: bold; line-height: 1; border-radius: 0.35em; text-transform: uppercase; vertical-align: middle; margin-left: 0.5rem\">PER</span>\\n</mark>\\n, StB \\n<mark class=\"entity\" style=\"background: #ddd; padding: 0.45em 0.6em; margin: 0 0.25em; line-height: 1; border-radius: 0.35em;\">\\n    Mag. Johannes Edlbacher\\n    <span style=\"font-size: 0.8em; font-weight: bold; line-height: 1; border-radius: 0.35em; text-transform: uppercase; vertical-align: middle; margin-left: 0.5rem\">PER</span>\\n</mark>\\n, WP/StB \\n<mark class=\"entity\" style=\"background: #ddd; padding: 0.45em 0.6em; margin: 0 0.25em; line-height: 1; border-radius: 0.35em;\">\\n    Mag.\\n    <span style=\"font-size: 0.8em; font-weight: bold; line-height: 1; border-radius: 0.35em; text-transform: uppercase; vertical-align: middle; margin-left: 0.5rem\">PER</span>\\n</mark>\\n \\n<mark class=\"entity\" style=\"background: #ddd; padding: 0.45em 0.6em; margin: 0 0.25em; line-height: 1; border-radius: 0.35em;\">\\n    Dr. Herbert Greinecker\\n    <span style=\"font-size: 0.8em; font-weight: bold; line-height: 1; border-radius: 0.35em; text-transform: uppercase; vertical-align: middle; margin-left: 0.5rem\">PER</span>\\n</mark>\\n,</br>WP/StB \\n<mark class=\"entity\" style=\"background: #ddd; padding: 0.45em 0.6em; margin: 0 0.25em; line-height: 1; border-radius: 0.35em;\">\\n    Mag. Bernd Hofmann\\n    <span style=\"font-size: 0.8em; font-weight: bold; line-height: 1; border-radius: 0.35em; text-transform: uppercase; vertical-align: middle; margin-left: 0.5rem\">PER</span>\\n</mark>\\n, StB \\n<mark class=\"entity\" style=\"background: #ddd; padding: 0.45em 0.6em; margin: 0 0.25em; line-height: 1; border-radius: 0.35em;\">\\n    Dr. Martin Jann\\n    <span style=\"font-size: 0.8em; font-weight: bold; line-height: 1; border-radius: 0.35em; text-transform: uppercase; vertical-align: middle; margin-left: 0.5rem\">PER</span>\\n</mark>\\n, StB \\n<mark class=\"entity\" style=\"background: #ddd; padding: 0.45em 0.6em; margin: 0 0.25em; line-height: 1; border-radius: 0.35em;\">\\n    Mag.\\n    <span style=\"font-size: 0.8em; font-weight: bold; line-height: 1; border-radius: 0.35em; text-transform: uppercase; vertical-align: middle; margin-left: 0.5rem\">PER</span>\\n</mark>\\n \\n<mark class=\"entity\" style=\"background: #ddd; padding: 0.45em 0.6em; margin: 0 0.25em; line-height: 1; border-radius: 0.35em;\">\\n    Dr. Richard Jerabek\\n    <span style=\"font-size: 0.8em; font-weight: bold; line-height: 1; border-radius: 0.35em; text-transform: uppercase; vertical-align: middle; margin-left: 0.5rem\">PER</span>\\n</mark>\\n, StB \\n<mark class=\"entity\" style=\"background: #ddd; padding: 0.45em 0.6em; margin: 0 0.25em; line-height: 1; border-radius: 0.35em;\">\\n    Mag.\\n    <span style=\"font-size: 0.8em; font-weight: bold; line-height: 1; border-radius: 0.35em; text-transform: uppercase; vertical-align: middle; margin-left: 0.5rem\">PER</span>\\n</mark>\\n \\n<mark class=\"entity\" style=\"background: #ddd; padding: 0.45em 0.6em; margin: 0 0.25em; line-height: 1; border-radius: 0.35em;\">\\n    Dr. Rudolf Krickl\\n    <span style=\"font-size: 0.8em; font-weight: bold; line-height: 1; border-radius: 0.35em; text-transform: uppercase; vertical-align: middle; margin-left: 0.5rem\">PER</span>\\n</mark>\\n, StB \\n<mark class=\"entity\" style=\"background: #ddd; padding: 0.45em 0.6em; margin: 0 0.25em; line-height: 1; border-radius: 0.35em;\">\\n    Mag. Peter Perktold\\n    <span style=\"font-size: 0.8em; font-weight: bold; line-height: 1; border-radius: 0.35em; text-transform: uppercase; vertical-align: middle; margin-left: 0.5rem\">PER</span>\\n</mark>\\n, WP/StB, \\n<mark class=\"entity\" style=\"background: #ddd; padding: 0.45em 0.6em; margin: 0 0.25em; line-height: 1; border-radius: 0.35em;\">\\n    Mag. Peter Pessenlehner\\n    <span style=\"font-size: 0.8em; font-weight: bold; line-height: 1; border-radius: 0.35em; text-transform: uppercase; vertical-align: middle; margin-left: 0.5rem\">PER</span>\\n</mark>\\n,</br>WP/StB \\n<mark class=\"entity\" style=\"background: #ddd; padding: 0.45em 0.6em; margin: 0 0.25em; line-height: 1; border-radius: 0.35em;\">\\n    Mag. Hannes Rasner\\n    <span style=\"font-size: 0.8em; font-weight: bold; line-height: 1; border-radius: 0.35em; text-transform: uppercase; vertical-align: middle; margin-left: 0.5rem\">PER</span>\\n</mark>\\n, WP/StB \\n<mark class=\"entity\" style=\"background: #ddd; padding: 0.45em 0.6em; margin: 0 0.25em; line-height: 1; border-radius: 0.35em;\">\\n    Mag. Jürgen Schauer\\n    <span style=\"font-size: 0.8em; font-weight: bold; line-height: 1; border-radius: 0.35em; text-transform: uppercase; vertical-align: middle; margin-left: 0.5rem\">PER</span>\\n</mark>\\n, StB \\n<mark class=\"entity\" style=\"background: #ddd; padding: 0.45em 0.6em; margin: 0 0.25em; line-height: 1; border-radius: 0.35em;\">\\n    Mag. Thomas Steinbauer\\n    <span style=\"font-size: 0.8em; font-weight: bold; line-height: 1; border-radius: 0.35em; text-transform: uppercase; vertical-align: middle; margin-left: 0.5rem\">PER</span>\\n</mark>\\n, StB \\n<mark class=\"entity\" style=\"background: #ddd; padding: 0.45em 0.6em; margin: 0 0.25em; line-height: 1; border-radius: 0.35em;\">\\n    Mag. Olivia Stiedl\\n    <span style=\"font-size: 0.8em; font-weight: bold; line-height: 1; border-radius: 0.35em; text-transform: uppercase; vertical-align: middle; margin-left: 0.5rem\">PER</span>\\n</mark>\\n, StB \\n<mark class=\"entity\" style=\"background: #ddd; padding: 0.45em 0.6em; margin: 0 0.25em; line-height: 1; border-radius: 0.35em;\">\\n    Mag. Thomas Strobach\\n    <span style=\"font-size: 0.8em; font-weight: bold; line-height: 1; border-radius: 0.35em; text-transform: uppercase; vertical-align: middle; margin-left: 0.5rem\">PER</span>\\n</mark>\\n, WP/StB \\n<mark class=\"entity\" style=\"background: #ddd; padding: 0.45em 0.6em; margin: 0 0.25em; line-height: 1; border-radius: 0.35em;\">\\n    Mag. Christine Weinzierl\\n    <span style=\"font-size: 0.8em; font-weight: bold; line-height: 1; border-radius: 0.35em; text-transform: uppercase; vertical-align: middle; margin-left: 0.5rem\">PER</span>\\n</mark>\\n,</br>WP/StB \\n<mark class=\"entity\" style=\"background: #ddd; padding: 0.45em 0.6em; margin: 0 0.25em; line-height: 1; border-radius: 0.35em;\">\\n    Mag. Felix Wirth\\n    <span style=\"font-size: 0.8em; font-weight: bold; line-height: 1; border-radius: 0.35em; text-transform: uppercase; vertical-align: middle; margin-left: 0.5rem\">PER</span>\\n</mark>\\n, WP/StB \\n<mark class=\"entity\" style=\"background: #ddd; padding: 0.45em 0.6em; margin: 0 0.25em; line-height: 1; border-radius: 0.35em;\">\\n    Mag. Christof Wörndl\\n    <span style=\"font-size: 0.8em; font-weight: bold; line-height: 1; border-radius: 0.35em; text-transform: uppercase; vertical-align: middle; margin-left: 0.5rem\">PER</span>\\n</mark>\\n\\nSitz der Gesellschaft: Wien; Firmenbuch: FN 226710 y, Handelsgericht Wien; DVR: 2109259; UID: ATU56889022; WT: 803271\\n&quot;PwC&quot; bezeichnet das PwC-Netzwerk und/oder eine oder mehrere seiner Mitgliedsfirmen. Jedes Mitglied dieses Netzwerks ist ein selbständiges Rechtssubjekt. Weitere Informationen\\nfinden Sie unter www.pwc.com/structure.</div>'"
            ]
          },
          "metadata": {
            "tags": []
          },
          "execution_count": 6
        }
      ]
    },
    {
      "cell_type": "code",
      "metadata": {
        "id": "xxyTlyGsooUz",
        "colab_type": "code",
        "colab": {
          "base_uri": "https://localhost:8080/",
          "height": 1000
        },
        "outputId": "cc727049-a4e3-472e-90bc-101574c2777d"
      },
      "source": [
        "import docx\n",
        "import mammoth\n",
        "\n",
        "doc_name = 'PwC Brief.docx'\n",
        "doc = docx.Document(doc_name)\n",
        "indexes =[]\n",
        "right_alig_ind =[] \n",
        "bold_ind =[] \n",
        "\n",
        "html_in = ''\n",
        "for para_id, para in enumerate(doc.paragraphs):\n",
        "        # make a sentence\n",
        "        #if len(para.text)>0:\n",
        "        indexes.append(para_id)\n",
        "        if para.alignment:\n",
        "            print(para_id, para, para.alignment)\n",
        "            right_alig_ind.append(para)\n",
        "            html_in += para.text\n",
        "\n",
        "            #doc = nlp(para.text)\n",
        "            #html_in += displacy.render(doc,style='ent')\n",
        "            html_in += '\\n'\n",
        "        else:\n",
        "          #for rn in para.runs:\n",
        "            #doc = nlp(para.text)\n",
        "            html_in += para.text\n",
        "\n",
        "            #html_in += displacy.render(doc,style='ent')\n",
        "            html_in += '\\n'\n",
        "\n",
        "            print(para_id, para.style.name)\n",
        "        if para.style.name == \"UNamec\":\n",
        "          bold_ind.append(para)\n",
        "\n",
        "#for para_id, para in enumerate(doc.sections):\n",
        "        # make a sentence\n",
        "        #if len(para.text)>0:\n",
        " #       print(para_id, para)\n",
        "\n",
        "doc = nlp(html_in)\n",
        "html_out = displacy.render(doc,style='ent',page= True)\n",
        "#html_out = html_out.replace(\"</br></br>\",\"</br>\")\n",
        "#result = HTML_WRAPPER.format(html_out)"
      ],
      "execution_count": 3,
      "outputs": [
        {
          "output_type": "stream",
          "text": [
            "0 Betreff\n",
            "1 UName\n",
            "2 UName\n",
            "3 UName\n",
            "4 UName\n",
            "5 UName\n",
            "6 UName\n",
            "7 Betreff\n",
            "8 UName\n",
            "9 Betreff\n",
            "10 Betreff\n",
            "11 Betreff\n",
            "12 Betreff\n",
            "13 Betreff\n",
            "14 Betreff\n",
            "15 Betreff\n",
            "16 Betreff\n",
            "17 Betreff\n",
            "18 Betreff\n",
            "19 Normal\n",
            "20 Normal\n",
            "21 Betreff\n",
            "22 UName\n",
            "23 UName\n",
            "24 UName\n",
            "25 Normal\n",
            "26 Normal\n",
            "27 Normal\n",
            "28 Normal\n",
            "29 Normal\n",
            "30 UName\n",
            "31 UName\n",
            "32 UName\n",
            "33 UName\n",
            "34 Normal\n",
            "35 Normal\n",
            "36 Normal\n",
            "37 Normal\n",
            "38 Normal\n",
            "39 <docx.text.paragraph.Paragraph object at 0x7f121488bc18> RIGHT (2)\n",
            "40 <docx.text.paragraph.Paragraph object at 0x7f121488b3c8> RIGHT (2)\n",
            "41 Betreff\n",
            "42 UName\n",
            "43 UName\n",
            "44 UName\n",
            "45 Betreff\n",
            "46 UName\n",
            "47 UName\n",
            "48 UName\n",
            "49 UName\n",
            "50 UName\n",
            "51 UName\n",
            "52 UName\n",
            "53 UName\n",
            "54 UName\n",
            "55 UName\n",
            "56 UName\n",
            "57 UName\n",
            "58 UName\n",
            "59 UName\n",
            "60 UName\n"
          ],
          "name": "stdout"
        }
      ]
    },
    {
      "cell_type": "code",
      "metadata": {
        "id": "i9wI9w_UbHvT",
        "colab_type": "code",
        "colab": {
          "base_uri": "https://localhost:8080/",
          "height": 34
        },
        "outputId": "178857f8-b047-4bc8-d321-d829d6f8e8d8"
      },
      "source": [
        "bold_ind[5].text"
      ],
      "execution_count": 13,
      "outputs": [
        {
          "output_type": "execute_result",
          "data": {
            "text/plain": [
              "'\\tWirtschaftsprüfung und Steuerberatung GmbH'"
            ]
          },
          "metadata": {
            "tags": []
          },
          "execution_count": 13
        }
      ]
    },
    {
      "cell_type": "code",
      "metadata": {
        "id": "WE8Ak8NdPOLx",
        "colab_type": "code",
        "colab": {
          "base_uri": "https://localhost:8080/",
          "height": 1000
        },
        "outputId": "7fc5e10d-6c33-4f6b-d5b2-ac6ddd64cf0b"
      },
      "source": [
        "import IPython\n",
        "hto = html_out.replace(\"</br></br>\",\"</br>\").replace('</br>\\t','</br>&nbsp;&nbsp;&nbsp;&nbsp;&nbsp;&nbsp;&nbsp;&nbsp; &nbsp;&nbsp;&nbsp;&nbsp;&nbsp;&nbsp;&nbsp;&nbsp;&nbsp;&nbsp;&nbsp;&nbsp;&nbsp;&nbsp;&nbsp;&nbsp;&nbsp;')\n",
        "IPython.display.HTML(hto)"
      ],
      "execution_count": 4,
      "outputs": [
        {
          "output_type": "execute_result",
          "data": {
            "text/html": [
              "<!DOCTYPE html>\n",
              "<html lang=\"de\">\n",
              "    <head>\n",
              "        <title>displaCy</title>\n",
              "    </head>\n",
              "\n",
              "    <body style=\"font-size: 16px; font-family: -apple-system, BlinkMacSystemFont, 'Segoe UI', Helvetica, Arial, sans-serif, 'Apple Color Emoji', 'Segoe UI Emoji', 'Segoe UI Symbol'; padding: 4rem 2rem; direction: ltr\">\n",
              "<figure style=\"margin-bottom: 6rem\">\n",
              "<div class=\"entities\" style=\"line-height: 2.5; direction: ltr\">\t</br></br></br>Steuerpflichtiger: Michael Kors (Austria) GmbH</br>&nbsp;&nbsp;&nbsp;&nbsp;&nbsp;&nbsp;&nbsp;&nbsp; &nbsp;&nbsp;&nbsp;&nbsp;&nbsp;&nbsp;&nbsp;&nbsp;&nbsp;&nbsp;&nbsp;&nbsp;&nbsp;&nbsp;&nbsp;&nbsp;&nbsp; Steuernummer 357/4506, Team 23</br></br>vertreten durch:\tPwC PricewaterhouseCoopers</br>&nbsp;&nbsp;&nbsp;&nbsp;&nbsp;&nbsp;&nbsp;&nbsp; &nbsp;&nbsp;&nbsp;&nbsp;&nbsp;&nbsp;&nbsp;&nbsp;&nbsp;&nbsp;&nbsp;&nbsp;&nbsp;&nbsp;&nbsp;&nbsp;&nbsp;Wirtschaftsprüfung und Steuerberatung GmbH</br>&nbsp;&nbsp;&nbsp;&nbsp;&nbsp;&nbsp;&nbsp;&nbsp; &nbsp;&nbsp;&nbsp;&nbsp;&nbsp;&nbsp;&nbsp;&nbsp;&nbsp;&nbsp;&nbsp;&nbsp;&nbsp;&nbsp;&nbsp;&nbsp;&nbsp;(Vollmacht erteilt)</br></br></br>&nbsp;&nbsp;&nbsp;&nbsp;&nbsp;&nbsp;&nbsp;&nbsp; &nbsp;&nbsp;&nbsp;&nbsp;&nbsp;&nbsp;&nbsp;&nbsp;&nbsp;&nbsp;&nbsp;&nbsp;&nbsp;&nbsp;&nbsp;&nbsp;&nbsp;\n",
              "<mark class=\"entity\" style=\"background: #ddd; padding: 0.45em 0.6em; margin: 0 0.25em; line-height: 1; border-radius: 0.35em;\">\n",
              "    MMag. Gerald Dipplinger\n",
              "    <span style=\"font-size: 0.8em; font-weight: bold; line-height: 1; border-radius: 0.35em; text-transform: uppercase; vertical-align: middle; margin-left: 0.5rem\">PER</span>\n",
              "</mark>\n",
              "\ti.V. \n",
              "<mark class=\"entity\" style=\"background: #ddd; padding: 0.45em 0.6em; margin: 0 0.25em; line-height: 1; border-radius: 0.35em;\">\n",
              "    Mag. Nicole Kruckenfellner\n",
              "    <span style=\"font-size: 0.8em; font-weight: bold; line-height: 1; border-radius: 0.35em; text-transform: uppercase; vertical-align: middle; margin-left: 0.5rem\">PER</span>\n",
              "</mark>\n",
              "</br>&nbsp;&nbsp;&nbsp;&nbsp;&nbsp;&nbsp;&nbsp;&nbsp; &nbsp;&nbsp;&nbsp;&nbsp;&nbsp;&nbsp;&nbsp;&nbsp;&nbsp;&nbsp;&nbsp;&nbsp;&nbsp;&nbsp;&nbsp;&nbsp;&nbsp;  gerald.\n",
              "<mark class=\"entity\" style=\"background: #ddd; padding: 0.45em 0.6em; margin: 0 0.25em; line-height: 1; border-radius: 0.35em;\">\n",
              "    dipplinger@pwc.\n",
              "    <span style=\"font-size: 0.8em; font-weight: bold; line-height: 1; border-radius: 0.35em; text-transform: uppercase; vertical-align: middle; margin-left: 0.5rem\">PER</span>\n",
              "</mark>\n",
              "com\t nicole.kruckenfellner@pwc.com</br>&nbsp;&nbsp;&nbsp;&nbsp;&nbsp;&nbsp;&nbsp;&nbsp; &nbsp;&nbsp;&nbsp;&nbsp;&nbsp;&nbsp;&nbsp;&nbsp;&nbsp;&nbsp;&nbsp;&nbsp;&nbsp;&nbsp;&nbsp;&nbsp;&nbsp;01-\n",
              "<mark class=\"entity\" style=\"background: #bfe1d9; padding: 0.45em 0.6em; margin: 0 0.25em; line-height: 1; border-radius: 0.35em;\">\n",
              "    501 88-3648\n",
              "    <span style=\"font-size: 0.8em; font-weight: bold; line-height: 1; border-radius: 0.35em; text-transform: uppercase; vertical-align: middle; margin-left: 0.5rem\">DATE</span>\n",
              "</mark>\n",
              "\t01-\n",
              "<mark class=\"entity\" style=\"background: #bfe1d9; padding: 0.45em 0.6em; margin: 0 0.25em; line-height: 1; border-radius: 0.35em;\">\n",
              "    501 88-3647\n",
              "    <span style=\"font-size: 0.8em; font-weight: bold; line-height: 1; border-radius: 0.35em; text-transform: uppercase; vertical-align: middle; margin-left: 0.5rem\">DATE</span>\n",
              "</mark>\n",
              "</br></br>wegen:\tBeilagen zur Körperschaftsteuererklärung 2018</br></br></br></br>EINSCHREIBEN</br>Finanzamt Bruck \n",
              "<mark class=\"entity\" style=\"background: #ff9561; padding: 0.45em 0.6em; margin: 0 0.25em; line-height: 1; border-radius: 0.35em;\">\n",
              "    Eisenstadt\n",
              "    <span style=\"font-size: 0.8em; font-weight: bold; line-height: 1; border-radius: 0.35em; text-transform: uppercase; vertical-align: middle; margin-left: 0.5rem\">LOC</span>\n",
              "</mark>\n",
              " Oberwart</br>Team 23</br>\n",
              "<mark class=\"entity\" style=\"background: #ff9561; padding: 0.45em 0.6em; margin: 0 0.25em; line-height: 1; border-radius: 0.35em;\">\n",
              "    Neusiedlerstraße\n",
              "    <span style=\"font-size: 0.8em; font-weight: bold; line-height: 1; border-radius: 0.35em; text-transform: uppercase; vertical-align: middle; margin-left: 0.5rem\">LOC</span>\n",
              "</mark>\n",
              " 46</br>7001 \n",
              "<mark class=\"entity\" style=\"background: #ff9561; padding: 0.45em 0.6em; margin: 0 0.25em; line-height: 1; border-radius: 0.35em;\">\n",
              "    Eisenstadt\n",
              "    <span style=\"font-size: 0.8em; font-weight: bold; line-height: 1; border-radius: 0.35em; text-transform: uppercase; vertical-align: middle; margin-left: 0.5rem\">LOC</span>\n",
              "</mark>\n",
              "</br>&nbsp;&nbsp;&nbsp;&nbsp;&nbsp;&nbsp;&nbsp;&nbsp; &nbsp;&nbsp;&nbsp;&nbsp;&nbsp;&nbsp;&nbsp;&nbsp;&nbsp;&nbsp;&nbsp;&nbsp;&nbsp;&nbsp;&nbsp;&nbsp;&nbsp;</br>&nbsp;&nbsp;&nbsp;&nbsp;&nbsp;&nbsp;&nbsp;&nbsp; &nbsp;&nbsp;&nbsp;&nbsp;&nbsp;&nbsp;&nbsp;&nbsp;&nbsp;&nbsp;&nbsp;&nbsp;&nbsp;&nbsp;&nbsp;&nbsp;&nbsp;\t\t\t</br>19. September 2019</br></br>Michael Kors (Austria) GmbH</br>Steuernummer 357/4506, Team 23</br></br>Hiermit übermitteln wir dem Finanzamt die Beilagen I und II zur Körperschaftsteuerklärung für das Jahr 2018 sowie den Jahresabschluss zum \n",
              "<mark class=\"entity\" style=\"background: #bfe1d9; padding: 0.45em 0.6em; margin: 0 0.25em; line-height: 1; border-radius: 0.35em;\">\n",
              "    31.3.2018\n",
              "    <span style=\"font-size: 0.8em; font-weight: bold; line-height: 1; border-radius: 0.35em; text-transform: uppercase; vertical-align: middle; margin-left: 0.5rem\">DATE</span>\n",
              "</mark>\n",
              ".</br>Die Körperschaftsteuererklärung für das Jahr 2018 wurde am 31. Juli 2019 per FinanzOnline</br>\n",
              "<mark class=\"entity\" style=\"background: #ddd; padding: 0.45em 0.6em; margin: 0 0.25em; line-height: 1; border-radius: 0.35em;\">\n",
              "    eingereicht.\n",
              "    <span style=\"font-size: 0.8em; font-weight: bold; line-height: 1; border-radius: 0.35em; text-transform: uppercase; vertical-align: middle; margin-left: 0.5rem\">PER</span>\n",
              "</mark>\n",
              "</br>Wir ersuchen das Finanzamt, die beiliegenden Kopien mit dem \n",
              "<mark class=\"entity\" style=\"background: #ddd; padding: 0.45em 0.6em; margin: 0 0.25em; line-height: 1; border-radius: 0.35em;\">\n",
              "    Eingangstempel\n",
              "    <span style=\"font-size: 0.8em; font-weight: bold; line-height: 1; border-radius: 0.35em; text-transform: uppercase; vertical-align: middle; margin-left: 0.5rem\">PER</span>\n",
              "</mark>\n",
              " zu versehen und an unseren steuerlichen Vertreter zu senden.\n",
              "\n",
              "\n",
              "Michael Kors (Austria) GmbH\n",
              "\n",
              "\n",
              "Anlagen\n",
              "\n",
              "</div>\n",
              "</figure>\n",
              "</body>\n",
              "</html>"
            ],
            "text/plain": [
              "<IPython.core.display.HTML object>"
            ]
          },
          "metadata": {
            "tags": []
          },
          "execution_count": 4
        }
      ]
    },
    {
      "cell_type": "code",
      "metadata": {
        "id": "U4g9MEXecah5",
        "colab_type": "code",
        "colab": {}
      },
      "source": [
        "import mammoth\n",
        "from bs4 import BeautifulSoup\n",
        "\n",
        "with open(\"PwC Brief.docx\", \"rb\") as docx_file:\n",
        "    result = mammoth.convert_to_html(docx_file,ignore_empty_paragraphs=False)\n",
        "    html = result.value\n",
        "\n",
        "soup = BeautifulSoup(html, 'lxml')\n",
        "list_of_bold = soup.findAll('strong')  "
      ],
      "execution_count": 5,
      "outputs": []
    },
    {
      "cell_type": "code",
      "metadata": {
        "id": "vLNOmisiYE0d",
        "colab_type": "code",
        "colab": {}
      },
      "source": [
        "for pr in right_alig_ind:\n",
        "  hto = hto.replace(pr.text, '<div  style=\"text-align: right\">{}</div>'.format(pr.text),1)\n",
        "for pr in list_of_bold:\n",
        "  hto = hto.replace(pr.text, '<strong>{}</strong>'.format(pr.text), 1)\n"
      ],
      "execution_count": 6,
      "outputs": []
    },
    {
      "cell_type": "code",
      "metadata": {
        "id": "9HzDhl1_cuSt",
        "colab_type": "code",
        "colab": {
          "base_uri": "https://localhost:8080/",
          "height": 368
        },
        "outputId": "8176bc88-36fb-47e0-80f1-a0b1410208b0"
      },
      "source": [
        "import xml.etree.ElementTree as ET\n",
        "import zipfile as zf\n",
        "import re\n",
        "z = zf.ZipFile(\"PwC Brief2.docx\")\n",
        "f = z.open(\"word/document.xml\")   # a file-like object\n",
        "nsmap = {'w': 'http://schemas.openxmlformats.org/wordprocessingml/2006/main'}\n",
        "\n",
        "\n",
        "def qn(tag):\n",
        "    \"\"\"\n",
        "    Stands for 'qualified name', a utility function to turn a namespace\n",
        "    prefixed tag name into a Clark-notation qualified tag name for lxml. For\n",
        "    example, ``qn('p:cSld')`` returns ``'{http://schemas.../main}cSld'``.\n",
        "    Source: https://github.com/python-openxml/python-docx/\n",
        "    \"\"\"\n",
        "    prefix, tagroot = tag.split(':')\n",
        "    uri = nsmap[prefix]\n",
        "    return '{{{}}}{}'.format(uri, tagroot)\n",
        "def xml2text(xml):\n",
        "    \"\"\"\n",
        "    A string representing the textual content of this run, with content\n",
        "    child elements like ``<w:tab/>`` translated to their Python\n",
        "    equivalent.\n",
        "    Adapted from: https://github.com/python-openxml/python-docx/\n",
        "    \"\"\"\n",
        "    check_next = False\n",
        "    text = u''\n",
        "    root = ET.fromstring(xml)\n",
        "    for child in root.iter():\n",
        "        if child.tag == qn('w:b'):\n",
        "          check_next = True\n",
        "          print('check')\n",
        "          #for it in child.items():\n",
        "          print(''.join(child.iter().itertext()))\n",
        "\n",
        "\n",
        "        if child.tag == qn('w:t'):\n",
        "            #if check_next:\n",
        "              #print(child.text)\n",
        "              #check_next = False\n",
        "            t_text = child.text\n",
        "            text += t_text if t_text is not None else ''\n",
        "        elif child.tag == qn('w:tab'):\n",
        "            text += '\\t'\n",
        "        elif child.tag in (qn('w:br'), qn('w:cr')):\n",
        "            text += '\\n'\n",
        "        elif child.tag == qn(\"w:p\"):\n",
        "            text += '\\n\\n'\n",
        "    return text\n",
        "\n",
        "\n",
        "header = u''\n",
        "\n",
        "# unzip the docx in memory\n",
        "zipf = zf.ZipFile(\"PwC Brief5.docx\")\n",
        "filelist = zipf.namelist()\n",
        "\n",
        "# get header text\n",
        "# there can be 3 header files in the zip\n",
        "header_xmls = 'word/header[0-9]*.xml'\n",
        "for fname in filelist:\n",
        "        if re.match(header_xmls, fname):\n",
        "            header += xml2text(zipf.read(fname))\n",
        "    # get main text\n",
        "\n",
        "text = u''\n",
        "\n",
        "doc_xml = 'word/document.xml'\n",
        "text += xml2text(zipf.read(doc_xml))\n",
        "text\n",
        "#header"
      ],
      "execution_count": 13,
      "outputs": [
        {
          "output_type": "stream",
          "text": [
            "check\n"
          ],
          "name": "stdout"
        },
        {
          "output_type": "error",
          "ename": "AttributeError",
          "evalue": "ignored",
          "traceback": [
            "\u001b[0;31m---------------------------------------------------------------------------\u001b[0m",
            "\u001b[0;31mAttributeError\u001b[0m                            Traceback (most recent call last)",
            "\u001b[0;32m<ipython-input-13-b29a3b268d26>\u001b[0m in \u001b[0;36m<module>\u001b[0;34m()\u001b[0m\n\u001b[1;32m     61\u001b[0m \u001b[0;32mfor\u001b[0m \u001b[0mfname\u001b[0m \u001b[0;32min\u001b[0m \u001b[0mfilelist\u001b[0m\u001b[0;34m:\u001b[0m\u001b[0;34m\u001b[0m\u001b[0;34m\u001b[0m\u001b[0m\n\u001b[1;32m     62\u001b[0m         \u001b[0;32mif\u001b[0m \u001b[0mre\u001b[0m\u001b[0;34m.\u001b[0m\u001b[0mmatch\u001b[0m\u001b[0;34m(\u001b[0m\u001b[0mheader_xmls\u001b[0m\u001b[0;34m,\u001b[0m \u001b[0mfname\u001b[0m\u001b[0;34m)\u001b[0m\u001b[0;34m:\u001b[0m\u001b[0;34m\u001b[0m\u001b[0;34m\u001b[0m\u001b[0m\n\u001b[0;32m---> 63\u001b[0;31m             \u001b[0mheader\u001b[0m \u001b[0;34m+=\u001b[0m \u001b[0mxml2text\u001b[0m\u001b[0;34m(\u001b[0m\u001b[0mzipf\u001b[0m\u001b[0;34m.\u001b[0m\u001b[0mread\u001b[0m\u001b[0;34m(\u001b[0m\u001b[0mfname\u001b[0m\u001b[0;34m)\u001b[0m\u001b[0;34m)\u001b[0m\u001b[0;34m\u001b[0m\u001b[0;34m\u001b[0m\u001b[0m\n\u001b[0m\u001b[1;32m     64\u001b[0m     \u001b[0;31m# get main text\u001b[0m\u001b[0;34m\u001b[0m\u001b[0;34m\u001b[0m\u001b[0;34m\u001b[0m\u001b[0m\n\u001b[1;32m     65\u001b[0m \u001b[0;34m\u001b[0m\u001b[0m\n",
            "\u001b[0;32m<ipython-input-13-b29a3b268d26>\u001b[0m in \u001b[0;36mxml2text\u001b[0;34m(xml)\u001b[0m\n\u001b[1;32m     32\u001b[0m           \u001b[0mprint\u001b[0m\u001b[0;34m(\u001b[0m\u001b[0;34m'check'\u001b[0m\u001b[0;34m)\u001b[0m\u001b[0;34m\u001b[0m\u001b[0;34m\u001b[0m\u001b[0m\n\u001b[1;32m     33\u001b[0m           \u001b[0;31m#for it in child.items():\u001b[0m\u001b[0;34m\u001b[0m\u001b[0;34m\u001b[0m\u001b[0;34m\u001b[0m\u001b[0m\n\u001b[0;32m---> 34\u001b[0;31m           \u001b[0mprint\u001b[0m\u001b[0;34m(\u001b[0m\u001b[0;34m''\u001b[0m\u001b[0;34m.\u001b[0m\u001b[0mjoin\u001b[0m\u001b[0;34m(\u001b[0m\u001b[0mchild\u001b[0m\u001b[0;34m.\u001b[0m\u001b[0miter\u001b[0m\u001b[0;34m(\u001b[0m\u001b[0;34m)\u001b[0m\u001b[0;34m.\u001b[0m\u001b[0mitertext\u001b[0m\u001b[0;34m(\u001b[0m\u001b[0;34m)\u001b[0m\u001b[0;34m)\u001b[0m\u001b[0;34m)\u001b[0m\u001b[0;34m\u001b[0m\u001b[0;34m\u001b[0m\u001b[0m\n\u001b[0m\u001b[1;32m     35\u001b[0m \u001b[0;34m\u001b[0m\u001b[0m\n\u001b[1;32m     36\u001b[0m \u001b[0;34m\u001b[0m\u001b[0m\n",
            "\u001b[0;31mAttributeError\u001b[0m: '_elementtree._element_iterator' object has no attribute 'itertext'"
          ]
        }
      ]
    },
    {
      "cell_type": "code",
      "metadata": {
        "id": "moUwhqFZrX0_",
        "colab_type": "code",
        "colab": {
          "base_uri": "https://localhost:8080/",
          "height": 34
        },
        "outputId": "d74fe080-2b4a-4abe-a3b2-8aaefff6d370"
      },
      "source": [
        "qn('w:jc')"
      ],
      "execution_count": 33,
      "outputs": [
        {
          "output_type": "execute_result",
          "data": {
            "text/plain": [
              "'{http://schemas.openxmlformats.org/wordprocessingml/2006/main}jc'"
            ]
          },
          "metadata": {
            "tags": []
          },
          "execution_count": 33
        }
      ]
    },
    {
      "cell_type": "code",
      "metadata": {
        "id": "wfX60UUVcR6X",
        "colab_type": "code",
        "colab": {
          "base_uri": "https://localhost:8080/",
          "height": 1000
        },
        "outputId": "08f5259e-2b71-4e70-dd00-b07f46eb6cb2"
      },
      "source": [
        "\n",
        "IPython.display.HTML(header.replace('\\n\\n\\n\\n\\n\\n\\n\\n\\n\\n','').replace('\\n','</br>')  + '</br>' + hto+ '</br>')"
      ],
      "execution_count": 9,
      "outputs": [
        {
          "output_type": "execute_result",
          "data": {
            "text/html": [
              "\tPwC PricewaterhouseCoopers</br>Wirtschaftsprüfung und</br>Steuerberatung GmbH</br>Donau-City-Straße 7</br>1220 Wien</br>Tel.:\t+43 1 501 88 - 0</br>Fax:\t+43 1 501 88 - 601</br>E-Mail: office.wien@at.pwc.com</br>www.pwc.at</br></br></br></br>\t</br><!DOCTYPE html>\n",
              "<html lang=\"de\">\n",
              "    <head>\n",
              "        <title>displaCy</title>\n",
              "    </head>\n",
              "\n",
              "    <body style=\"font-size: 16px; font-family: -apple-system, BlinkMacSystemFont, 'Segoe UI', Helvetica, Arial, sans-serif, 'Apple Color Emoji', 'Segoe UI Emoji', 'Segoe UI Symbol'; padding: 4rem 2rem; direction: ltr\">\n",
              "<figure style=\"margin-bottom: 6rem\">\n",
              "<div class=\"entities\" style=\"line-height: 2.5; direction: ltr\">\t</br></br></br><strong>Steuerpflichtiger: </strong><strong>Michael Kors (Austria) GmbH</strong></br>&nbsp;&nbsp;&nbsp;&nbsp;&nbsp;&nbsp;&nbsp;&nbsp; &nbsp;&nbsp;&nbsp;&nbsp;&nbsp;&nbsp;&nbsp;&nbsp;&nbsp;&nbsp;&nbsp;&nbsp;&nbsp;&nbsp;&nbsp;&nbsp;&nbsp; Steuernummer 357/4506, Team 23</br></br>vertreten durch:\tPwC PricewaterhouseCoopers</br>&nbsp;&nbsp;&nbsp;&nbsp;&nbsp;&nbsp;&nbsp;&nbsp; &nbsp;&nbsp;&nbsp;&nbsp;&nbsp;&nbsp;&nbsp;&nbsp;&nbsp;&nbsp;&nbsp;&nbsp;&nbsp;&nbsp;&nbsp;&nbsp;&nbsp;Wirtschaftsprüfung und Steuerberatung GmbH</br>&nbsp;&nbsp;&nbsp;&nbsp;&nbsp;&nbsp;&nbsp;&nbsp; &nbsp;&nbsp;&nbsp;&nbsp;&nbsp;&nbsp;&nbsp;&nbsp;&nbsp;&nbsp;&nbsp;&nbsp;&nbsp;&nbsp;&nbsp;&nbsp;&nbsp;(Vollmacht erteilt)</br></br></br>&nbsp;&nbsp;&nbsp;&nbsp;&nbsp;&nbsp;&nbsp;&nbsp; &nbsp;&nbsp;&nbsp;&nbsp;&nbsp;&nbsp;&nbsp;&nbsp;&nbsp;&nbsp;&nbsp;&nbsp;&nbsp;&nbsp;&nbsp;&nbsp;&nbsp;\n",
              "<mark class=\"entity\" style=\"background: #ddd; padding: 0.45em 0.6em; margin: 0 0.25em; line-height: 1; border-radius: 0.35em;\">\n",
              "    MMag. Gerald Dipplinger\n",
              "    <span style=\"font-size: 0.8em; font-weight: bold; line-height: 1; border-radius: 0.35em; text-transform: uppercase; vertical-align: middle; margin-left: 0.5rem\">PER</span>\n",
              "</mark>\n",
              "\ti.V. \n",
              "<mark class=\"entity\" style=\"background: #ddd; padding: 0.45em 0.6em; margin: 0 0.25em; line-height: 1; border-radius: 0.35em;\">\n",
              "    Mag. Nicole Kruckenfellner\n",
              "    <span style=\"font-size: 0.8em; font-weight: bold; line-height: 1; border-radius: 0.35em; text-transform: uppercase; vertical-align: middle; margin-left: 0.5rem\">PER</span>\n",
              "</mark>\n",
              "</br>&nbsp;&nbsp;&nbsp;&nbsp;&nbsp;&nbsp;&nbsp;&nbsp; &nbsp;&nbsp;&nbsp;&nbsp;&nbsp;&nbsp;&nbsp;&nbsp;&nbsp;&nbsp;&nbsp;&nbsp;&nbsp;&nbsp;&nbsp;&nbsp;&nbsp;  gerald.\n",
              "<mark class=\"entity\" style=\"background: #ddd; padding: 0.45em 0.6em; margin: 0 0.25em; line-height: 1; border-radius: 0.35em;\">\n",
              "    dipplinger@pwc.\n",
              "    <span style=\"font-size: 0.8em; font-weight: bold; line-height: 1; border-radius: 0.35em; text-transform: uppercase; vertical-align: middle; margin-left: 0.5rem\">PER</span>\n",
              "</mark>\n",
              "com\t nicole.kruckenfellner@pwc.com</br>&nbsp;&nbsp;&nbsp;&nbsp;&nbsp;&nbsp;&nbsp;&nbsp; &nbsp;&nbsp;&nbsp;&nbsp;&nbsp;&nbsp;&nbsp;&nbsp;&nbsp;&nbsp;&nbsp;&nbsp;&nbsp;&nbsp;&nbsp;&nbsp;&nbsp;01-\n",
              "<mark class=\"entity\" style=\"background: #bfe1d9; padding: 0.45em 0.6em; margin: 0 0.25em; line-height: 1; border-radius: 0.35em;\">\n",
              "    501 88-3648\n",
              "    <span style=\"font-size: 0.8em; font-weight: bold; line-height: 1; border-radius: 0.35em; text-transform: uppercase; vertical-align: middle; margin-left: 0.5rem\">DATE</span>\n",
              "</mark>\n",
              "\t01-\n",
              "<mark class=\"entity\" style=\"background: #bfe1d9; padding: 0.45em 0.6em; margin: 0 0.25em; line-height: 1; border-radius: 0.35em;\">\n",
              "    501 88-3647\n",
              "    <span style=\"font-size: 0.8em; font-weight: bold; line-height: 1; border-radius: 0.35em; text-transform: uppercase; vertical-align: middle; margin-left: 0.5rem\">DATE</span>\n",
              "</mark>\n",
              "</br></br><strong>wegen:</strong>\t<strong>Beilagen zur Körperschaftsteuererklärung 2018</strong></br></br></br></br><strong><strong>EINSCHREIBEN</strong></strong></br>Finanzamt Bruck \n",
              "<mark class=\"entity\" style=\"background: #ff9561; padding: 0.45em 0.6em; margin: 0 0.25em; line-height: 1; border-radius: 0.35em;\">\n",
              "    Eisenstadt\n",
              "    <span style=\"font-size: 0.8em; font-weight: bold; line-height: 1; border-radius: 0.35em; text-transform: uppercase; vertical-align: middle; margin-left: 0.5rem\">LOC</span>\n",
              "</mark>\n",
              " Oberwart</br>Team 23</br>\n",
              "<mark class=\"entity\" style=\"background: #ff9561; padding: 0.45em 0.6em; margin: 0 0.25em; line-height: 1; border-radius: 0.35em;\">\n",
              "    Neusiedlerstraße\n",
              "    <span style=\"font-size: 0.8em; font-weight: bold; line-height: 1; border-radius: 0.35em; text-transform: uppercase; vertical-align: middle; margin-left: 0.5rem\">LOC</span>\n",
              "</mark>\n",
              " 46</br>7001 \n",
              "<mark class=\"entity\" style=\"background: #ff9561; padding: 0.45em 0.6em; margin: 0 0.25em; line-height: 1; border-radius: 0.35em;\">\n",
              "    Eisenstadt\n",
              "    <span style=\"font-size: 0.8em; font-weight: bold; line-height: 1; border-radius: 0.35em; text-transform: uppercase; vertical-align: middle; margin-left: 0.5rem\">LOC</span>\n",
              "</mark>\n",
              "</br>&nbsp;&nbsp;&nbsp;&nbsp;&nbsp;&nbsp;&nbsp;&nbsp; &nbsp;&nbsp;&nbsp;&nbsp;&nbsp;&nbsp;&nbsp;&nbsp;&nbsp;&nbsp;&nbsp;&nbsp;&nbsp;&nbsp;&nbsp;&nbsp;&nbsp;</br>&nbsp;&nbsp;&nbsp;&nbsp;&nbsp;&nbsp;&nbsp;&nbsp; &nbsp;&nbsp;&nbsp;&nbsp;&nbsp;&nbsp;&nbsp;&nbsp;&nbsp;&nbsp;&nbsp;&nbsp;&nbsp;&nbsp;&nbsp;&nbsp;&nbsp;\t\t\t</br><div  style=\"text-align: right\">19. September 2019</div></br></br>Michael Kors (Austria) GmbH</br>Steuernummer 357/4506, Team 23</br></br>Hiermit übermitteln wir dem Finanzamt die Beilagen I und II zur Körperschaftsteuerklärung für das Jahr 2018 sowie den Jahresabschluss zum \n",
              "<mark class=\"entity\" style=\"background: #bfe1d9; padding: 0.45em 0.6em; margin: 0 0.25em; line-height: 1; border-radius: 0.35em;\">\n",
              "    31.3.2018\n",
              "    <span style=\"font-size: 0.8em; font-weight: bold; line-height: 1; border-radius: 0.35em; text-transform: uppercase; vertical-align: middle; margin-left: 0.5rem\">DATE</span>\n",
              "</mark>\n",
              ".</br>Die Körperschaftsteuererklärung für das Jahr 2018 wurde am 31. Juli 2019 per FinanzOnline</br>\n",
              "<mark class=\"entity\" style=\"background: #ddd; padding: 0.45em 0.6em; margin: 0 0.25em; line-height: 1; border-radius: 0.35em;\">\n",
              "    eingereicht.\n",
              "    <span style=\"font-size: 0.8em; font-weight: bold; line-height: 1; border-radius: 0.35em; text-transform: uppercase; vertical-align: middle; margin-left: 0.5rem\">PER</span>\n",
              "</mark>\n",
              "</br>Wir ersuchen das Finanzamt, die beiliegenden Kopien mit dem \n",
              "<mark class=\"entity\" style=\"background: #ddd; padding: 0.45em 0.6em; margin: 0 0.25em; line-height: 1; border-radius: 0.35em;\">\n",
              "    Eingangstempel\n",
              "    <span style=\"font-size: 0.8em; font-weight: bold; line-height: 1; border-radius: 0.35em; text-transform: uppercase; vertical-align: middle; margin-left: 0.5rem\">PER</span>\n",
              "</mark>\n",
              " zu versehen und an unseren steuerlichen Vertreter zu senden.\n",
              "\n",
              "\n",
              "Michael Kors (Austria) GmbH\n",
              "\n",
              "\n",
              "<strong>Anlagen</strong>\n",
              "\n",
              "</div>\n",
              "</figure>\n",
              "</body>\n",
              "</html></br>"
            ],
            "text/plain": [
              "<IPython.core.display.HTML object>"
            ]
          },
          "metadata": {
            "tags": []
          },
          "execution_count": 9
        }
      ]
    },
    {
      "cell_type": "code",
      "metadata": {
        "id": "oBb7vQ7ad3yx",
        "colab_type": "code",
        "colab": {
          "base_uri": "https://localhost:8080/",
          "height": 34
        },
        "outputId": "2467e11f-8793-4105-846d-8f8b18a739bf"
      },
      "source": [
        "!pip install docx2python\n",
        "\n",
        "import mammoth\n",
        "\n",
        "from docx import Document\n",
        "from docx2python import docx2python\n",
        "from docx2python.iterators import iter_paragraphs\n"
      ],
      "execution_count": 1,
      "outputs": [
        {
          "output_type": "stream",
          "text": [
            "Requirement already satisfied: docx2python in /usr/local/lib/python3.6/dist-packages (1.24)\n"
          ],
          "name": "stdout"
        }
      ]
    },
    {
      "cell_type": "code",
      "metadata": {
        "id": "kkma14MVZLiX",
        "colab_type": "code",
        "colab": {
          "base_uri": "https://localhost:8080/",
          "height": 71
        },
        "outputId": "fd5894ec-f197-46c6-e0df-5136b61c10e9"
      },
      "source": [
        "# one header one footer\n",
        "doc = docx2python(\"PwC Brief.docx\")\n",
        "\n",
        "\n",
        "header = ''.join(iter_paragraphs(doc.header))\n",
        "footer = ''.join(iter_paragraphs(doc.footer))\n",
        "\n",
        "\n",
        "\n",
        "print(\"header: \", header)\n",
        "print(\"footer: \", footer)\n"
      ],
      "execution_count": 2,
      "outputs": [
        {
          "output_type": "stream",
          "text": [
            "header:  \tPwC PricewaterhouseCoopersWirtschaftsprüfung undSteuerberatung GmbHDonau-City-Straße 71220 WienTel.:\t+43 1 501 88 - 0Fax:\t+43 1 501 88 - 601E-Mail: office.wien@at.pwc.comwww.pwc.at\t\n",
            "footer:  Geschäftsführer: StB Mag. Monika Berndl, WP/StB Mag. Dr. Christine Catasta, StB MMag. Gerald Dipplinger, StB Mag. Johannes Edlbacher, WP/StB Mag. Dr. Herbert Greinecker,WP/StB Mag. Bernd Hofmann, StB Dr. Martin Jann, StB Mag. Dr. Richard Jerabek, StB Mag. Dr. Rudolf Krickl, StB Mag. Peter Perktold, WP/StB, Mag. Peter Pessenlehner,WP/StB Mag. Hannes Rasner, WP/StB Mag. Jürgen Schauer, StB Mag. Thomas Steinbauer, StB Mag. Olivia Stiedl, StB Mag. Thomas Strobach, WP/StB Mag. Christine Weinzierl,WP/StB Mag. Felix Wirth, WP/StB Mag. Christof WörndlSitz der Gesellschaft: Wien; Firmenbuch: FN 226710 y, Handelsgericht Wien; DVR: 2109259; UID: ATU56889022; WT: 803271\"PwC\" bezeichnet das PwC-Netzwerk und/oder eine oder mehrere seiner Mitgliedsfirmen. Jedes Mitglied dieses Netzwerks ist ein selbständiges Rechtssubjekt. Weitere Informationenfinden Sie unter www.pwc.com/structure.\n"
          ],
          "name": "stdout"
        }
      ]
    },
    {
      "cell_type": "code",
      "metadata": {
        "id": "WTMFZSYahSHh",
        "colab_type": "code",
        "colab": {
          "base_uri": "https://localhost:8080/",
          "height": 54
        },
        "outputId": "fc9c6731-aa84-491f-8c42-b9d3bce73888"
      },
      "source": [
        "header.encode('utf-8')"
      ],
      "execution_count": 5,
      "outputs": [
        {
          "output_type": "execute_result",
          "data": {
            "text/plain": [
              "b'\\tPwC PricewaterhouseCoopersWirtschaftspr\\xc3\\xbcfung undSteuerberatung GmbHDonau-City-Stra\\xc3\\x9fe 71220 WienTel.:\\t+43 1 501 88 - 0Fax:\\t+43 1 501 88 - 601E-Mail: office.wien@at.pwc.comwww.pwc.at\\t'"
            ]
          },
          "metadata": {
            "tags": []
          },
          "execution_count": 5
        }
      ]
    },
    {
      "cell_type": "code",
      "metadata": {
        "id": "OxXyyR7Sg3bF",
        "colab_type": "code",
        "colab": {
          "base_uri": "https://localhost:8080/",
          "height": 54
        },
        "outputId": "78d77a1e-7aef-4b22-b381-72919d814eea"
      },
      "source": [
        "header"
      ],
      "execution_count": 3,
      "outputs": [
        {
          "output_type": "execute_result",
          "data": {
            "text/plain": [
              "'\\tPwC PricewaterhouseCoopersWirtschaftsprüfung undSteuerberatung GmbHDonau-City-Straße 71220 WienTel.:\\t+43 1 501 88 - 0Fax:\\t+43 1 501 88 - 601E-Mail: office.wien@at.pwc.comwww.pwc.at\\t'"
            ]
          },
          "metadata": {
            "tags": []
          },
          "execution_count": 3
        }
      ]
    },
    {
      "cell_type": "code",
      "metadata": {
        "id": "-FrhkBSWXsPk",
        "colab_type": "code",
        "colab": {
          "base_uri": "https://localhost:8080/",
          "height": 54
        },
        "outputId": "0ec9f8e4-80b2-4684-b003-cb2c20e4954c"
      },
      "source": [
        "\n",
        "for header in header:\n",
        "        file.write(header.encode('utf-8'))\n",
        "        file.write('\\n'.encode('utf-8'))\n",
        "\n",
        "      file.write(text)\n",
        "\n",
        "      \"\"\" add footers \"\"\"\n",
        "      for footer in footer3:\n",
        "        file.write(footer.encode('utf-8'))\n",
        "        file.write('\\n'.encode('utf-8'))"
      ],
      "execution_count": 12,
      "outputs": [
        {
          "output_type": "execute_result",
          "data": {
            "text/plain": [
              "'<!DOCTYPE html>\\n<html lang=\"de\">\\n    <head>\\n        <title>displaCy</title>\\n    </head>\\n\\n    <body style=\"font-size: 16px; font-family: -apple-system, BlinkMacSystemFont, \\'Segoe UI\\', Helvetica, Arial, sans-serif, \\'Apple Color Emoji\\', \\'Segoe UI Emoji\\', \\'Segoe UI Symbol\\'; padding: 4rem 2rem; direction: ltr\">\\n<figure style=\"margin-bottom: 6rem\">\\n<div class=\"entities\" style=\"line-height: 2.5; direction: ltr\">\\t</br></br></br>Steuerpflichtiger: Michael Kors (Austria) GmbH</br>&nbsp;&nbsp;&nbsp;&nbsp;&nbsp;&nbsp;&nbsp;&nbsp; &nbsp;&nbsp;&nbsp;&nbsp;&nbsp;&nbsp;&nbsp;&nbsp;&nbsp;&nbsp;&nbsp;&nbsp;&nbsp;&nbsp;&nbsp;&nbsp;&nbsp; Steuernummer 357/4506, Team 23</br></br>vertreten durch:\\tPwC PricewaterhouseCoopers</br>&nbsp;&nbsp;&nbsp;&nbsp;&nbsp;&nbsp;&nbsp;&nbsp; &nbsp;&nbsp;&nbsp;&nbsp;&nbsp;&nbsp;&nbsp;&nbsp;&nbsp;&nbsp;&nbsp;&nbsp;&nbsp;&nbsp;&nbsp;&nbsp;&nbsp;Wirtschaftsprüfung und Steuerberatung GmbH</br>&nbsp;&nbsp;&nbsp;&nbsp;&nbsp;&nbsp;&nbsp;&nbsp; &nbsp;&nbsp;&nbsp;&nbsp;&nbsp;&nbsp;&nbsp;&nbsp;&nbsp;&nbsp;&nbsp;&nbsp;&nbsp;&nbsp;&nbsp;&nbsp;&nbsp;(Vollmacht erteilt)</br></br></br>&nbsp;&nbsp;&nbsp;&nbsp;&nbsp;&nbsp;&nbsp;&nbsp; &nbsp;&nbsp;&nbsp;&nbsp;&nbsp;&nbsp;&nbsp;&nbsp;&nbsp;&nbsp;&nbsp;&nbsp;&nbsp;&nbsp;&nbsp;&nbsp;&nbsp;\\n<mark class=\"entity\" style=\"background: #ddd; padding: 0.45em 0.6em; margin: 0 0.25em; line-height: 1; border-radius: 0.35em;\">\\n    MMag. Gerald Dipplinger\\n    <span style=\"font-size: 0.8em; font-weight: bold; line-height: 1; border-radius: 0.35em; text-transform: uppercase; vertical-align: middle; margin-left: 0.5rem\">PER</span>\\n</mark>\\n\\ti.V. \\n<mark class=\"entity\" style=\"background: #ddd; padding: 0.45em 0.6em; margin: 0 0.25em; line-height: 1; border-radius: 0.35em;\">\\n    Mag. Nicole Kruckenfellner\\n    <span style=\"font-size: 0.8em; font-weight: bold; line-height: 1; border-radius: 0.35em; text-transform: uppercase; vertical-align: middle; margin-left: 0.5rem\">PER</span>\\n</mark>\\n</br>&nbsp;&nbsp;&nbsp;&nbsp;&nbsp;&nbsp;&nbsp;&nbsp; &nbsp;&nbsp;&nbsp;&nbsp;&nbsp;&nbsp;&nbsp;&nbsp;&nbsp;&nbsp;&nbsp;&nbsp;&nbsp;&nbsp;&nbsp;&nbsp;&nbsp;\\uf02a  gerald.\\n<mark class=\"entity\" style=\"background: #ddd; padding: 0.45em 0.6em; margin: 0 0.25em; line-height: 1; border-radius: 0.35em;\">\\n    dipplinger@pwc.\\n    <span style=\"font-size: 0.8em; font-weight: bold; line-height: 1; border-radius: 0.35em; text-transform: uppercase; vertical-align: middle; margin-left: 0.5rem\">PER</span>\\n</mark>\\ncom\\t\\uf02a nicole.kruckenfellner@pwc.com</br>&nbsp;&nbsp;&nbsp;&nbsp;&nbsp;&nbsp;&nbsp;&nbsp; &nbsp;&nbsp;&nbsp;&nbsp;&nbsp;&nbsp;&nbsp;&nbsp;&nbsp;&nbsp;&nbsp;&nbsp;&nbsp;&nbsp;&nbsp;&nbsp;&nbsp;\\uf028\\uf02001-\\n<mark class=\"entity\" style=\"background: #bfe1d9; padding: 0.45em 0.6em; margin: 0 0.25em; line-height: 1; border-radius: 0.35em;\">\\n    501 88-3648\\n    <span style=\"font-size: 0.8em; font-weight: bold; line-height: 1; border-radius: 0.35em; text-transform: uppercase; vertical-align: middle; margin-left: 0.5rem\">DATE</span>\\n</mark>\\n\\t\\uf028\\uf02001-\\n<mark class=\"entity\" style=\"background: #bfe1d9; padding: 0.45em 0.6em; margin: 0 0.25em; line-height: 1; border-radius: 0.35em;\">\\n    501 88-3647\\n    <span style=\"font-size: 0.8em; font-weight: bold; line-height: 1; border-radius: 0.35em; text-transform: uppercase; vertical-align: middle; margin-left: 0.5rem\">DATE</span>\\n</mark>\\n</br></br>wegen:\\tBeilagen zur Körperschaftsteuererklärung 2018</br></br></br></br>EINSCHREIBEN</br>Finanzamt Bruck \\n<mark class=\"entity\" style=\"background: #ff9561; padding: 0.45em 0.6em; margin: 0 0.25em; line-height: 1; border-radius: 0.35em;\">\\n    Eisenstadt\\n    <span style=\"font-size: 0.8em; font-weight: bold; line-height: 1; border-radius: 0.35em; text-transform: uppercase; vertical-align: middle; margin-left: 0.5rem\">LOC</span>\\n</mark>\\n Oberwart</br>Team 23</br>\\n<mark class=\"entity\" style=\"background: #ff9561; padding: 0.45em 0.6em; margin: 0 0.25em; line-height: 1; border-radius: 0.35em;\">\\n    Neusiedlerstraße\\n    <span style=\"font-size: 0.8em; font-weight: bold; line-height: 1; border-radius: 0.35em; text-transform: uppercase; vertical-align: middle; margin-left: 0.5rem\">LOC</span>\\n</mark>\\n 46</br>7001 \\n<mark class=\"entity\" style=\"background: #ff9561; padding: 0.45em 0.6em; margin: 0 0.25em; line-height: 1; border-radius: 0.35em;\">\\n    Eisenstadt\\n    <span style=\"font-size: 0.8em; font-weight: bold; line-height: 1; border-radius: 0.35em; text-transform: uppercase; vertical-align: middle; margin-left: 0.5rem\">LOC</span>\\n</mark>\\n</br>&nbsp;&nbsp;&nbsp;&nbsp;&nbsp;&nbsp;&nbsp;&nbsp; &nbsp;&nbsp;&nbsp;&nbsp;&nbsp;&nbsp;&nbsp;&nbsp;&nbsp;&nbsp;&nbsp;&nbsp;&nbsp;&nbsp;&nbsp;&nbsp;&nbsp;</br>&nbsp;&nbsp;&nbsp;&nbsp;&nbsp;&nbsp;&nbsp;&nbsp; &nbsp;&nbsp;&nbsp;&nbsp;&nbsp;&nbsp;&nbsp;&nbsp;&nbsp;&nbsp;&nbsp;&nbsp;&nbsp;&nbsp;&nbsp;&nbsp;&nbsp;\\t\\t\\t</br>19. September 2019</br></br>Michael Kors (Austria) GmbH</br>Steuernummer 357/4506, Team 23</br></br>Hiermit übermitteln wir dem Finanzamt die Beilagen I und II zur Körperschaftsteuerklärung für das Jahr 2018 sowie den Jahresabschluss zum \\n<mark class=\"entity\" style=\"background: #bfe1d9; padding: 0.45em 0.6em; margin: 0 0.25em; line-height: 1; border-radius: 0.35em;\">\\n    31.3.2018\\n    <span style=\"font-size: 0.8em; font-weight: bold; line-height: 1; border-radius: 0.35em; text-transform: uppercase; vertical-align: middle; margin-left: 0.5rem\">DATE</span>\\n</mark>\\n.</br>Die Körperschaftsteuererklärung für das Jahr 2018 wurde am 31. Juli 2019 per FinanzOnline</br>\\n<mark class=\"entity\" style=\"background: #ddd; padding: 0.45em 0.6em; margin: 0 0.25em; line-height: 1; border-radius: 0.35em;\">\\n    eingereicht.\\n    <span style=\"font-size: 0.8em; font-weight: bold; line-height: 1; border-radius: 0.35em; text-transform: uppercase; vertical-align: middle; margin-left: 0.5rem\">PER</span>\\n</mark>\\n</br>Wir ersuchen das Finanzamt, die beiliegenden Kopien mit dem \\n<mark class=\"entity\" style=\"background: #ddd; padding: 0.45em 0.6em; margin: 0 0.25em; line-height: 1; border-radius: 0.35em;\">\\n    Eingangstempel\\n    <span style=\"font-size: 0.8em; font-weight: bold; line-height: 1; border-radius: 0.35em; text-transform: uppercase; vertical-align: middle; margin-left: 0.5rem\">PER</span>\\n</mark>\\n zu versehen und an unseren steuerlichen Vertreter zu senden.\\n\\n\\nMichael Kors (Austria) GmbH\\n\\n\\nAnlagen\\n\\n</div>\\n</figure>\\n</body>\\n</html>'"
            ]
          },
          "metadata": {
            "tags": []
          },
          "execution_count": 12
        }
      ]
    },
    {
      "cell_type": "code",
      "metadata": {
        "id": "VIrJY5W-VdMb",
        "colab_type": "code",
        "colab": {
          "base_uri": "https://localhost:8080/",
          "height": 407
        },
        "outputId": "36ce0b39-38b6-4b27-902b-43c44ddd1baf"
      },
      "source": [
        "from bs4 import BeautifulSoup\n",
        "#html = document.value\n",
        "soup = BeautifulSoup(hto,\"html\")\n",
        "import IPython\n",
        "IPython.display.HTML(str(soup))"
      ],
      "execution_count": 10,
      "outputs": [
        {
          "output_type": "execute_result",
          "data": {
            "text/html": [
              "<!DOCTYPE html>\n",
              "<html lang=\"de\">\n",
              "<head>\n",
              "<title>displaCy</title>\n",
              "</head>\n",
              "<body style=\"font-size: 16px; font-family: -apple-system, BlinkMacSystemFont, 'Segoe UI', Helvetica, Arial, sans-serif, 'Apple Color Emoji', 'Segoe UI Emoji', 'Segoe UI Symbol'; padding: 4rem 2rem; direction: ltr\">\n",
              "<figure style=\"margin-bottom: 6rem\">\n",
              "<div class=\"entities\" style=\"line-height: 2.5; direction: ltr\">\tSteuerpflichtiger: Michael Kors (Austria) GmbH                           Steuernummer 357/4506, Team 23vertreten durch:\tPwC PricewaterhouseCoopers                          Wirtschaftsprüfung und Steuerberatung GmbH                          (Vollmacht erteilt)                          \n",
              "<mark class=\"entity\" style=\"background: #ddd; padding: 0.45em 0.6em; margin: 0 0.25em; line-height: 1; border-radius: 0.35em;\">\n",
              "    MMag. Gerald Dipplinger\n",
              "    <span style=\"font-size: 0.8em; font-weight: bold; line-height: 1; border-radius: 0.35em; text-transform: uppercase; vertical-align: middle; margin-left: 0.5rem\">PER</span>\n",
              "</mark>\n",
              "\ti.V. \n",
              "<mark class=\"entity\" style=\"background: #ddd; padding: 0.45em 0.6em; margin: 0 0.25em; line-height: 1; border-radius: 0.35em;\">\n",
              "    Mag. Nicole Kruckenfellner\n",
              "    <span style=\"font-size: 0.8em; font-weight: bold; line-height: 1; border-radius: 0.35em; text-transform: uppercase; vertical-align: middle; margin-left: 0.5rem\">PER</span>\n",
              "</mark>\n",
              "                            gerald.\n",
              "<mark class=\"entity\" style=\"background: #ddd; padding: 0.45em 0.6em; margin: 0 0.25em; line-height: 1; border-radius: 0.35em;\">\n",
              "    dipplinger@pwc.\n",
              "    <span style=\"font-size: 0.8em; font-weight: bold; line-height: 1; border-radius: 0.35em; text-transform: uppercase; vertical-align: middle; margin-left: 0.5rem\">PER</span>\n",
              "</mark>\n",
              "com\t nicole.kruckenfellner@pwc.com                          01-\n",
              "<mark class=\"entity\" style=\"background: #bfe1d9; padding: 0.45em 0.6em; margin: 0 0.25em; line-height: 1; border-radius: 0.35em;\">\n",
              "    501 88-3648\n",
              "    <span style=\"font-size: 0.8em; font-weight: bold; line-height: 1; border-radius: 0.35em; text-transform: uppercase; vertical-align: middle; margin-left: 0.5rem\">DATE</span>\n",
              "</mark>\n",
              "\t01-\n",
              "<mark class=\"entity\" style=\"background: #bfe1d9; padding: 0.45em 0.6em; margin: 0 0.25em; line-height: 1; border-radius: 0.35em;\">\n",
              "    501 88-3647\n",
              "    <span style=\"font-size: 0.8em; font-weight: bold; line-height: 1; border-radius: 0.35em; text-transform: uppercase; vertical-align: middle; margin-left: 0.5rem\">DATE</span>\n",
              "</mark>\n",
              "wegen:\tBeilagen zur Körperschaftsteuererklärung 2018EINSCHREIBENFinanzamt Bruck \n",
              "<mark class=\"entity\" style=\"background: #ff9561; padding: 0.45em 0.6em; margin: 0 0.25em; line-height: 1; border-radius: 0.35em;\">\n",
              "    Eisenstadt\n",
              "    <span style=\"font-size: 0.8em; font-weight: bold; line-height: 1; border-radius: 0.35em; text-transform: uppercase; vertical-align: middle; margin-left: 0.5rem\">LOC</span>\n",
              "</mark>\n",
              " OberwartTeam 23\n",
              "<mark class=\"entity\" style=\"background: #ff9561; padding: 0.45em 0.6em; margin: 0 0.25em; line-height: 1; border-radius: 0.35em;\">\n",
              "    Neusiedlerstraße\n",
              "    <span style=\"font-size: 0.8em; font-weight: bold; line-height: 1; border-radius: 0.35em; text-transform: uppercase; vertical-align: middle; margin-left: 0.5rem\">LOC</span>\n",
              "</mark>\n",
              " 467001 \n",
              "<mark class=\"entity\" style=\"background: #ff9561; padding: 0.45em 0.6em; margin: 0 0.25em; line-height: 1; border-radius: 0.35em;\">\n",
              "    Eisenstadt\n",
              "    <span style=\"font-size: 0.8em; font-weight: bold; line-height: 1; border-radius: 0.35em; text-transform: uppercase; vertical-align: middle; margin-left: 0.5rem\">LOC</span>\n",
              "</mark>\n",
              "                                                    \t\t\t19. September 2019Michael Kors (Austria) GmbHSteuernummer 357/4506, Team 23Hiermit übermitteln wir dem Finanzamt die Beilagen I und II zur Körperschaftsteuerklärung für das Jahr 2018 sowie den Jahresabschluss zum \n",
              "<mark class=\"entity\" style=\"background: #bfe1d9; padding: 0.45em 0.6em; margin: 0 0.25em; line-height: 1; border-radius: 0.35em;\">\n",
              "    31.3.2018\n",
              "    <span style=\"font-size: 0.8em; font-weight: bold; line-height: 1; border-radius: 0.35em; text-transform: uppercase; vertical-align: middle; margin-left: 0.5rem\">DATE</span>\n",
              "</mark>\n",
              ".Die Körperschaftsteuererklärung für das Jahr 2018 wurde am 31. Juli 2019 per FinanzOnline\n",
              "<mark class=\"entity\" style=\"background: #ddd; padding: 0.45em 0.6em; margin: 0 0.25em; line-height: 1; border-radius: 0.35em;\">\n",
              "    eingereicht.\n",
              "    <span style=\"font-size: 0.8em; font-weight: bold; line-height: 1; border-radius: 0.35em; text-transform: uppercase; vertical-align: middle; margin-left: 0.5rem\">PER</span>\n",
              "</mark>\n",
              "Wir ersuchen das Finanzamt, die beiliegenden Kopien mit dem \n",
              "<mark class=\"entity\" style=\"background: #ddd; padding: 0.45em 0.6em; margin: 0 0.25em; line-height: 1; border-radius: 0.35em;\">\n",
              "    Eingangstempel\n",
              "    <span style=\"font-size: 0.8em; font-weight: bold; line-height: 1; border-radius: 0.35em; text-transform: uppercase; vertical-align: middle; margin-left: 0.5rem\">PER</span>\n",
              "</mark>\n",
              " zu versehen und an unseren steuerlichen Vertreter zu senden.\n",
              "\n",
              "\n",
              "Michael Kors (Austria) GmbH\n",
              "\n",
              "\n",
              "Anlagen\n",
              "\n",
              "</div>\n",
              "</figure>\n",
              "</body>\n",
              "</html>"
            ],
            "text/plain": [
              "<IPython.core.display.HTML object>"
            ]
          },
          "metadata": {
            "tags": []
          },
          "execution_count": 10
        }
      ]
    },
    {
      "cell_type": "code",
      "metadata": {
        "id": "m2gbMo_WRaGu",
        "colab_type": "code",
        "colab": {
          "base_uri": "https://localhost:8080/",
          "height": 54
        },
        "outputId": "1c9ccda4-c01d-4b3a-953e-1a933d8d84ef"
      },
      "source": [
        "str(soup)"
      ],
      "execution_count": 11,
      "outputs": [
        {
          "output_type": "execute_result",
          "data": {
            "text/plain": [
              "'<!DOCTYPE html>\\n<html lang=\"de\">\\n<head>\\n<title>displaCy</title>\\n</head>\\n<body style=\"font-size: 16px; font-family: -apple-system, BlinkMacSystemFont, \\'Segoe UI\\', Helvetica, Arial, sans-serif, \\'Apple Color Emoji\\', \\'Segoe UI Emoji\\', \\'Segoe UI Symbol\\'; padding: 4rem 2rem; direction: ltr\">\\n<figure style=\"margin-bottom: 6rem\">\\n<div class=\"entities\" style=\"line-height: 2.5; direction: ltr\">\\tSteuerpflichtiger: Michael Kors (Austria) GmbH\\xa0\\xa0\\xa0\\xa0\\xa0\\xa0\\xa0\\xa0 \\xa0\\xa0\\xa0\\xa0\\xa0\\xa0\\xa0\\xa0\\xa0\\xa0\\xa0\\xa0\\xa0\\xa0\\xa0\\xa0\\xa0 Steuernummer 357/4506, Team 23vertreten durch:\\tPwC PricewaterhouseCoopers\\xa0\\xa0\\xa0\\xa0\\xa0\\xa0\\xa0\\xa0 \\xa0\\xa0\\xa0\\xa0\\xa0\\xa0\\xa0\\xa0\\xa0\\xa0\\xa0\\xa0\\xa0\\xa0\\xa0\\xa0\\xa0Wirtschaftsprüfung und Steuerberatung GmbH\\xa0\\xa0\\xa0\\xa0\\xa0\\xa0\\xa0\\xa0 \\xa0\\xa0\\xa0\\xa0\\xa0\\xa0\\xa0\\xa0\\xa0\\xa0\\xa0\\xa0\\xa0\\xa0\\xa0\\xa0\\xa0(Vollmacht erteilt)\\xa0\\xa0\\xa0\\xa0\\xa0\\xa0\\xa0\\xa0 \\xa0\\xa0\\xa0\\xa0\\xa0\\xa0\\xa0\\xa0\\xa0\\xa0\\xa0\\xa0\\xa0\\xa0\\xa0\\xa0\\xa0\\n<mark class=\"entity\" style=\"background: #ddd; padding: 0.45em 0.6em; margin: 0 0.25em; line-height: 1; border-radius: 0.35em;\">\\n    MMag. Gerald Dipplinger\\n    <span style=\"font-size: 0.8em; font-weight: bold; line-height: 1; border-radius: 0.35em; text-transform: uppercase; vertical-align: middle; margin-left: 0.5rem\">PER</span>\\n</mark>\\n\\ti.V. \\n<mark class=\"entity\" style=\"background: #ddd; padding: 0.45em 0.6em; margin: 0 0.25em; line-height: 1; border-radius: 0.35em;\">\\n    Mag. Nicole Kruckenfellner\\n    <span style=\"font-size: 0.8em; font-weight: bold; line-height: 1; border-radius: 0.35em; text-transform: uppercase; vertical-align: middle; margin-left: 0.5rem\">PER</span>\\n</mark>\\n\\xa0\\xa0\\xa0\\xa0\\xa0\\xa0\\xa0\\xa0 \\xa0\\xa0\\xa0\\xa0\\xa0\\xa0\\xa0\\xa0\\xa0\\xa0\\xa0\\xa0\\xa0\\xa0\\xa0\\xa0\\xa0\\uf02a  gerald.\\n<mark class=\"entity\" style=\"background: #ddd; padding: 0.45em 0.6em; margin: 0 0.25em; line-height: 1; border-radius: 0.35em;\">\\n    dipplinger@pwc.\\n    <span style=\"font-size: 0.8em; font-weight: bold; line-height: 1; border-radius: 0.35em; text-transform: uppercase; vertical-align: middle; margin-left: 0.5rem\">PER</span>\\n</mark>\\ncom\\t\\uf02a nicole.kruckenfellner@pwc.com\\xa0\\xa0\\xa0\\xa0\\xa0\\xa0\\xa0\\xa0 \\xa0\\xa0\\xa0\\xa0\\xa0\\xa0\\xa0\\xa0\\xa0\\xa0\\xa0\\xa0\\xa0\\xa0\\xa0\\xa0\\xa0\\uf028\\uf02001-\\n<mark class=\"entity\" style=\"background: #bfe1d9; padding: 0.45em 0.6em; margin: 0 0.25em; line-height: 1; border-radius: 0.35em;\">\\n    501 88-3648\\n    <span style=\"font-size: 0.8em; font-weight: bold; line-height: 1; border-radius: 0.35em; text-transform: uppercase; vertical-align: middle; margin-left: 0.5rem\">DATE</span>\\n</mark>\\n\\t\\uf028\\uf02001-\\n<mark class=\"entity\" style=\"background: #bfe1d9; padding: 0.45em 0.6em; margin: 0 0.25em; line-height: 1; border-radius: 0.35em;\">\\n    501 88-3647\\n    <span style=\"font-size: 0.8em; font-weight: bold; line-height: 1; border-radius: 0.35em; text-transform: uppercase; vertical-align: middle; margin-left: 0.5rem\">DATE</span>\\n</mark>\\nwegen:\\tBeilagen zur Körperschaftsteuererklärung 2018EINSCHREIBENFinanzamt Bruck \\n<mark class=\"entity\" style=\"background: #ff9561; padding: 0.45em 0.6em; margin: 0 0.25em; line-height: 1; border-radius: 0.35em;\">\\n    Eisenstadt\\n    <span style=\"font-size: 0.8em; font-weight: bold; line-height: 1; border-radius: 0.35em; text-transform: uppercase; vertical-align: middle; margin-left: 0.5rem\">LOC</span>\\n</mark>\\n OberwartTeam 23\\n<mark class=\"entity\" style=\"background: #ff9561; padding: 0.45em 0.6em; margin: 0 0.25em; line-height: 1; border-radius: 0.35em;\">\\n    Neusiedlerstraße\\n    <span style=\"font-size: 0.8em; font-weight: bold; line-height: 1; border-radius: 0.35em; text-transform: uppercase; vertical-align: middle; margin-left: 0.5rem\">LOC</span>\\n</mark>\\n 467001 \\n<mark class=\"entity\" style=\"background: #ff9561; padding: 0.45em 0.6em; margin: 0 0.25em; line-height: 1; border-radius: 0.35em;\">\\n    Eisenstadt\\n    <span style=\"font-size: 0.8em; font-weight: bold; line-height: 1; border-radius: 0.35em; text-transform: uppercase; vertical-align: middle; margin-left: 0.5rem\">LOC</span>\\n</mark>\\n\\xa0\\xa0\\xa0\\xa0\\xa0\\xa0\\xa0\\xa0 \\xa0\\xa0\\xa0\\xa0\\xa0\\xa0\\xa0\\xa0\\xa0\\xa0\\xa0\\xa0\\xa0\\xa0\\xa0\\xa0\\xa0\\xa0\\xa0\\xa0\\xa0\\xa0\\xa0\\xa0\\xa0 \\xa0\\xa0\\xa0\\xa0\\xa0\\xa0\\xa0\\xa0\\xa0\\xa0\\xa0\\xa0\\xa0\\xa0\\xa0\\xa0\\xa0\\t\\t\\t19. September 2019Michael Kors (Austria) GmbHSteuernummer 357/4506, Team 23Hiermit übermitteln wir dem Finanzamt die Beilagen I und II zur Körperschaftsteuerklärung für das Jahr 2018 sowie den Jahresabschluss zum \\n<mark class=\"entity\" style=\"background: #bfe1d9; padding: 0.45em 0.6em; margin: 0 0.25em; line-height: 1; border-radius: 0.35em;\">\\n    31.3.2018\\n    <span style=\"font-size: 0.8em; font-weight: bold; line-height: 1; border-radius: 0.35em; text-transform: uppercase; vertical-align: middle; margin-left: 0.5rem\">DATE</span>\\n</mark>\\n.Die Körperschaftsteuererklärung für das Jahr 2018 wurde am 31. Juli 2019 per FinanzOnline\\n<mark class=\"entity\" style=\"background: #ddd; padding: 0.45em 0.6em; margin: 0 0.25em; line-height: 1; border-radius: 0.35em;\">\\n    eingereicht.\\n    <span style=\"font-size: 0.8em; font-weight: bold; line-height: 1; border-radius: 0.35em; text-transform: uppercase; vertical-align: middle; margin-left: 0.5rem\">PER</span>\\n</mark>\\nWir ersuchen das Finanzamt, die beiliegenden Kopien mit dem \\n<mark class=\"entity\" style=\"background: #ddd; padding: 0.45em 0.6em; margin: 0 0.25em; line-height: 1; border-radius: 0.35em;\">\\n    Eingangstempel\\n    <span style=\"font-size: 0.8em; font-weight: bold; line-height: 1; border-radius: 0.35em; text-transform: uppercase; vertical-align: middle; margin-left: 0.5rem\">PER</span>\\n</mark>\\n zu versehen und an unseren steuerlichen Vertreter zu senden.\\n\\n\\nMichael Kors (Austria) GmbH\\n\\n\\nAnlagen\\n\\n</div>\\n</figure>\\n</body>\\n</html>'"
            ]
          },
          "metadata": {
            "tags": []
          },
          "execution_count": 11
        }
      ]
    },
    {
      "cell_type": "code",
      "metadata": {
        "id": "C5NelW9nJoam",
        "colab_type": "code",
        "colab": {
          "base_uri": "https://localhost:8080/",
          "height": 105
        },
        "outputId": "8e5611b7-c81a-46c7-dbc8-0aee5ab835c6"
      },
      "source": [
        "!pip install docx2python"
      ],
      "execution_count": 16,
      "outputs": [
        {
          "output_type": "stream",
          "text": [
            "Collecting docx2python\n",
            "  Downloading https://files.pythonhosted.org/packages/ea/1e/93a9ae365b9ad6a224efe079f2ab219614624c2106ecc3ab4a3804caf28d/docx2python-1.24-py3-none-any.whl\n",
            "Installing collected packages: docx2python\n",
            "Successfully installed docx2python-1.24\n"
          ],
          "name": "stdout"
        }
      ]
    },
    {
      "cell_type": "code",
      "metadata": {
        "id": "osvyZExmJgD5",
        "colab_type": "code",
        "colab": {
          "base_uri": "https://localhost:8080/",
          "height": 156
        },
        "outputId": "fb5f6e54-33dc-4cea-a339-0a27d6938d78"
      },
      "source": [
        "from docx2python import docx2python\n",
        "# one header one footer\n",
        "doc3 = docx2python(\"PwC Brief.docx\",html=True)\n",
        "doc3.header"
      ],
      "execution_count": 1,
      "outputs": [
        {
          "output_type": "execute_result",
          "data": {
            "text/plain": [
              "[[[[''], ['']]],\n",
              " [[['', '']]],\n",
              " [[['', ''], ['']],\n",
              "  [[''],\n",
              "   ['\\tPwC PricewaterhouseCoopersWirtschaftsprüfung undSteuerberatung GmbHDonau-City-Straße 71220 WienTel.:\\t+43 1 501 88 - 0Fax:\\t+43 1 501 88 - 601E-Mail: office.wien@at.pwc.comwww.pwc.at']],\n",
              "  [[''], ['\\t']]],\n",
              " [[['']]]]"
            ]
          },
          "metadata": {
            "tags": []
          },
          "execution_count": 1
        }
      ]
    },
    {
      "cell_type": "code",
      "metadata": {
        "id": "y3BPZbIrLYzl",
        "colab_type": "code",
        "colab": {
          "base_uri": "https://localhost:8080/",
          "height": 164
        },
        "outputId": "eef3cc2c-b904-4446-ad1c-3e32a4ae8841"
      },
      "source": [
        "docx2python.iterators.get_html_map(doc3.document)"
      ],
      "execution_count": 45,
      "outputs": [
        {
          "output_type": "error",
          "ename": "AttributeError",
          "evalue": "ignored",
          "traceback": [
            "\u001b[0;31m---------------------------------------------------------------------------\u001b[0m",
            "\u001b[0;31mAttributeError\u001b[0m                            Traceback (most recent call last)",
            "\u001b[0;32m<ipython-input-45-50b31a7aa121>\u001b[0m in \u001b[0;36m<module>\u001b[0;34m()\u001b[0m\n\u001b[0;32m----> 1\u001b[0;31m \u001b[0mdocx2python\u001b[0m\u001b[0;34m.\u001b[0m\u001b[0miterators\u001b[0m\u001b[0;34m.\u001b[0m\u001b[0mget_html_map\u001b[0m\u001b[0;34m(\u001b[0m\u001b[0mdoc3\u001b[0m\u001b[0;34m.\u001b[0m\u001b[0mdocument\u001b[0m\u001b[0;34m)\u001b[0m\u001b[0;34m\u001b[0m\u001b[0;34m\u001b[0m\u001b[0m\n\u001b[0m",
            "\u001b[0;31mAttributeError\u001b[0m: 'function' object has no attribute 'iterators'"
          ]
        }
      ]
    },
    {
      "cell_type": "code",
      "metadata": {
        "id": "DcRGRPBAHqF9",
        "colab_type": "code",
        "colab": {
          "base_uri": "https://localhost:8080/"
        },
        "outputId": "2f897ce9-79c2-402f-fb6c-339198f03deb"
      },
      "source": [
        "import IPython\n",
        "IPython.display.HTML(soup.prettify())\n"
      ],
      "execution_count": 33,
      "outputs": [
        {
          "output_type": "execute_result",
          "data": {
            "text/html": [
              "<!DOCTYPE html>\n",
              "<html lang=\"de\">\n",
              " <head>\n",
              "  <title>\n",
              "   displaCy\n",
              "  </title>\n",
              " </head>\n",
              " <body style=\"font-size: 16px; font-family: -apple-system, BlinkMacSystemFont, 'Segoe UI', Helvetica, Arial, sans-serif, 'Apple Color Emoji', 'Segoe UI Emoji', 'Segoe UI Symbol'; padding: 4rem 2rem; direction: ltr\">\n",
              "  <figure style=\"margin-bottom: 6rem\">\n",
              "   <div class=\"entities\" style=\"line-height: 2.5; direction: ltr\">\n",
              "    Steuerpflichtiger: Michael Kors (Austria) GmbH                           Steuernummer 357/4506, Team 23vertreten durch:\tPwC PricewaterhouseCoopers                          Wirtschaftsprüfung und Steuerberatung GmbH                          (Vollmacht erteilt)\n",
              "    <mark class=\"entity\" style=\"background: #ddd; padding: 0.45em 0.6em; margin: 0 0.25em; line-height: 1; border-radius: 0.35em;\">\n",
              "     MMag. Gerald Dipplinger\n",
              "     <span style=\"font-size: 0.8em; font-weight: bold; line-height: 1; border-radius: 0.35em; text-transform: uppercase; vertical-align: middle; margin-left: 0.5rem\">\n",
              "      PER\n",
              "     </span>\n",
              "    </mark>\n",
              "    i.V.\n",
              "    <mark class=\"entity\" style=\"background: #ddd; padding: 0.45em 0.6em; margin: 0 0.25em; line-height: 1; border-radius: 0.35em;\">\n",
              "     Mag. Nicole Kruckenfellner\n",
              "     <span style=\"font-size: 0.8em; font-weight: bold; line-height: 1; border-radius: 0.35em; text-transform: uppercase; vertical-align: middle; margin-left: 0.5rem\">\n",
              "      PER\n",
              "     </span>\n",
              "    </mark>\n",
              "      gerald.\n",
              "    <mark class=\"entity\" style=\"background: #ddd; padding: 0.45em 0.6em; margin: 0 0.25em; line-height: 1; border-radius: 0.35em;\">\n",
              "     dipplinger@pwc.\n",
              "     <span style=\"font-size: 0.8em; font-weight: bold; line-height: 1; border-radius: 0.35em; text-transform: uppercase; vertical-align: middle; margin-left: 0.5rem\">\n",
              "      PER\n",
              "     </span>\n",
              "    </mark>\n",
              "    com\t nicole.kruckenfellner@pwc.com                          01-\n",
              "    <mark class=\"entity\" style=\"background: #bfe1d9; padding: 0.45em 0.6em; margin: 0 0.25em; line-height: 1; border-radius: 0.35em;\">\n",
              "     501 88-3648\n",
              "     <span style=\"font-size: 0.8em; font-weight: bold; line-height: 1; border-radius: 0.35em; text-transform: uppercase; vertical-align: middle; margin-left: 0.5rem\">\n",
              "      DATE\n",
              "     </span>\n",
              "    </mark>\n",
              "    01-\n",
              "    <mark class=\"entity\" style=\"background: #bfe1d9; padding: 0.45em 0.6em; margin: 0 0.25em; line-height: 1; border-radius: 0.35em;\">\n",
              "     501 88-3647\n",
              "     <span style=\"font-size: 0.8em; font-weight: bold; line-height: 1; border-radius: 0.35em; text-transform: uppercase; vertical-align: middle; margin-left: 0.5rem\">\n",
              "      DATE\n",
              "     </span>\n",
              "    </mark>\n",
              "    wegen:\tBeilagen zur Körperschaftsteuererklärung 2018EINSCHREIBENFinanzamt Bruck\n",
              "    <mark class=\"entity\" style=\"background: #ff9561; padding: 0.45em 0.6em; margin: 0 0.25em; line-height: 1; border-radius: 0.35em;\">\n",
              "     Eisenstadt\n",
              "     <span style=\"font-size: 0.8em; font-weight: bold; line-height: 1; border-radius: 0.35em; text-transform: uppercase; vertical-align: middle; margin-left: 0.5rem\">\n",
              "      LOC\n",
              "     </span>\n",
              "    </mark>\n",
              "    OberwartTeam 23\n",
              "    <mark class=\"entity\" style=\"background: #ff9561; padding: 0.45em 0.6em; margin: 0 0.25em; line-height: 1; border-radius: 0.35em;\">\n",
              "     Neusiedlerstraße\n",
              "     <span style=\"font-size: 0.8em; font-weight: bold; line-height: 1; border-radius: 0.35em; text-transform: uppercase; vertical-align: middle; margin-left: 0.5rem\">\n",
              "      LOC\n",
              "     </span>\n",
              "    </mark>\n",
              "    467001\n",
              "    <mark class=\"entity\" style=\"background: #ff9561; padding: 0.45em 0.6em; margin: 0 0.25em; line-height: 1; border-radius: 0.35em;\">\n",
              "     Eisenstadt\n",
              "     <span style=\"font-size: 0.8em; font-weight: bold; line-height: 1; border-radius: 0.35em; text-transform: uppercase; vertical-align: middle; margin-left: 0.5rem\">\n",
              "      LOC\n",
              "     </span>\n",
              "    </mark>\n",
              "    19. September 2019Michael Kors (Austria) GmbHSteuernummer 357/4506, Team 23Hiermit übermitteln wir dem Finanzamt die Beilagen I und II zur Körperschaftsteuerklärung für das Jahr 2018 sowie den Jahresabschluss zum\n",
              "    <mark class=\"entity\" style=\"background: #bfe1d9; padding: 0.45em 0.6em; margin: 0 0.25em; line-height: 1; border-radius: 0.35em;\">\n",
              "     31.3.2018\n",
              "     <span style=\"font-size: 0.8em; font-weight: bold; line-height: 1; border-radius: 0.35em; text-transform: uppercase; vertical-align: middle; margin-left: 0.5rem\">\n",
              "      DATE\n",
              "     </span>\n",
              "    </mark>\n",
              "    .Die Körperschaftsteuererklärung für das Jahr 2018 wurde am 31. Juli 2019 per FinanzOnline\n",
              "    <mark class=\"entity\" style=\"background: #ddd; padding: 0.45em 0.6em; margin: 0 0.25em; line-height: 1; border-radius: 0.35em;\">\n",
              "     eingereicht.\n",
              "     <span style=\"font-size: 0.8em; font-weight: bold; line-height: 1; border-radius: 0.35em; text-transform: uppercase; vertical-align: middle; margin-left: 0.5rem\">\n",
              "      PER\n",
              "     </span>\n",
              "    </mark>\n",
              "    Wir ersuchen das Finanzamt, die beiliegenden Kopien mit dem\n",
              "    <mark class=\"entity\" style=\"background: #ddd; padding: 0.45em 0.6em; margin: 0 0.25em; line-height: 1; border-radius: 0.35em;\">\n",
              "     Eingangstempel\n",
              "     <span style=\"font-size: 0.8em; font-weight: bold; line-height: 1; border-radius: 0.35em; text-transform: uppercase; vertical-align: middle; margin-left: 0.5rem\">\n",
              "      PER\n",
              "     </span>\n",
              "    </mark>\n",
              "    zu versehen und an unseren steuerlichen Vertreter zu senden.\n",
              "\n",
              "\n",
              "Michael Kors (Austria) GmbH\n",
              "\n",
              "\n",
              "Anlagen\n",
              "   </div>\n",
              "  </figure>\n",
              " </body>\n",
              "</html>"
            ],
            "text/plain": [
              "<IPython.core.display.HTML object>"
            ]
          },
          "metadata": {
            "tags": []
          },
          "execution_count": 33
        }
      ]
    },
    {
      "cell_type": "code",
      "metadata": {
        "id": "2-lGjY6ZB2dG",
        "colab_type": "code",
        "colab": {
          "base_uri": "https://localhost:8080/",
          "height": 1000
        },
        "outputId": "6d89731a-c1d9-46e3-b769-c71514e3cbc7"
      },
      "source": [
        "import IPython\n",
        "IPython.display.HTML(html_out.replace(\"</br></br>\",\"</br>\"))\n"
      ],
      "execution_count": 6,
      "outputs": [
        {
          "output_type": "execute_result",
          "data": {
            "text/html": [
              "<!DOCTYPE html>\n",
              "<html lang=\"de\">\n",
              "    <head>\n",
              "        <title>displaCy</title>\n",
              "    </head>\n",
              "\n",
              "    <body style=\"font-size: 16px; font-family: -apple-system, BlinkMacSystemFont, 'Segoe UI', Helvetica, Arial, sans-serif, 'Apple Color Emoji', 'Segoe UI Emoji', 'Segoe UI Symbol'; padding: 4rem 2rem; direction: ltr\">\n",
              "<figure style=\"margin-bottom: 6rem\">\n",
              "<div class=\"entities\" style=\"line-height: 2.5; direction: ltr\">\t</br></br></br>Steuerpflichtiger: Michael Kors (Austria) GmbH</br>\t Steuernummer 357/4506, Team 23</br></br>vertreten durch:\tPwC PricewaterhouseCoopers</br>\tWirtschaftsprüfung und Steuerberatung GmbH</br>\t(Vollmacht erteilt)</br></br></br>\t\n",
              "<mark class=\"entity\" style=\"background: #ddd; padding: 0.45em 0.6em; margin: 0 0.25em; line-height: 1; border-radius: 0.35em;\">\n",
              "    MMag. Gerald Dipplinger\n",
              "    <span style=\"font-size: 0.8em; font-weight: bold; line-height: 1; border-radius: 0.35em; text-transform: uppercase; vertical-align: middle; margin-left: 0.5rem\">PER</span>\n",
              "</mark>\n",
              "\ti.V. \n",
              "<mark class=\"entity\" style=\"background: #ddd; padding: 0.45em 0.6em; margin: 0 0.25em; line-height: 1; border-radius: 0.35em;\">\n",
              "    Mag. Nicole Kruckenfellner\n",
              "    <span style=\"font-size: 0.8em; font-weight: bold; line-height: 1; border-radius: 0.35em; text-transform: uppercase; vertical-align: middle; margin-left: 0.5rem\">PER</span>\n",
              "</mark>\n",
              "</br>\t  gerald.\n",
              "<mark class=\"entity\" style=\"background: #ddd; padding: 0.45em 0.6em; margin: 0 0.25em; line-height: 1; border-radius: 0.35em;\">\n",
              "    dipplinger@pwc.\n",
              "    <span style=\"font-size: 0.8em; font-weight: bold; line-height: 1; border-radius: 0.35em; text-transform: uppercase; vertical-align: middle; margin-left: 0.5rem\">PER</span>\n",
              "</mark>\n",
              "com\t nicole.kruckenfellner@pwc.com</br>\t01-\n",
              "<mark class=\"entity\" style=\"background: #bfe1d9; padding: 0.45em 0.6em; margin: 0 0.25em; line-height: 1; border-radius: 0.35em;\">\n",
              "    501 88-3648\n",
              "    <span style=\"font-size: 0.8em; font-weight: bold; line-height: 1; border-radius: 0.35em; text-transform: uppercase; vertical-align: middle; margin-left: 0.5rem\">DATE</span>\n",
              "</mark>\n",
              "\t01-\n",
              "<mark class=\"entity\" style=\"background: #bfe1d9; padding: 0.45em 0.6em; margin: 0 0.25em; line-height: 1; border-radius: 0.35em;\">\n",
              "    501 88-3647\n",
              "    <span style=\"font-size: 0.8em; font-weight: bold; line-height: 1; border-radius: 0.35em; text-transform: uppercase; vertical-align: middle; margin-left: 0.5rem\">DATE</span>\n",
              "</mark>\n",
              "</br></br>wegen:\tBeilagen zur Körperschaftsteuererklärung 2018</br></br></br></br>EINSCHREIBEN</br>Finanzamt Bruck \n",
              "<mark class=\"entity\" style=\"background: #ff9561; padding: 0.45em 0.6em; margin: 0 0.25em; line-height: 1; border-radius: 0.35em;\">\n",
              "    Eisenstadt\n",
              "    <span style=\"font-size: 0.8em; font-weight: bold; line-height: 1; border-radius: 0.35em; text-transform: uppercase; vertical-align: middle; margin-left: 0.5rem\">LOC</span>\n",
              "</mark>\n",
              " Oberwart</br>Team 23</br>\n",
              "<mark class=\"entity\" style=\"background: #ff9561; padding: 0.45em 0.6em; margin: 0 0.25em; line-height: 1; border-radius: 0.35em;\">\n",
              "    Neusiedlerstraße\n",
              "    <span style=\"font-size: 0.8em; font-weight: bold; line-height: 1; border-radius: 0.35em; text-transform: uppercase; vertical-align: middle; margin-left: 0.5rem\">LOC</span>\n",
              "</mark>\n",
              " 46</br>7001 \n",
              "<mark class=\"entity\" style=\"background: #ff9561; padding: 0.45em 0.6em; margin: 0 0.25em; line-height: 1; border-radius: 0.35em;\">\n",
              "    Eisenstadt\n",
              "    <span style=\"font-size: 0.8em; font-weight: bold; line-height: 1; border-radius: 0.35em; text-transform: uppercase; vertical-align: middle; margin-left: 0.5rem\">LOC</span>\n",
              "</mark>\n",
              "</br>\t</br>\t\t\t\t</br>19. September 2019</br></br>Michael Kors (Austria) GmbH</br>Steuernummer 357/4506, Team 23</br></br>Hiermit übermitteln wir dem Finanzamt die Beilagen I und II zur Körperschaftsteuerklärung für das Jahr 2018 sowie den Jahresabschluss zum \n",
              "<mark class=\"entity\" style=\"background: #bfe1d9; padding: 0.45em 0.6em; margin: 0 0.25em; line-height: 1; border-radius: 0.35em;\">\n",
              "    31.3.2018\n",
              "    <span style=\"font-size: 0.8em; font-weight: bold; line-height: 1; border-radius: 0.35em; text-transform: uppercase; vertical-align: middle; margin-left: 0.5rem\">DATE</span>\n",
              "</mark>\n",
              ".</br>Die Körperschaftsteuererklärung für das Jahr 2018 wurde am 31. Juli 2019 per FinanzOnline</br>\n",
              "<mark class=\"entity\" style=\"background: #ddd; padding: 0.45em 0.6em; margin: 0 0.25em; line-height: 1; border-radius: 0.35em;\">\n",
              "    eingereicht.\n",
              "    <span style=\"font-size: 0.8em; font-weight: bold; line-height: 1; border-radius: 0.35em; text-transform: uppercase; vertical-align: middle; margin-left: 0.5rem\">PER</span>\n",
              "</mark>\n",
              "</br>Wir ersuchen das Finanzamt, die beiliegenden Kopien mit dem \n",
              "<mark class=\"entity\" style=\"background: #ddd; padding: 0.45em 0.6em; margin: 0 0.25em; line-height: 1; border-radius: 0.35em;\">\n",
              "    Eingangstempel\n",
              "    <span style=\"font-size: 0.8em; font-weight: bold; line-height: 1; border-radius: 0.35em; text-transform: uppercase; vertical-align: middle; margin-left: 0.5rem\">PER</span>\n",
              "</mark>\n",
              " zu versehen und an unseren steuerlichen Vertreter zu senden.\n",
              "\n",
              "\n",
              "Michael Kors (Austria) GmbH\n",
              "\n",
              "\n",
              "Anlagen\n",
              "\n",
              "</div>\n",
              "</figure>\n",
              "</body>\n",
              "</html>"
            ],
            "text/plain": [
              "<IPython.core.display.HTML object>"
            ]
          },
          "metadata": {
            "tags": []
          },
          "execution_count": 6
        }
      ]
    },
    {
      "cell_type": "code",
      "metadata": {
        "id": "ch8PYlEU75-h",
        "colab_type": "code",
        "colab": {
          "base_uri": "https://localhost:8080/",
          "height": 1000
        },
        "outputId": "41c5c4df-2c41-4624-8c57-c03b286c4fd8"
      },
      "source": [
        "print(result)"
      ],
      "execution_count": 9,
      "outputs": [
        {
          "output_type": "stream",
          "text": [
            "<div style=\"overflow-x: auto; border: 1px solid #e6e9ef; border-radius: 0.25rem; padding: 1rem\"><!DOCTYPE html>\n",
            "<html lang=\"de\">\n",
            "    <head>\n",
            "        <title>displaCy</title>\n",
            "    </head>\n",
            "    <body style=\"font-size: 16px; font-family: -apple-system, BlinkMacSystemFont, 'Segoe UI', Helvetica, Arial, sans-serif, 'Apple Color Emoji', 'Segoe UI Emoji', 'Segoe UI Symbol'; padding: 4rem 2rem; direction: ltr\">\n",
            "<figure style=\"margin-bottom: 6rem\">\n",
            "<div class=\"entities\" style=\"line-height: 2.5; direction: ltr\">\t</br></br></br></br></br></br>Steuerpflichtiger: Michael Kors (Austria) GmbH</br>\t Steuernummer 357/4506, Team 23</br></br></br></br>vertreten durch:\tPwC PricewaterhouseCoopers</br>\tWirtschaftsprüfung und Steuerberatung GmbH</br>\t(Vollmacht erteilt)</br></br></br></br></br>\t\n",
            "<mark class=\"entity\" style=\"background: #ddd; padding: 0.45em 0.6em; margin: 0 0.25em; line-height: 1; border-radius: 0.35em;\">\n",
            "    MMag. Gerald Dipplinger\n",
            "    <span style=\"font-size: 0.8em; font-weight: bold; line-height: 1; border-radius: 0.35em; text-transform: uppercase; vertical-align: middle; margin-left: 0.5rem\">PER</span>\n",
            "</mark>\n",
            "\ti.V. \n",
            "<mark class=\"entity\" style=\"background: #ddd; padding: 0.45em 0.6em; margin: 0 0.25em; line-height: 1; border-radius: 0.35em;\">\n",
            "    Mag. Nicole Kruckenfellner\n",
            "    <span style=\"font-size: 0.8em; font-weight: bold; line-height: 1; border-radius: 0.35em; text-transform: uppercase; vertical-align: middle; margin-left: 0.5rem\">PER</span>\n",
            "</mark>\n",
            "</br>\t  gerald.\n",
            "<mark class=\"entity\" style=\"background: #ddd; padding: 0.45em 0.6em; margin: 0 0.25em; line-height: 1; border-radius: 0.35em;\">\n",
            "    dipplinger@pwc.\n",
            "    <span style=\"font-size: 0.8em; font-weight: bold; line-height: 1; border-radius: 0.35em; text-transform: uppercase; vertical-align: middle; margin-left: 0.5rem\">PER</span>\n",
            "</mark>\n",
            "com\t nicole.kruckenfellner@pwc.com</br>\t01-\n",
            "<mark class=\"entity\" style=\"background: #bfe1d9; padding: 0.45em 0.6em; margin: 0 0.25em; line-height: 1; border-radius: 0.35em;\">\n",
            "    501 88-3648\n",
            "    <span style=\"font-size: 0.8em; font-weight: bold; line-height: 1; border-radius: 0.35em; text-transform: uppercase; vertical-align: middle; margin-left: 0.5rem\">DATE</span>\n",
            "</mark>\n",
            "\t01-\n",
            "<mark class=\"entity\" style=\"background: #bfe1d9; padding: 0.45em 0.6em; margin: 0 0.25em; line-height: 1; border-radius: 0.35em;\">\n",
            "    501 88-3647\n",
            "    <span style=\"font-size: 0.8em; font-weight: bold; line-height: 1; border-radius: 0.35em; text-transform: uppercase; vertical-align: middle; margin-left: 0.5rem\">DATE</span>\n",
            "</mark>\n",
            "</br></br></br></br>wegen:\tBeilagen zur Körperschaftsteuererklärung 2018</br></br></br></br></br></br></br></br>EINSCHREIBEN</br>Finanzamt Bruck \n",
            "<mark class=\"entity\" style=\"background: #ff9561; padding: 0.45em 0.6em; margin: 0 0.25em; line-height: 1; border-radius: 0.35em;\">\n",
            "    Eisenstadt\n",
            "    <span style=\"font-size: 0.8em; font-weight: bold; line-height: 1; border-radius: 0.35em; text-transform: uppercase; vertical-align: middle; margin-left: 0.5rem\">LOC</span>\n",
            "</mark>\n",
            " Oberwart</br>Team 23</br></br>\n",
            "<mark class=\"entity\" style=\"background: #ff9561; padding: 0.45em 0.6em; margin: 0 0.25em; line-height: 1; border-radius: 0.35em;\">\n",
            "    Neusiedlerstraße\n",
            "    <span style=\"font-size: 0.8em; font-weight: bold; line-height: 1; border-radius: 0.35em; text-transform: uppercase; vertical-align: middle; margin-left: 0.5rem\">LOC</span>\n",
            "</mark>\n",
            " 46</br>7001 \n",
            "<mark class=\"entity\" style=\"background: #ff9561; padding: 0.45em 0.6em; margin: 0 0.25em; line-height: 1; border-radius: 0.35em;\">\n",
            "    Eisenstadt\n",
            "    <span style=\"font-size: 0.8em; font-weight: bold; line-height: 1; border-radius: 0.35em; text-transform: uppercase; vertical-align: middle; margin-left: 0.5rem\">LOC</span>\n",
            "</mark>\n",
            "</br>\t</br></br>\t\t\t\t</br>19. September 2019</br></br></br></br>Michael Kors (Austria) GmbH</br>Steuernummer 357/4506, Team 23</br></br></br>Hiermit übermitteln wir dem Finanzamt die Beilagen I und II zur Körperschaftsteuerklärung für das Jahr 2018 sowie den Jahresabschluss zum \n",
            "<mark class=\"entity\" style=\"background: #bfe1d9; padding: 0.45em 0.6em; margin: 0 0.25em; line-height: 1; border-radius: 0.35em;\">\n",
            "    31.3.2018\n",
            "    <span style=\"font-size: 0.8em; font-weight: bold; line-height: 1; border-radius: 0.35em; text-transform: uppercase; vertical-align: middle; margin-left: 0.5rem\">DATE</span>\n",
            "</mark>\n",
            ".</br></br>Die Körperschaftsteuererklärung für das Jahr 2018 wurde am 31. Juli 2019 per FinanzOnline</br>\n",
            "<mark class=\"entity\" style=\"background: #ddd; padding: 0.45em 0.6em; margin: 0 0.25em; line-height: 1; border-radius: 0.35em;\">\n",
            "    eingereicht.\n",
            "    <span style=\"font-size: 0.8em; font-weight: bold; line-height: 1; border-radius: 0.35em; text-transform: uppercase; vertical-align: middle; margin-left: 0.5rem\">PER</span>\n",
            "</mark>\n",
            "</br></br>Wir ersuchen das Finanzamt, die beiliegenden Kopien mit dem \n",
            "<mark class=\"entity\" style=\"background: #ddd; padding: 0.45em 0.6em; margin: 0 0.25em; line-height: 1; border-radius: 0.35em;\">\n",
            "    Eingangstempel\n",
            "    <span style=\"font-size: 0.8em; font-weight: bold; line-height: 1; border-radius: 0.35em; text-transform: uppercase; vertical-align: middle; margin-left: 0.5rem\">PER</span>\n",
            "</mark>\n",
            " zu versehen und an unseren steuerlichen Vertreter zu senden.\n",
            "\n",
            "Michael Kors (Austria) GmbH\n",
            "\n",
            "Anlagen\n",
            "</div>\n",
            "</figure>\n",
            "</body>\n",
            "</html></div>\n"
          ],
          "name": "stdout"
        }
      ]
    },
    {
      "cell_type": "code",
      "metadata": {
        "id": "hddQtkTos9WD",
        "colab_type": "code",
        "colab": {}
      },
      "source": [
        "# Write HTML String to file.html\n",
        "with open(\"PwC Brief.html\", \"w\") as file:\n",
        "    file.write(result)"
      ],
      "execution_count": 10,
      "outputs": []
    },
    {
      "cell_type": "code",
      "metadata": {
        "id": "y2J6nJCZq1V8",
        "colab_type": "code",
        "colab": {}
      },
      "source": [
        "from bs4 import BeautifulSoup\n",
        "#html = document.value\n",
        "soup = BeautifulSoup(html_out, 'lxml')\n"
      ],
      "execution_count": 23,
      "outputs": []
    },
    {
      "cell_type": "code",
      "metadata": {
        "id": "dTjgLL4r65Cf",
        "colab_type": "code",
        "colab": {
          "base_uri": "https://localhost:8080/",
          "height": 1000
        },
        "outputId": "2f1db4ed-2e7c-4ebb-b15c-bc5d4a0efe31"
      },
      "source": [
        "print(html_out)"
      ],
      "execution_count": 26,
      "outputs": [
        {
          "output_type": "stream",
          "text": [
            "<!DOCTYPE html>\n",
            "<html lang=\"de\">\n",
            "    <head>\n",
            "        <title>displaCy</title>\n",
            "    </head>\n",
            "\n",
            "    <body style=\"font-size: 16px; font-family: -apple-system, BlinkMacSystemFont, 'Segoe UI', Helvetica, Arial, sans-serif, 'Apple Color Emoji', 'Segoe UI Emoji', 'Segoe UI Symbol'; padding: 4rem 2rem; direction: ltr\">\n",
            "<figure style=\"margin-bottom: 6rem\">\n",
            "<div class=\"entities\" style=\"line-height: 2.5; direction: ltr\">\t</br></br></br></br></br></br>Steuerpflichtiger: Michael Kors (Austria) GmbH</br>\t Steuernummer 357/4506, Team 23</br></br></br></br>vertreten durch:\tPwC PricewaterhouseCoopers</br>\tWirtschaftsprüfung und Steuerberatung GmbH</br>\t(Vollmacht erteilt)</br></br></br></br></br>\t\n",
            "<mark class=\"entity\" style=\"background: #ddd; padding: 0.45em 0.6em; margin: 0 0.25em; line-height: 1; border-radius: 0.35em;\">\n",
            "    MMag. Gerald Dipplinger\n",
            "    <span style=\"font-size: 0.8em; font-weight: bold; line-height: 1; border-radius: 0.35em; text-transform: uppercase; vertical-align: middle; margin-left: 0.5rem\">PER</span>\n",
            "</mark>\n",
            "\ti.V. \n",
            "<mark class=\"entity\" style=\"background: #ddd; padding: 0.45em 0.6em; margin: 0 0.25em; line-height: 1; border-radius: 0.35em;\">\n",
            "    Mag. Nicole Kruckenfellner\n",
            "    <span style=\"font-size: 0.8em; font-weight: bold; line-height: 1; border-radius: 0.35em; text-transform: uppercase; vertical-align: middle; margin-left: 0.5rem\">PER</span>\n",
            "</mark>\n",
            "</br>\t  gerald.\n",
            "<mark class=\"entity\" style=\"background: #ddd; padding: 0.45em 0.6em; margin: 0 0.25em; line-height: 1; border-radius: 0.35em;\">\n",
            "    dipplinger@pwc.\n",
            "    <span style=\"font-size: 0.8em; font-weight: bold; line-height: 1; border-radius: 0.35em; text-transform: uppercase; vertical-align: middle; margin-left: 0.5rem\">PER</span>\n",
            "</mark>\n",
            "com\t nicole.kruckenfellner@pwc.com</br>\t01-\n",
            "<mark class=\"entity\" style=\"background: #bfe1d9; padding: 0.45em 0.6em; margin: 0 0.25em; line-height: 1; border-radius: 0.35em;\">\n",
            "    501 88-3648\n",
            "    <span style=\"font-size: 0.8em; font-weight: bold; line-height: 1; border-radius: 0.35em; text-transform: uppercase; vertical-align: middle; margin-left: 0.5rem\">DATE</span>\n",
            "</mark>\n",
            "\t01-\n",
            "<mark class=\"entity\" style=\"background: #bfe1d9; padding: 0.45em 0.6em; margin: 0 0.25em; line-height: 1; border-radius: 0.35em;\">\n",
            "    501 88-3647\n",
            "    <span style=\"font-size: 0.8em; font-weight: bold; line-height: 1; border-radius: 0.35em; text-transform: uppercase; vertical-align: middle; margin-left: 0.5rem\">DATE</span>\n",
            "</mark>\n",
            "</br></br></br></br>wegen:\tBeilagen zur Körperschaftsteuererklärung 2018</br></br></br></br></br></br></br></br>EINSCHREIBEN</br>Finanzamt Bruck \n",
            "<mark class=\"entity\" style=\"background: #ff9561; padding: 0.45em 0.6em; margin: 0 0.25em; line-height: 1; border-radius: 0.35em;\">\n",
            "    Eisenstadt\n",
            "    <span style=\"font-size: 0.8em; font-weight: bold; line-height: 1; border-radius: 0.35em; text-transform: uppercase; vertical-align: middle; margin-left: 0.5rem\">LOC</span>\n",
            "</mark>\n",
            " Oberwart</br>Team 23</br></br>\n",
            "<mark class=\"entity\" style=\"background: #ff9561; padding: 0.45em 0.6em; margin: 0 0.25em; line-height: 1; border-radius: 0.35em;\">\n",
            "    Neusiedlerstraße\n",
            "    <span style=\"font-size: 0.8em; font-weight: bold; line-height: 1; border-radius: 0.35em; text-transform: uppercase; vertical-align: middle; margin-left: 0.5rem\">LOC</span>\n",
            "</mark>\n",
            " 46</br>7001 \n",
            "<mark class=\"entity\" style=\"background: #ff9561; padding: 0.45em 0.6em; margin: 0 0.25em; line-height: 1; border-radius: 0.35em;\">\n",
            "    Eisenstadt\n",
            "    <span style=\"font-size: 0.8em; font-weight: bold; line-height: 1; border-radius: 0.35em; text-transform: uppercase; vertical-align: middle; margin-left: 0.5rem\">LOC</span>\n",
            "</mark>\n",
            "</br>\t</br></br>\t\t\t\t</br>19. September 2019</br></br></br></br>Michael Kors (Austria) GmbH</br>Steuernummer 357/4506, Team 23</br></br></br>Hiermit übermitteln wir dem Finanzamt die Beilagen I und II zur Körperschaftsteuerklärung für das Jahr 2018 sowie den Jahresabschluss zum \n",
            "<mark class=\"entity\" style=\"background: #bfe1d9; padding: 0.45em 0.6em; margin: 0 0.25em; line-height: 1; border-radius: 0.35em;\">\n",
            "    31.3.2018\n",
            "    <span style=\"font-size: 0.8em; font-weight: bold; line-height: 1; border-radius: 0.35em; text-transform: uppercase; vertical-align: middle; margin-left: 0.5rem\">DATE</span>\n",
            "</mark>\n",
            ".</br></br>Die Körperschaftsteuererklärung für das Jahr 2018 wurde am 31. Juli 2019 per FinanzOnline</br>\n",
            "<mark class=\"entity\" style=\"background: #ddd; padding: 0.45em 0.6em; margin: 0 0.25em; line-height: 1; border-radius: 0.35em;\">\n",
            "    eingereicht.\n",
            "    <span style=\"font-size: 0.8em; font-weight: bold; line-height: 1; border-radius: 0.35em; text-transform: uppercase; vertical-align: middle; margin-left: 0.5rem\">PER</span>\n",
            "</mark>\n",
            "</br></br>Wir ersuchen das Finanzamt, die beiliegenden Kopien mit dem \n",
            "<mark class=\"entity\" style=\"background: #ddd; padding: 0.45em 0.6em; margin: 0 0.25em; line-height: 1; border-radius: 0.35em;\">\n",
            "    Eingangstempel\n",
            "    <span style=\"font-size: 0.8em; font-weight: bold; line-height: 1; border-radius: 0.35em; text-transform: uppercase; vertical-align: middle; margin-left: 0.5rem\">PER</span>\n",
            "</mark>\n",
            " zu versehen und an unseren steuerlichen Vertreter zu senden.\n",
            "\n",
            "\n",
            "Michael Kors (Austria) GmbH\n",
            "\n",
            "\n",
            "Anlagen\n",
            "\n",
            "</div>\n",
            "</figure>\n",
            "</body>\n",
            "</html>\n"
          ],
          "name": "stdout"
        }
      ]
    },
    {
      "cell_type": "code",
      "metadata": {
        "id": "uVgiyF09sUBG",
        "colab_type": "code",
        "colab": {
          "base_uri": "https://localhost:8080/"
        },
        "outputId": "a12bc505-72fc-4cbb-da34-5ade9cd2d50a"
      },
      "source": [
        "import IPython\n",
        "IPython.display.HTML(text)"
      ],
      "execution_count": 5,
      "outputs": [
        {
          "output_type": "execute_result",
          "data": {
            "text/html": [
              "PwC PricewaterhouseCoopers\n",
              "Wirtschaftsprüfung und\n",
              "Steuerberatung GmbH\n",
              "Donau-City-Straße 7\n",
              "1220 Wien\n",
              "Tel.:\t+43 1 501 88 - 0\n",
              "Fax:\t+43 1 501 88 - 601\n",
              "E-Mail: office.wien@at.pwc.com\n",
              "www.pwc.at\n",
              "\n",
              "\n",
              "\n",
              "\t\n",
              "\n",
              "\n",
              "\n",
              "\n",
              "\n",
              "\n",
              "\n",
              "\n",
              "\n",
              "\n",
              "\n",
              "\n",
              "\n",
              "EINSCHREIBEN\n",
              "\n",
              "Finanzamt Bruck Eisenstadt Oberwart\n",
              "\n",
              "Team 23\n",
              "\n",
              "\n",
              "Neusiedlerstraße 46\n",
              "\n",
              "7001 Eisenstadt\n",
              "\n",
              "\n",
              "\n",
              "EINSCHREIBEN\n",
              "\n",
              "Finanzamt Bruck Eisenstadt Oberwart\n",
              "\n",
              "Team 23\n",
              "\n",
              "\n",
              "Neusiedlerstraße 46\n",
              "\n",
              "7001 Eisenstadt\n",
              "\n",
              "\n",
              "\n",
              "19. September 2019\n",
              "\n",
              "KOJL\n",
              "\n",
              "\n",
              "\n",
              "19. September 2019\n",
              "\n",
              "KOJL\n",
              "\n",
              "\t\n",
              "\n",
              "\n",
              "\n",
              "\n",
              "\n",
              "\n",
              "\n",
              "\n",
              "\n",
              "\n",
              "\n",
              "Steuerpflichtiger: Michael Kors (Austria) GmbH\n",
              "\n",
              "\t Steuernummer 357/4506, Team 23\n",
              "\n",
              "\n",
              "\n",
              "\n",
              "\n",
              "\n",
              "\n",
              "vertreten durch:\tPwC PricewaterhouseCoopers\n",
              "\n",
              "\tWirtschaftsprüfung und Steuerberatung GmbH\n",
              "\n",
              "\t(Vollmacht erteilt)\n",
              "\n",
              "\n",
              "\n",
              "\n",
              "\n",
              "\n",
              "\n",
              "\n",
              "\n",
              "\t\t\tMMag. Gerald Dipplinger\ti.V. Mag. Nicole Kruckenfellner\n",
              "\n",
              "\t\t  gerald.dipplinger@pwc.com\t nicole.kruckenfellner@pwc.com\n",
              "\n",
              "\t\t\t01-501 88-3648\t01-501 88-3647\n",
              "\n",
              "\t\t\n",
              "\n",
              "\n",
              "\n",
              "\n",
              "\n",
              "wegen:\tBeilagen zur Körperschaftsteuererklärung 2018\n",
              "\n",
              "\n",
              "\n",
              "\n",
              "\n",
              "\n",
              "\n",
              "\n",
              "\n",
              "\n",
              "\n",
              "\n",
              "\n",
              "\n",
              "\n",
              "EINSCHREIBEN\n",
              "\n",
              "Finanzamt Bruck Eisenstadt Oberwart\n",
              "\n",
              "Team 23\n",
              "\n",
              "\n",
              "Neusiedlerstraße 46\n",
              "\n",
              "7001 Eisenstadt\n",
              "\n",
              "\t\t\n",
              "\n",
              "\t\n",
              "\n",
              "\t\t\t\t\n",
              "\n",
              "19. September 2019\n",
              "\n",
              "\n",
              "\n",
              "\n",
              "\n",
              "\n",
              "\n",
              "Michael Kors (Austria) GmbH\n",
              "\n",
              "Steuernummer 357/4506, Team 23\n",
              "\n",
              "\n",
              "\n",
              "\n",
              "\n",
              "Hiermit übermitteln wir dem Finanzamt die Beilagen I und II zur Körperschaftsteuerklärung für das Jahr 2018 sowie den Jahresabschluss zum 31.3.2018.\n",
              "\n",
              "\n",
              "\n",
              "Die Körperschaftsteuererklärung für das Jahr 2018 wurde am 31. Juli 2019 per FinanzOnline\n",
              "\n",
              "eingereicht.\n",
              "\n",
              "\n",
              "\n",
              "Wir ersuchen das Finanzamt, die beiliegenden Kopien mit dem Eingangstempel zu versehen und an unseren steuerlichen Vertreter zu senden.\n",
              "\n",
              "\n",
              "\n",
              "\n",
              "\n",
              "Michael Kors (Austria) GmbH\n",
              "\n",
              "\n",
              "\n",
              "\n",
              "\n",
              "Anlagen\n",
              "\n",
              "\n",
              "\n",
              "\n",
              "\n",
              "\n",
              "\n",
              "\n",
              "\n",
              "\n",
              "\n",
              "Geschäftsführer: StB Mag. Monika Berndl, WP/StB Mag. Dr. Christine Catasta, StB MMag. Gerald Dipplinger, StB Mag. Johannes Edlbacher, WP/StB Mag. Dr. Herbert Greinecker,\n",
              "WP/StB Mag. Bernd Hofmann, StB Dr. Martin Jann, StB Mag. Dr. Richard Jerabek, StB Mag. Dr. Rudolf Krickl, StB Mag. Peter Perktold, WP/StB, Mag. Peter Pessenlehner,\n",
              "WP/StB Mag. Hannes Rasner, WP/StB Mag. Jürgen Schauer, StB Mag. Thomas Steinbauer, StB Mag. Olivia Stiedl, StB Mag. Thomas Strobach, WP/StB Mag. Christine Weinzierl,\n",
              "WP/StB Mag. Felix Wirth, WP/StB Mag. Christof Wörndl\n",
              "Sitz der Gesellschaft: Wien; Firmenbuch: FN 226710 y, Handelsgericht Wien; DVR: 2109259; UID: ATU56889022; WT: 803271\n",
              "\"PwC\" bezeichnet das PwC-Netzwerk und/oder eine oder mehrere seiner Mitgliedsfirmen. Jedes Mitglied dieses Netzwerks ist ein selbständiges Rechtssubjekt. Weitere Informationen\n",
              "finden Sie unter www.pwc.com/structure."
            ],
            "text/plain": [
              "<IPython.core.display.HTML object>"
            ]
          },
          "metadata": {
            "tags": []
          },
          "execution_count": 5
        }
      ]
    },
    {
      "cell_type": "code",
      "metadata": {
        "id": "lwpfTZq9rNp_",
        "colab_type": "code",
        "colab": {}
      },
      "source": [
        "def label_par(par,html_out):\n",
        "\n",
        "    soup_S = BeautifulSoup(html_out)\n",
        "\n",
        "    p1 = soup_S.find('body')\n",
        "\n",
        "    s = p1.find_next('div')\n",
        "    labels = s.find_all('mark')\n",
        "    newcont = str(par) \n",
        "    print(labels)\n",
        "    if len(labels) >0:\n",
        "      for lb in labels:\n",
        "        for c in par.contents:\n",
        "          if lb.contents[0].strip() in c:\n",
        "            #c.(lb.contents[0].strip(),lb)\n",
        "            print(lb.contents[0].strip())\n",
        "            newcont = newcont.replace(lb.contents[0].strip(), str(lb))\n",
        "      newconthtml = BeautifulSoup(newcont).find('body').contents[0]\n",
        "      par.string = ''\n",
        "      par.append(newconthtml)\n",
        "    return par"
      ],
      "execution_count": 5,
      "outputs": []
    },
    {
      "cell_type": "code",
      "metadata": {
        "id": "hn-qbwtyrHGC",
        "colab_type": "code",
        "colab": {}
      },
      "source": [
        "#options = get_entity_options()\n",
        "for par_i, par in enumerate(soup.findAll('p')):\n",
        "  print(par_i,par.getText())\n",
        "  doc = nlp(par.getText())\n",
        "  html_out = displacy.render(doc, style='ent')\n",
        "  par = label_par(par,html_out)\n",
        "  #print(html_out)\n",
        "  #par.replace_with()\n",
        "  #IPython.display.HTML(html_out)\n",
        "  #soup_S = BeautifulSoup(html_out)\n",
        "  #for match in soup_S.findAll('div'):\n",
        "  #match.replaceWithChildren()"
      ],
      "execution_count": null,
      "outputs": []
    }
  ]
}