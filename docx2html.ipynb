{
  "nbformat": 4,
  "nbformat_minor": 0,
  "metadata": {
    "colab": {
      "name": "docx2html.ipynb",
      "provenance": [],
      "collapsed_sections": [],
      "toc_visible": true,
      "include_colab_link": true
    },
    "kernelspec": {
      "name": "python3",
      "display_name": "Python 3"
    }
  },
  "cells": [
    {
      "cell_type": "markdown",
      "metadata": {
        "id": "view-in-github",
        "colab_type": "text"
      },
      "source": [
        "<a href=\"https://colab.research.google.com/github/ahmadhajmosa/3d-force-graph/blob/master/docx2html.ipynb\" target=\"_parent\"><img src=\"https://colab.research.google.com/assets/colab-badge.svg\" alt=\"Open In Colab\"/></a>"
      ]
    },
    {
      "cell_type": "code",
      "metadata": {
        "id": "suru3vmCI00k",
        "colab_type": "code",
        "colab": {
          "base_uri": "https://localhost:8080/",
          "height": 615
        },
        "outputId": "5d06d554-0ce8-42e7-9cf4-8b3af5182c41"
      },
      "source": [
        "!pip install python-docx\n",
        "!pip install docx2pdf\n",
        "!pip install mammoth\n",
        "!pip install docx2python\n",
        "\n",
        "import mammoth\n",
        "\n",
        "from docx import Document\n",
        "from docx2python import docx2python\n",
        "from docx2python.iterators import iter_paragraphs\n",
        "from docx2pdf import convert"
      ],
      "execution_count": 1,
      "outputs": [
        {
          "output_type": "stream",
          "text": [
            "Collecting python-docx\n",
            "\u001b[?25l  Downloading https://files.pythonhosted.org/packages/e4/83/c66a1934ed5ed8ab1dbb9931f1779079f8bca0f6bbc5793c06c4b5e7d671/python-docx-0.8.10.tar.gz (5.5MB)\n",
            "\u001b[K     |████████████████████████████████| 5.5MB 4.1MB/s \n",
            "\u001b[?25hRequirement already satisfied: lxml>=2.3.2 in /usr/local/lib/python3.6/dist-packages (from python-docx) (4.2.6)\n",
            "Building wheels for collected packages: python-docx\n",
            "  Building wheel for python-docx (setup.py) ... \u001b[?25l\u001b[?25hdone\n",
            "  Created wheel for python-docx: filename=python_docx-0.8.10-cp36-none-any.whl size=184491 sha256=df5716328aa6e96ba86ce17a5c3d8f7ff1a74b1c1d2f517cda1d77b1cf4eaff6\n",
            "  Stored in directory: /root/.cache/pip/wheels/18/0b/a0/1dd62ff812c857c9e487f27d80d53d2b40531bec1acecfa47b\n",
            "Successfully built python-docx\n",
            "Installing collected packages: python-docx\n",
            "Successfully installed python-docx-0.8.10\n",
            "Collecting docx2pdf\n",
            "  Downloading https://files.pythonhosted.org/packages/6f/e3/d283374e533973eb298d59d65d6c85daf51de26ec32a64a42e71e3701cfb/docx2pdf-0.1.7-py3-none-any.whl\n",
            "Requirement already satisfied: importlib_metadata<2.0.0,>=1.3.0; python_version < \"3.8\" in /usr/local/lib/python3.6/dist-packages (from docx2pdf) (1.6.1)\n",
            "Requirement already satisfied: tqdm<5.0.0,>=4.41.0 in /usr/local/lib/python3.6/dist-packages (from docx2pdf) (4.41.1)\n",
            "Requirement already satisfied: zipp>=0.5 in /usr/local/lib/python3.6/dist-packages (from importlib_metadata<2.0.0,>=1.3.0; python_version < \"3.8\"->docx2pdf) (3.1.0)\n",
            "Installing collected packages: docx2pdf\n",
            "Successfully installed docx2pdf-0.1.7\n",
            "Collecting mammoth\n",
            "\u001b[?25l  Downloading https://files.pythonhosted.org/packages/92/53/bbd500ee249c8043f206c3242babd238d688e25148c2ebe77885b188c4a1/mammoth-1.4.10-py2.py3-none-any.whl (46kB)\n",
            "\u001b[K     |████████████████████████████████| 51kB 2.4MB/s \n",
            "\u001b[?25hCollecting cobble<0.2,>=0.1.3\n",
            "  Downloading https://files.pythonhosted.org/packages/d2/13/306dbd6d10f7bc13de0bdc313b2bbf1a031abc0beb36033ea850a3782656/cobble-0.1.3.tar.gz\n",
            "Building wheels for collected packages: cobble\n",
            "  Building wheel for cobble (setup.py) ... \u001b[?25l\u001b[?25hdone\n",
            "  Created wheel for cobble: filename=cobble-0.1.3-cp36-none-any.whl size=11719 sha256=d852ab025678ea9e10b6a1c8f3d3356d7a9594830a64a4b896e1a07e4a7d4e14\n",
            "  Stored in directory: /root/.cache/pip/wheels/52/aa/7f/a4270dbbb0773257b85b0d99cf688107906cdbf9b121278207\n",
            "Successfully built cobble\n",
            "Installing collected packages: cobble, mammoth\n",
            "Successfully installed cobble-0.1.3 mammoth-1.4.10\n",
            "Collecting docx2python\n",
            "  Downloading https://files.pythonhosted.org/packages/ea/1e/93a9ae365b9ad6a224efe079f2ab219614624c2106ecc3ab4a3804caf28d/docx2python-1.24-py3-none-any.whl\n",
            "Installing collected packages: docx2python\n",
            "Successfully installed docx2python-1.24\n"
          ],
          "name": "stdout"
        }
      ]
    },
    {
      "cell_type": "markdown",
      "metadata": {
        "id": "w7RDisnM0OeX",
        "colab_type": "text"
      },
      "source": [
        "utf-8 code <-> german characters\n",
        "\n",
        "Ä\t\\xc3\\x84\n",
        "\n",
        "ä\t\\xc3\\xa4\n",
        "\n",
        "Ö\t\\xc3\\x96\n",
        "\n",
        "ö\t\\xc3\\xb6\n",
        "\n",
        "Ü\t\\xc3\\x9c\n",
        "\n",
        "ü\t\\xc3\\xbc\n",
        "\n",
        "ß\t\\xc3\\x9f\n"
      ]
    },
    {
      "cell_type": "markdown",
      "metadata": {
        "id": "IJTbAR28X-mG",
        "colab_type": "text"
      },
      "source": [
        "# Header Footer with python-docx"
      ]
    },
    {
      "cell_type": "code",
      "metadata": {
        "id": "qolqApeuWlLN",
        "colab_type": "code",
        "colab": {
          "base_uri": "https://localhost:8080/",
          "height": 145
        },
        "outputId": "3be9d4e6-6e58-4042-de08-7428fc9e95ff"
      },
      "source": [
        "# PwC Brief\n",
        "doc1 = Document(\"PwC Brief.docx\")  # para.text for para in doc.paragraphs\n",
        "\n",
        "print(\"The original document has {} section(s).\".format(len(doc1.sections)))\n",
        "print(\"It should have 1 header and 1 footer, both on the first page.\")\n",
        "\n",
        "for sec in doc1.sections:\n",
        "  header = sec.header\n",
        "  footer = sec.footer\n",
        "  for para in header.paragraphs:\n",
        "    print(\"header: \",para.text)\n",
        "  for para in footer.paragraphs:\n",
        "    print(\"footer: \",para.text)"
      ],
      "execution_count": null,
      "outputs": [
        {
          "output_type": "stream",
          "text": [
            "The original document has 1 section(s).\n",
            "It should have 1 header and 1 footer, both on the first page.\n",
            "header:  \n",
            "header:  \n",
            "footer:  \n",
            "footer:  \n",
            "footer:  \n"
          ],
          "name": "stdout"
        }
      ]
    },
    {
      "cell_type": "code",
      "metadata": {
        "id": "zoV6NYgtWomG",
        "colab_type": "code",
        "colab": {
          "base_uri": "https://localhost:8080/",
          "height": 163
        },
        "outputId": "762e82e2-eda7-4d82-8c6c-1a10383bc836"
      },
      "source": [
        "# PwC Brief_with_testheaderfooter\n",
        "doc2 = Document(\"PwC Brief_with_testheaderfooter.docx\")\n",
        "\n",
        "print(\"This document has {} section(s).\".format(len(doc2.sections)))\n",
        "print(\"It should have 2 headers and 2 footers.\")\n",
        "\n",
        "for sec in doc2.sections:\n",
        "  header = sec.header\n",
        "  footer = sec.footer\n",
        "  for para in header.paragraphs:\n",
        "    print(\"header: \",para.text)\n",
        "  for para in footer.paragraphs:\n",
        "    print(\"footer: \",para.text)"
      ],
      "execution_count": null,
      "outputs": [
        {
          "output_type": "stream",
          "text": [
            "This document has 1 section(s).\n",
            "It should have 2 headers and 2 footers.\n",
            "header:  \n",
            "header:  \n",
            "footer:  Test Footer\n",
            "\n",
            "footer:  \n",
            "footer:  \n"
          ],
          "name": "stdout"
        }
      ]
    },
    {
      "cell_type": "code",
      "metadata": {
        "id": "V1QjY35JlQbv",
        "colab_type": "code",
        "colab": {
          "base_uri": "https://localhost:8080/",
          "height": 35
        },
        "outputId": "4e6995d0-66cc-4264-b789-f9c0c08f01bf"
      },
      "source": [
        "# body are the same\n",
        "doc1_text = ''.join([para.text for para in doc1.paragraphs])\n",
        "doc2_text = ''.join([para.text for para in doc1.paragraphs])\n",
        "doc1_text == doc2_text"
      ],
      "execution_count": null,
      "outputs": [
        {
          "output_type": "execute_result",
          "data": {
            "text/plain": [
              "True"
            ]
          },
          "metadata": {
            "tags": []
          },
          "execution_count": 13
        }
      ]
    },
    {
      "cell_type": "markdown",
      "metadata": {
        "id": "1pvRD3deITFt",
        "colab_type": "text"
      },
      "source": [
        "# Header Footer with docx2python"
      ]
    },
    {
      "cell_type": "markdown",
      "metadata": {
        "id": "E1GpZom8W2cN",
        "colab_type": "text"
      },
      "source": [
        "In this way, we get lists headers and footers in a reversed order."
      ]
    },
    {
      "cell_type": "code",
      "metadata": {
        "id": "cXCRv-N9bpaA",
        "colab_type": "code",
        "colab": {
          "base_uri": "https://localhost:8080/",
          "height": 74
        },
        "outputId": "30c26ca7-fb0a-4eb0-9766-e0533716ba25"
      },
      "source": [
        "# one header one footer\n",
        "doc3 = docx2python(\"PwC Brief.docx\")\n",
        "\n",
        "# header\n",
        "header3 = 'nextheader'.join(iter_paragraphs(doc3.header)).split('nextheader')\n",
        "header3 = [header for header in header3 if header.replace('\\t','')!='']\n",
        "\n",
        "\"\"\"\n",
        "when we know only have 1 header and footer, we can use:\n",
        "header = ''.join(iter_paragraphs(doc.header))\n",
        "footer = ''.join(iter_paragraphs(doc.footer))\n",
        "\"\"\"\n",
        "\n",
        "# footer\n",
        "footer3 = 'nextfooter'.join(iter_paragraphs(doc3.footer)).split('nextfooter')\n",
        "footer3 = [footer for footer in footer3 if footer.replace('\\t','')!='']\n",
        "\n",
        "print(\"header: \", header3)\n",
        "print(\"footer: \", footer3)"
      ],
      "execution_count": null,
      "outputs": [
        {
          "output_type": "stream",
          "text": [
            "header:  ['\\tPwC PricewaterhouseCoopersWirtschaftsprüfung undSteuerberatung GmbHDonau-City-Straße 71220 WienTel.:\\t+43 1 501 88 - 0Fax:\\t+43 1 501 88 - 601E-Mail: office.wien@at.pwc.comwww.pwc.at']\n",
            "footer:  ['Geschäftsführer: StB Mag. Messi Klagenfurter']\n"
          ],
          "name": "stdout"
        }
      ]
    },
    {
      "cell_type": "code",
      "metadata": {
        "id": "A32ji5kPYgXV",
        "colab_type": "code",
        "colab": {
          "base_uri": "https://localhost:8080/",
          "height": 74
        },
        "outputId": "ed755317-bf77-4c1f-beed-167de7ad0010"
      },
      "source": [
        "# multiple headers and footers\n",
        "doc4 = docx2python(\"PwC Brief_with_testheaderfooter.docx\")\n",
        "\n",
        "# header\n",
        "header4 = 'nextheader'.join(iter_paragraphs(doc4.header)).split('nextheader')\n",
        "header4 = [header for header in header4 if header.replace('\\t','')!='']\n",
        "\n",
        "\n",
        "# footer\n",
        "footer4 = 'nextfooter'.join(iter_paragraphs(doc4.footer)).split('nextfooter')\n",
        "footer4 = [footer for footer in footer4 if footer.replace('\\t','')!='']\n",
        "\n",
        "print(\"header: \", header4)\n",
        "print(\"footer: \", footer4)"
      ],
      "execution_count": null,
      "outputs": [
        {
          "output_type": "stream",
          "text": [
            "header:  ['Test Header', '\\tPwC PricewaterhouseCoopersWirtschaftsprüfung undSteuerberatung GmbHDonau-City-Straße 71220 WienTel.:\\t+43 1 501 88 - 0Fax:\\t+43 1 501 88 - 601E-Mail: office.wien@at.pwc.comwww.pwc.at']\n",
            "footer:  ['Geschäftsführer: StB Mag. Messi Klagenfurter', 'Test Footer']\n"
          ],
          "name": "stdout"
        }
      ]
    },
    {
      "cell_type": "code",
      "metadata": {
        "id": "ozjmr7RLmL7J",
        "colab_type": "code",
        "colab": {
          "base_uri": "https://localhost:8080/",
          "height": 35
        },
        "outputId": "2a20a751-eb97-480d-88e1-d51dfacd3ed1"
      },
      "source": [
        "doc3.body == doc4.body    # without header and footer. list of list of list...."
      ],
      "execution_count": null,
      "outputs": [
        {
          "output_type": "execute_result",
          "data": {
            "text/plain": [
              "True"
            ]
          },
          "metadata": {
            "tags": []
          },
          "execution_count": 146
        }
      ]
    },
    {
      "cell_type": "code",
      "metadata": {
        "id": "9oyq9cvLmhra",
        "colab_type": "code",
        "colab": {
          "base_uri": "https://localhost:8080/",
          "height": 55
        },
        "outputId": "c3819693-0f44-4806-cc57-b9ae0de2c0f2"
      },
      "source": [
        "doc3.text  # with header and footer, string"
      ],
      "execution_count": null,
      "outputs": [
        {
          "output_type": "execute_result",
          "data": {
            "text/plain": [
              "'\\n\\n\\n\\n\\n\\n\\n\\n\\n\\n\\tPwC PricewaterhouseCoopersWirtschaftsprüfung undSteuerberatung GmbHDonau-City-Straße 71220 WienTel.:\\t+43 1 501 88 - 0Fax:\\t+43 1 501 88 - 601E-Mail: office.wien@at.pwc.comwww.pwc.at\\n\\n\\n\\n\\t\\n\\n\\n\\n\\n\\n\\n\\n\\n\\n\\n\\n\\n\\nEINSCHREIBEN\\n\\nFinanzamt Bruck Eisenstadt Oberwart\\n\\nTeam 23\\n\\nNeusiedlerstraße 46\\n\\n7001 Eisenstadt\\n\\n\\n\\nEINSCHREIBEN\\n\\nFinanzamt Bruck Eisenstadt Oberwart\\n\\nTeam 23\\n\\nNeusiedlerstraße 46\\n\\n7001 Eisenstadt\\n\\n\\n\\n19. September 2019\\n\\nKOJL\\n\\n\\n\\n19. September 2019\\n\\nKOJL\\n\\n\\n\\n\\t\\n\\n\\n\\n\\n\\n\\n\\n\\n\\n\\n\\nSteuerpflichtiger: Christiano Ronaldo (Austria) GmbH\\n\\n\\t Steuernummer 433/3425, Team 23\\n\\n\\n\\n\\n\\n\\n\\nvertreten durch:\\tPwC PricewaterhouseCoopers\\n\\n\\tWirtschaftsprüfung und Steuerberatung GmbH\\n\\n\\t(Vollmacht erteilt)\\n\\n\\n\\n\\n\\n\\n\\n\\n\\n\\t\\t\\tMMag. Messi Klagenfurter\\ti.V. Mag. Patricia Ronaldo\\n\\n\\t\\t\\uf02a  gerald.dipplinger@pwc.com\\t\\uf02a nicole.kruckenfellner@pwc.com\\n\\n\\t\\t\\t\\uf028\\uf02001-501 88-3648\\t\\uf028\\uf02001-501 88-3647\\n\\n\\t\\t\\n\\n\\n\\n\\n\\nwegen:\\tBeilagen zur Körperschaftsteuererklärung 2018\\n\\n\\n\\n\\n\\n\\n\\n\\n\\n\\n\\n\\n\\n\\n\\nEINSCHREIBEN\\n\\nFinanzamt Bruck Eisenstadt Oberwart\\n\\nTeam 23\\n\\nNeusiedlerstraße 46\\n\\n7001 Eisenstadt\\n\\n\\t\\t\\n\\n\\t\\n\\n\\t\\t\\t\\t\\n\\n19. September 2019\\n\\n\\n\\n\\n\\n\\n\\nChristiano Ronaldo (Austria) GmbH\\n\\nSteuernummer 357/4506, Team 23\\n\\n\\n\\n\\n\\nHiermit übermitteln wir dem Finanzamt die Beilagen I und II zur Körperschaftsteuerklärung für das Jahr 2018 sowie den Jahresabschluss zum 31.3.2018.\\n\\n\\n\\nDie Körperschaftsteuererklärung für das Jahr 2018 wurde am 31. Juli 2019 per FinanzOnline\\n\\neingereicht.\\n\\n\\n\\nWir ersuchen das Finanzamt, die beiliegenden Kopien mit dem Eingangstempel zu versehen und an unseren steuerlichen Vertreter zu senden.\\n\\n\\n\\n\\n\\nChristiano Ronaldo (Austria) GmbH\\n\\n\\n\\n\\n\\nAnlagen\\n\\n\\n\\n\\n\\nGeschäftsführer: StB Mag. Messi Klagenfurter\\n\\n\\n\\n\\n\\n\\n\\n\\n\\n\\n\\n\\n\\n\\n\\n\\n\\nfootnote1)\\t\\n\\n\\n\\n\\n\\n\\n\\n'"
            ]
          },
          "metadata": {
            "tags": []
          },
          "execution_count": 153
        }
      ]
    },
    {
      "cell_type": "code",
      "metadata": {
        "id": "XzQn_9mZm2Iq",
        "colab_type": "code",
        "colab": {
          "base_uri": "https://localhost:8080/",
          "height": 1000
        },
        "outputId": "517a601f-ffea-4c09-856c-72b3e45e8191"
      },
      "source": [
        "print(doc4.text)    # probelm: all headers at the beginning and footers in the end"
      ],
      "execution_count": null,
      "outputs": [
        {
          "output_type": "stream",
          "text": [
            "Test Header\n",
            "\n",
            "\n",
            "\n",
            "\n",
            "\n",
            "\n",
            "\n",
            "\n",
            "\n",
            "\n",
            "\n",
            "\n",
            "\n",
            "\n",
            "\n",
            "\tPwC PricewaterhouseCoopersWirtschaftsprüfung undSteuerberatung GmbHDonau-City-Straße 71220 WienTel.:\t+43 1 501 88 - 0Fax:\t+43 1 501 88 - 601E-Mail: office.wien@at.pwc.comwww.pwc.at\n",
            "\n",
            "\n",
            "\n",
            "\t\n",
            "\n",
            "\n",
            "\n",
            "\n",
            "\n",
            "EINSCHREIBEN\n",
            "\n",
            "Finanzamt Bruck Eisenstadt Oberwart\n",
            "\n",
            "Team 23\n",
            "\n",
            "Neusiedlerstraße 46\n",
            "\n",
            "7001 Eisenstadt\n",
            "\n",
            "\n",
            "\n",
            "EINSCHREIBEN\n",
            "\n",
            "Finanzamt Bruck Eisenstadt Oberwart\n",
            "\n",
            "Team 23\n",
            "\n",
            "Neusiedlerstraße 46\n",
            "\n",
            "7001 Eisenstadt\n",
            "\n",
            "\n",
            "\n",
            "19. September 2019\n",
            "\n",
            "KOJL\n",
            "\n",
            "\n",
            "\n",
            "19. September 2019\n",
            "\n",
            "KOJL\n",
            "\n",
            "\n",
            "\n",
            "\t\n",
            "\n",
            "\n",
            "\n",
            "\n",
            "\n",
            "\n",
            "\n",
            "\n",
            "\n",
            "\n",
            "\n",
            "Steuerpflichtiger: Christiano Ronaldo (Austria) GmbH\n",
            "\n",
            "\t Steuernummer 433/3425, Team 23\n",
            "\n",
            "\n",
            "\n",
            "\n",
            "\n",
            "\n",
            "\n",
            "vertreten durch:\tPwC PricewaterhouseCoopers\n",
            "\n",
            "\tWirtschaftsprüfung und Steuerberatung GmbH\n",
            "\n",
            "\t(Vollmacht erteilt)\n",
            "\n",
            "\n",
            "\n",
            "\n",
            "\n",
            "\n",
            "\n",
            "\n",
            "\n",
            "\t\t\tMMag. Messi Klagenfurter\ti.V. Mag. Patricia Ronaldo\n",
            "\n",
            "\t\t  gerald.dipplinger@pwc.com\t nicole.kruckenfellner@pwc.com\n",
            "\n",
            "\t\t\t01-501 88-3648\t01-501 88-3647\n",
            "\n",
            "\t\t\n",
            "\n",
            "\n",
            "\n",
            "\n",
            "\n",
            "wegen:\tBeilagen zur Körperschaftsteuererklärung 2018\n",
            "\n",
            "\n",
            "\n",
            "\n",
            "\n",
            "\n",
            "\n",
            "\n",
            "\n",
            "\n",
            "\n",
            "\n",
            "\n",
            "\n",
            "\n",
            "EINSCHREIBEN\n",
            "\n",
            "Finanzamt Bruck Eisenstadt Oberwart\n",
            "\n",
            "Team 23\n",
            "\n",
            "Neusiedlerstraße 46\n",
            "\n",
            "7001 Eisenstadt\n",
            "\n",
            "\t\t\n",
            "\n",
            "\t\n",
            "\n",
            "\t\t\t\t\n",
            "\n",
            "19. September 2019\n",
            "\n",
            "\n",
            "\n",
            "\n",
            "\n",
            "\n",
            "\n",
            "Christiano Ronaldo (Austria) GmbH\n",
            "\n",
            "Steuernummer 357/4506, Team 23\n",
            "\n",
            "\n",
            "\n",
            "\n",
            "\n",
            "Hiermit übermitteln wir dem Finanzamt die Beilagen I und II zur Körperschaftsteuerklärung für das Jahr 2018 sowie den Jahresabschluss zum 31.3.2018.\n",
            "\n",
            "\n",
            "\n",
            "Die Körperschaftsteuererklärung für das Jahr 2018 wurde am 31. Juli 2019 per FinanzOnline\n",
            "\n",
            "eingereicht.\n",
            "\n",
            "\n",
            "\n",
            "Wir ersuchen das Finanzamt, die beiliegenden Kopien mit dem Eingangstempel zu versehen und an unseren steuerlichen Vertreter zu senden.\n",
            "\n",
            "\n",
            "\n",
            "\n",
            "\n",
            "Christiano Ronaldo (Austria) GmbH\n",
            "\n",
            "\n",
            "\n",
            "\n",
            "\n",
            "Anlagen\n",
            "\n",
            "\n",
            "\n",
            "\n",
            "\n",
            "Geschäftsführer: StB Mag. Messi Klagenfurter\n",
            "\n",
            "\n",
            "\n",
            "Test Footer\n",
            "\n",
            "\n",
            "\n",
            "\n",
            "\n",
            "\n",
            "\n",
            "\n",
            "\n",
            "\n",
            "\n",
            "footnote1)\t\n",
            "\n",
            "\n",
            "\n",
            "\n",
            "\n",
            "\n",
            "\n",
            "\n"
          ],
          "name": "stdout"
        }
      ]
    },
    {
      "cell_type": "code",
      "metadata": {
        "id": "ODqd6BdMnKsU",
        "colab_type": "code",
        "colab": {
          "base_uri": "https://localhost:8080/",
          "height": 1000
        },
        "outputId": "00093328-d368-46f1-f17c-9cca9b374703"
      },
      "source": [
        "doc4.document"
      ],
      "execution_count": null,
      "outputs": [
        {
          "output_type": "execute_result",
          "data": {
            "text/plain": [
              "[[[['Test Header'], ['']]],\n",
              " [[['', '']]],\n",
              " [[['', ''], ['']],\n",
              "  [[''],\n",
              "   ['\\tPwC PricewaterhouseCoopersWirtschaftsprüfung undSteuerberatung GmbHDonau-City-Straße 71220 WienTel.:\\t+43 1 501 88 - 0Fax:\\t+43 1 501 88 - 601E-Mail: office.wien@at.pwc.comwww.pwc.at']],\n",
              "  [[''], ['\\t']]],\n",
              " [[['']]],\n",
              " [[['',\n",
              "    'EINSCHREIBEN',\n",
              "    'Finanzamt Bruck Eisenstadt Oberwart',\n",
              "    'Team 23',\n",
              "    'Neusiedlerstraße 46',\n",
              "    '7001 Eisenstadt',\n",
              "    '',\n",
              "    'EINSCHREIBEN',\n",
              "    'Finanzamt Bruck Eisenstadt Oberwart',\n",
              "    'Team 23',\n",
              "    'Neusiedlerstraße 46',\n",
              "    '7001 Eisenstadt',\n",
              "    '',\n",
              "    '19. September 2019',\n",
              "    'KOJL',\n",
              "    '',\n",
              "    '19. September 2019',\n",
              "    'KOJL',\n",
              "    '',\n",
              "    '\\t',\n",
              "    '',\n",
              "    '',\n",
              "    '',\n",
              "    '',\n",
              "    '',\n",
              "    'Steuerpflichtiger: Christiano Ronaldo (Austria) GmbH',\n",
              "    '\\t Steuernummer 433/3425, Team 23',\n",
              "    '',\n",
              "    '',\n",
              "    '',\n",
              "    'vertreten durch:\\tPwC PricewaterhouseCoopers',\n",
              "    '\\tWirtschaftsprüfung und Steuerberatung GmbH',\n",
              "    '\\t(Vollmacht erteilt)',\n",
              "    '',\n",
              "    '',\n",
              "    '',\n",
              "    '',\n",
              "    '\\t\\t\\tMMag. Messi Klagenfurter\\ti.V. Mag. Patricia Ronaldo',\n",
              "    '\\t\\t\\uf02a  gerald.dipplinger@pwc.com\\t\\uf02a nicole.kruckenfellner@pwc.com',\n",
              "    '\\t\\t\\t\\uf028\\uf02001-501 88-3648\\t\\uf028\\uf02001-501 88-3647',\n",
              "    '\\t\\t',\n",
              "    '',\n",
              "    '',\n",
              "    'wegen:\\tBeilagen zur Körperschaftsteuererklärung 2018',\n",
              "    '',\n",
              "    '',\n",
              "    '',\n",
              "    '',\n",
              "    '',\n",
              "    '',\n",
              "    '',\n",
              "    'EINSCHREIBEN',\n",
              "    'Finanzamt Bruck Eisenstadt Oberwart',\n",
              "    'Team 23',\n",
              "    'Neusiedlerstraße 46',\n",
              "    '7001 Eisenstadt',\n",
              "    '\\t\\t',\n",
              "    '\\t',\n",
              "    '\\t\\t\\t\\t',\n",
              "    '19. September 2019',\n",
              "    '',\n",
              "    '',\n",
              "    '',\n",
              "    'Christiano Ronaldo (Austria) GmbH',\n",
              "    'Steuernummer 357/4506, Team 23',\n",
              "    '',\n",
              "    '',\n",
              "    'Hiermit übermitteln wir dem Finanzamt die Beilagen I und II zur Körperschaftsteuerklärung für das Jahr 2018 sowie den Jahresabschluss zum 31.3.2018.',\n",
              "    '',\n",
              "    'Die Körperschaftsteuererklärung für das Jahr 2018 wurde am 31. Juli 2019 per FinanzOnline',\n",
              "    'eingereicht.',\n",
              "    '',\n",
              "    'Wir ersuchen das Finanzamt, die beiliegenden Kopien mit dem Eingangstempel zu versehen und an unseren steuerlichen Vertreter zu senden.',\n",
              "    '',\n",
              "    '',\n",
              "    'Christiano Ronaldo (Austria) GmbH',\n",
              "    '',\n",
              "    '',\n",
              "    'Anlagen',\n",
              "    '']]],\n",
              " [[['']]],\n",
              " [[['Geschäftsführer: StB Mag. Messi Klagenfurter']]],\n",
              " [[['']]],\n",
              " [[['Test Footer', '', '']]],\n",
              " [[['', '', '', 'footnote1)\\t', '', '']]],\n",
              " [[['', '']]]]"
            ]
          },
          "metadata": {
            "tags": []
          },
          "execution_count": 157
        }
      ]
    },
    {
      "cell_type": "markdown",
      "metadata": {
        "id": "F-OwR3_CIW39",
        "colab_type": "text"
      },
      "source": [
        "# convert2html\n"
      ]
    },
    {
      "cell_type": "code",
      "metadata": {
        "id": "4Il7YB5hJ-gg",
        "colab_type": "code",
        "colab": {
          "base_uri": "https://localhost:8080/",
          "height": 55
        },
        "outputId": "d954c626-c915-442c-a2f0-d8c8723db506"
      },
      "source": [
        "with open(\"PwC Brief.docx\", \"rb\") as docx_file:\n",
        "    result = mammoth.convert_to_html(docx_file)   # returns a Result object\n",
        "    text = result.value.encode('utf-8') # The generated HTML\n",
        "    messages = result.messages # Any messages, such as warnings during conversion\n",
        "    print(\"messages: \", messages)\n",
        "\n",
        "    with open(\"mammoth_orig.html\", \"wb\") as file:\n",
        "      \"\"\" add headers \"\"\"\n",
        "      for header in header3:\n",
        "        file.write(header.encode('utf-8'))\n",
        "        file.write('\\n'.encode('utf-8'))\n",
        "\n",
        "      file.write(text)\n",
        "\n",
        "      \"\"\" add footers \"\"\"\n",
        "      for footer in footer3:\n",
        "        file.write(footer.encode('utf-8'))\n",
        "        file.write('\\n'.encode('utf-8'))"
      ],
      "execution_count": null,
      "outputs": [
        {
          "output_type": "stream",
          "text": [
            "messages:  [Message(type='warning', message='An unrecognised element was ignored: office-word:anchorlock'), Message(type='warning', message='Unrecognised paragraph style: Betreff (Style ID: Betreff)'), Message(type='warning', message='Unrecognised paragraph style: UName (Style ID: UName)')]\n"
          ],
          "name": "stdout"
        }
      ]
    },
    {
      "cell_type": "code",
      "metadata": {
        "id": "1R5RVJrAozES",
        "colab_type": "code",
        "colab": {
          "base_uri": "https://localhost:8080/",
          "height": 55
        },
        "outputId": "a6d59b6a-2d28-4c62-b685-a8f66609efac"
      },
      "source": [
        "with open(\"PwC Brief_with_testheaderfooter.docx\", \"rb\") as docx_file:\n",
        "    result = mammoth.convert_to_html(docx_file)   # returns a Result object\n",
        "    text = result.value.encode('utf-8') # The generated HTML\n",
        "    messages = result.messages # Any messages, such as warnings during conversion\n",
        "    print(\"messages: \", messages)\n",
        "\n",
        "    with open(\"mammoth_testhf.html\", \"wb\") as file:\n",
        "      \"\"\" add headers \"\"\"\n",
        "      for header in header4:\n",
        "        file.write(header.encode('utf-8'))\n",
        "        file.write('<br>'.encode('utf-8'))\n",
        "\n",
        "      file.write(text)\n",
        "\n",
        "      \"\"\" add footers \"\"\"\n",
        "      for footer in footer4:\n",
        "        file.write(footer.encode('utf-8'))\n",
        "        file.write('<br>'.encode('utf-8'))"
      ],
      "execution_count": null,
      "outputs": [
        {
          "output_type": "stream",
          "text": [
            "messages:  [Message(type='warning', message='An unrecognised element was ignored: office-word:anchorlock'), Message(type='warning', message='Unrecognised paragraph style: Betreff (Style ID: Betreff)'), Message(type='warning', message='Unrecognised paragraph style: UName (Style ID: UName)')]\n"
          ],
          "name": "stdout"
        }
      ]
    },
    {
      "cell_type": "markdown",
      "metadata": {
        "id": "TO3vgJkmTvpL",
        "colab_type": "text"
      },
      "source": [
        "# html by docx2python"
      ]
    },
    {
      "cell_type": "markdown",
      "metadata": {
        "id": "Kr65f4J3XYG0",
        "colab_type": "text"
      },
      "source": [
        "The html will contain weird matrices, the order of headers and footers are still reversed and all at the beginning/ in the end."
      ]
    },
    {
      "cell_type": "code",
      "metadata": {
        "id": "ofwzfVDaUI-T",
        "colab_type": "code",
        "colab": {}
      },
      "source": [
        "doc4_html = doc4.html_map.encode('utf-8')   # inplace=True"
      ],
      "execution_count": null,
      "outputs": []
    },
    {
      "cell_type": "code",
      "metadata": {
        "id": "liyvav_ST5CJ",
        "colab_type": "code",
        "colab": {}
      },
      "source": [
        "with open(\"html_docx2python.html\", \"wb\") as file:\n",
        "      file.write(doc4_html)"
      ],
      "execution_count": null,
      "outputs": []
    }
  ]
}